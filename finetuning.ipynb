{
 "cells": [
  {
   "cell_type": "code",
   "execution_count": 1,
   "metadata": {},
   "outputs": [],
   "source": [
    "from utils.model import PointNetClassification\n",
    "\n",
    "import torch\n",
    "import torch.nn as nn\n",
    "import os\n",
    "import numpy as np"
   ]
  },
  {
   "attachments": {},
   "cell_type": "markdown",
   "metadata": {},
   "source": [
    "## Data loader"
   ]
  },
  {
   "cell_type": "code",
   "execution_count": 2,
   "metadata": {},
   "outputs": [],
   "source": [
    "input_dir = 'DATA/MicroActivity3D'\n",
    "files = os.listdir(input_dir)"
   ]
  },
  {
   "cell_type": "code",
   "execution_count": 3,
   "metadata": {},
   "outputs": [],
   "source": [
    "# #行動にラベルを付与\n",
    "# from collections import defaultdict\n",
    "\n",
    "# label_dict = dict()\n",
    "# label_num = defaultdict(int)\n",
    "# class_set = set()\n",
    "# num_class = 0\n",
    "\n",
    "# for file in files:\n",
    "#     action = file[1:3]\n",
    "#     microactivity = action\n",
    "#     label_num[microactivity]+=1\n",
    "#     if microactivity not in class_set:\n",
    "#         label_dict[microactivity] = num_class\n",
    "#         num_class+=1\n",
    "#         class_set.add(microactivity)\n",
    "# print(label_dict)\n",
    "# print(label_num)"
   ]
  },
  {
   "cell_type": "code",
   "execution_count": 4,
   "metadata": {},
   "outputs": [
    {
     "name": "stdout",
     "output_type": "stream",
     "text": [
      "{'0302': 0, '0102': 1, '0301': 2, '0101': 3, '0303': 4, '0103': 5}\n",
      "defaultdict(<class 'int'>, {'0302': 42, '0102': 42, '0301': 38, '0101': 38, '0303': 25, '0103': 18})\n"
     ]
    }
   ],
   "source": [
    "#マイクロ行動にラベルを付与\n",
    "from collections import defaultdict\n",
    "\n",
    "label_dict = dict()\n",
    "label_num = defaultdict(int)\n",
    "class_set = set()\n",
    "num_class = 0\n",
    "\n",
    "for file in files:\n",
    "    action = file[1:3]\n",
    "    obj = file[5:7]\n",
    "    microactivity = action + obj\n",
    "    label_num[microactivity]+=1\n",
    "    if microactivity not in class_set:\n",
    "        label_dict[microactivity] = num_class\n",
    "        num_class+=1\n",
    "        class_set.add(microactivity)\n",
    "print(label_dict)\n",
    "print(label_num)"
   ]
  },
  {
   "cell_type": "code",
   "execution_count": 5,
   "metadata": {},
   "outputs": [],
   "source": [
    "import torch.utils.data as data\n",
    "\n",
    "class PointCloudDataset(data.Dataset):\n",
    "\n",
    "    def __init__(self,target_files,phase,transform,class_label):\n",
    "        self.transform=transform\n",
    "        self.class_label = class_label\n",
    "        self.target_files=target_files\n",
    "\n",
    "    def __len__(self):\n",
    "        return len(self.target_files)\n",
    "\n",
    "    def __getitem__(self,index):\n",
    "        pcd,one_hot = self.pull_item(index)\n",
    "        return pcd,one_hot\n",
    "\n",
    "    def pull_item(self,index):\n",
    "        self.path=self.target_files[index]\n",
    "\n",
    "        #label\n",
    "        label = int(self.class_label[self.path[1:3]+ self.path[5:7]]) # \n",
    "\n",
    "        #load_pcd\n",
    "        pcd = np.load('DATA/MicroActivity3D/' + self.path, allow_pickle=True)['arr_0']\n",
    "        pcd = torch.from_numpy(pcd.astype(np.float32)).clone()\n",
    "        pcd = torch.nn.functional.normalize(pcd, p=2.0, dim=0, eps=1e-12)\n",
    "        #pcd=self.transform(pcd)\n",
    "        return pcd, label"
   ]
  },
  {
   "cell_type": "code",
   "execution_count": 6,
   "metadata": {},
   "outputs": [],
   "source": [
    "n_samples = len(files)\n",
    "train_num = int(n_samples * 0.7)\n",
    "val_num = int(n_samples * 0.1)\n",
    "test_num = n_samples - train_num - val_num\n",
    "\n",
    "dataset = PointCloudDataset(target_files=files, phase='train', transform=None, class_label=label_dict)\n",
    "train_dataset, val_dataset, test_dataset = torch.utils.data.random_split(dataset, [train_num, val_num, test_num])"
   ]
  },
  {
   "attachments": {},
   "cell_type": "markdown",
   "metadata": {},
   "source": [
    "## model"
   ]
  },
  {
   "cell_type": "code",
   "execution_count": 7,
   "metadata": {},
   "outputs": [],
   "source": [
    "#modelをロード \n",
    "model_path = 'logs/log_MSR_classification/log_MSR_classificationmodel_000100.pth'\n",
    "model = PointNetClassification()\n",
    "model.load_state_dict(torch.load(model_path))\n",
    "\n",
    "#層を追加\n",
    "model.mlp3.add_module('9',torch.nn.Dropout(p=0.3, inplace=False))\n",
    "model.mlp3.add_module('10',nn.Linear(20,6))"
   ]
  },
  {
   "attachments": {},
   "cell_type": "markdown",
   "metadata": {},
   "source": [
    "## train-val"
   ]
  },
  {
   "cell_type": "code",
   "execution_count": 8,
   "metadata": {},
   "outputs": [
    {
     "name": "stderr",
     "output_type": "stream",
     "text": [
      "c:\\Users\\pei17\\Anaconda3\\envs\\pytorch1.12\\lib\\site-packages\\torch_geometric\\deprecation.py:12: UserWarning: 'data.DataLoader' is deprecated, use 'loader.DataLoader' instead\n",
      "  warnings.warn(out)\n"
     ]
    }
   ],
   "source": [
    "import torch\n",
    "from torch.utils.tensorboard import SummaryWriter\n",
    "from torch_geometric.data import DataLoader as DataLoader\n",
    "\n",
    "\n",
    "num_epoch = 100\n",
    "batch_size = 32\n",
    "\n",
    "device = torch.device(\"cuda:0\") if torch.cuda.is_available() else torch.device(\"cpu\")\n",
    "model = model.to(device)\n",
    "\n",
    "optimizer = torch.optim.Adam(lr=1e-4, params=model.parameters())\n",
    "scheduler = torch.optim.lr_scheduler.StepLR(optimizer, step_size=num_epoch // 4, gamma=0.5)\n",
    "\n",
    "log_dir = \"logs/log_MAR_classification\"\n",
    "#log_dir.mkdir(exist_ok=True)\n",
    "writer = SummaryWriter(log_dir=log_dir)\n",
    "\n",
    "train_dataloader = DataLoader(train_dataset, batch_size=batch_size, shuffle=True)\n",
    "val_dataloader = DataLoader(val_dataset, batch_size=batch_size, shuffle=False)\n",
    "test_dataloader = DataLoader(test_dataset, batch_size=batch_size, shuffle=False)\n",
    "\n",
    "criteria = torch.nn.CrossEntropyLoss()"
   ]
  },
  {
   "cell_type": "code",
   "execution_count": 9,
   "metadata": {},
   "outputs": [
    {
     "name": "stdout",
     "output_type": "stream",
     "text": [
      "epoch 0: train0.16901408450704225  val0.12195121951219512\n",
      "epoch 1: train0.16901408450704225  val0.0975609756097561\n",
      "epoch 2: train0.176056338028169  val0.1951219512195122\n",
      "epoch 3: train0.19718309859154928  val0.14634146341463414\n",
      "epoch 4: train0.2323943661971831  val0.17073170731707318\n",
      "epoch 5: train0.2323943661971831  val0.17073170731707318\n",
      "epoch 6: train0.2676056338028169  val0.1951219512195122\n",
      "epoch 7: train0.24647887323943662  val0.21951219512195122\n",
      "epoch 8: train0.28169014084507044  val0.12195121951219512\n",
      "epoch 9: train0.3380281690140845  val0.1951219512195122\n",
      "epoch 10: train0.352112676056338  val0.17073170731707318\n",
      "epoch 11: train0.34507042253521125  val0.14634146341463414\n",
      "epoch 12: train0.31690140845070425  val0.21951219512195122\n",
      "epoch 13: train0.323943661971831  val0.1951219512195122\n",
      "epoch 14: train0.323943661971831  val0.1951219512195122\n",
      "epoch 15: train0.3028169014084507  val0.14634146341463414\n",
      "epoch 16: train0.33098591549295775  val0.12195121951219512\n",
      "epoch 17: train0.2887323943661972  val0.12195121951219512\n",
      "epoch 18: train0.3380281690140845  val0.14634146341463414\n",
      "epoch 19: train0.3873239436619718  val0.24390243902439024\n",
      "epoch 20: train0.30985915492957744  val0.21951219512195122\n",
      "epoch 21: train0.3732394366197183  val0.21951219512195122\n",
      "epoch 22: train0.3732394366197183  val0.24390243902439024\n",
      "epoch 23: train0.3380281690140845  val0.24390243902439024\n",
      "epoch 24: train0.39436619718309857  val0.24390243902439024\n",
      "epoch 25: train0.352112676056338  val0.24390243902439024\n",
      "epoch 26: train0.3591549295774648  val0.1951219512195122\n",
      "epoch 27: train0.36619718309859156  val0.24390243902439024\n",
      "epoch 28: train0.30985915492957744  val0.21951219512195122\n",
      "epoch 29: train0.4295774647887324  val0.24390243902439024\n",
      "epoch 30: train0.39436619718309857  val0.24390243902439024\n",
      "epoch 31: train0.3732394366197183  val0.24390243902439024\n",
      "epoch 32: train0.36619718309859156  val0.24390243902439024\n",
      "epoch 33: train0.38028169014084506  val0.21951219512195122\n",
      "epoch 34: train0.352112676056338  val0.21951219512195122\n",
      "epoch 35: train0.4014084507042254  val0.21951219512195122\n",
      "epoch 36: train0.34507042253521125  val0.24390243902439024\n",
      "epoch 37: train0.31690140845070425  val0.2682926829268293\n",
      "epoch 38: train0.352112676056338  val0.24390243902439024\n",
      "epoch 39: train0.4014084507042254  val0.24390243902439024\n",
      "epoch 40: train0.3591549295774648  val0.21951219512195122\n",
      "epoch 41: train0.36619718309859156  val0.24390243902439024\n",
      "epoch 42: train0.33098591549295775  val0.24390243902439024\n",
      "epoch 43: train0.38028169014084506  val0.24390243902439024\n",
      "epoch 44: train0.352112676056338  val0.24390243902439024\n",
      "epoch 45: train0.4084507042253521  val0.21951219512195122\n",
      "epoch 46: train0.4014084507042254  val0.2682926829268293\n",
      "epoch 47: train0.36619718309859156  val0.24390243902439024\n",
      "epoch 48: train0.39436619718309857  val0.21951219512195122\n",
      "epoch 49: train0.4154929577464789  val0.21951219512195122\n",
      "epoch 50: train0.43661971830985913  val0.21951219512195122\n",
      "epoch 51: train0.4014084507042254  val0.24390243902439024\n",
      "epoch 52: train0.4014084507042254  val0.24390243902439024\n",
      "epoch 53: train0.4014084507042254  val0.1951219512195122\n",
      "epoch 54: train0.4084507042253521  val0.1951219512195122\n",
      "epoch 55: train0.3873239436619718  val0.21951219512195122\n",
      "epoch 56: train0.33098591549295775  val0.1951219512195122\n",
      "epoch 57: train0.4014084507042254  val0.21951219512195122\n",
      "epoch 58: train0.43661971830985913  val0.21951219512195122\n",
      "epoch 59: train0.4225352112676056  val0.24390243902439024\n",
      "epoch 60: train0.3732394366197183  val0.21951219512195122\n",
      "epoch 61: train0.3380281690140845  val0.24390243902439024\n",
      "epoch 62: train0.3380281690140845  val0.24390243902439024\n",
      "epoch 63: train0.3873239436619718  val0.21951219512195122\n",
      "epoch 64: train0.4014084507042254  val0.21951219512195122\n",
      "epoch 65: train0.3591549295774648  val0.21951219512195122\n",
      "epoch 66: train0.30985915492957744  val0.21951219512195122\n",
      "epoch 67: train0.3732394366197183  val0.21951219512195122\n",
      "epoch 68: train0.3732394366197183  val0.24390243902439024\n",
      "epoch 69: train0.4295774647887324  val0.24390243902439024\n",
      "epoch 70: train0.3591549295774648  val0.21951219512195122\n",
      "epoch 71: train0.4225352112676056  val0.24390243902439024\n",
      "epoch 72: train0.4084507042253521  val0.24390243902439024\n",
      "epoch 73: train0.3732394366197183  val0.2682926829268293\n",
      "epoch 74: train0.38028169014084506  val0.21951219512195122\n",
      "epoch 75: train0.39436619718309857  val0.24390243902439024\n",
      "epoch 76: train0.36619718309859156  val0.24390243902439024\n",
      "epoch 77: train0.4154929577464789  val0.24390243902439024\n",
      "epoch 78: train0.3873239436619718  val0.24390243902439024\n",
      "epoch 79: train0.33098591549295775  val0.24390243902439024\n",
      "epoch 80: train0.43661971830985913  val0.21951219512195122\n",
      "epoch 81: train0.49295774647887325  val0.24390243902439024\n",
      "epoch 82: train0.3380281690140845  val0.24390243902439024\n",
      "epoch 83: train0.4014084507042254  val0.24390243902439024\n",
      "epoch 84: train0.47183098591549294  val0.24390243902439024\n",
      "epoch 85: train0.34507042253521125  val0.24390243902439024\n",
      "epoch 86: train0.45774647887323944  val0.21951219512195122\n",
      "epoch 87: train0.4225352112676056  val0.21951219512195122\n",
      "epoch 88: train0.4014084507042254  val0.21951219512195122\n",
      "epoch 89: train0.36619718309859156  val0.21951219512195122\n",
      "epoch 90: train0.4014084507042254  val0.21951219512195122\n",
      "epoch 91: train0.4154929577464789  val0.24390243902439024\n",
      "epoch 92: train0.4084507042253521  val0.21951219512195122\n",
      "epoch 93: train0.3873239436619718  val0.21951219512195122\n",
      "epoch 94: train0.4084507042253521  val0.24390243902439024\n",
      "epoch 95: train0.33098591549295775  val0.24390243902439024\n",
      "epoch 96: train0.4154929577464789  val0.24390243902439024\n",
      "epoch 97: train0.4154929577464789  val0.24390243902439024\n",
      "epoch 98: train0.38028169014084506  val0.21951219512195122\n",
      "epoch 99: train0.3873239436619718  val0.24390243902439024\n"
     ]
    }
   ],
   "source": [
    "from tqdm import tqdm\n",
    "\n",
    "for epoch in range(num_epoch):\n",
    "    model = model.train()\n",
    "    \n",
    "    losses = []\n",
    "    for batch_data, y in train_dataloader:\n",
    "        this_batch_size =  len(y)\n",
    "\n",
    "        batch_label = torch.zeros([this_batch_size*1024])\n",
    "        for i in range(this_batch_size):\n",
    "            batch_label[1024 * i : 1024 * (i + 1)] = i\n",
    "\n",
    "        batch_data = batch_data.reshape((1024 * this_batch_size,3)).to(device)\n",
    "        batch_label = batch_label.type(torch.LongTensor).to(device)\n",
    "        pred_y, _, feature_transform = model(batch_data, batch_label)\n",
    "        true_y = y.detach().to(device)\n",
    "\n",
    "        class_loss = criteria(pred_y, true_y)\n",
    "        accuracy = float((pred_y.argmax(dim=1) == true_y).sum()) / float(this_batch_size)\n",
    "\n",
    "        id_matrix = torch.eye(feature_transform.shape[1]).to(feature_transform.device).view(1, 64, 64).repeat(feature_transform.shape[0], 1, 1)\n",
    "        transform_norm = torch.norm(torch.bmm(feature_transform, feature_transform.transpose(1, 2)) - id_matrix, dim=(1, 2))\n",
    "        reg_loss = transform_norm.mean()\n",
    "\n",
    "        loss = class_loss + reg_loss * 0.001\n",
    "        \n",
    "        losses.append({\n",
    "            \"loss\": loss.item(),\n",
    "            \"class_loss\": class_loss.item(),\n",
    "            \"reg_loss\": reg_loss.item(),\n",
    "            \"accuracy\": accuracy,\n",
    "            \"seen\": float(this_batch_size)})\n",
    "        \n",
    "        optimizer.zero_grad()\n",
    "        loss.backward()\n",
    "        optimizer.step()\n",
    "        scheduler.step()\n",
    "        \n",
    "    if (epoch % 50 == 0):\n",
    "        model_path = log_dir + f\"model_{epoch:06}.pth\"\n",
    "        torch.save(model.state_dict(), model_path)\n",
    "    \n",
    "    loss = 0\n",
    "    class_loss = 0\n",
    "    reg_loss = 0\n",
    "    accuracy = 0\n",
    "    seen = 0\n",
    "    for d in losses:\n",
    "        seen = seen + d[\"seen\"]\n",
    "        loss = loss + d[\"loss\"] * d[\"seen\"]\n",
    "        class_loss = class_loss + d[\"class_loss\"] * d[\"seen\"]\n",
    "        reg_loss = reg_loss + d[\"reg_loss\"] * d[\"seen\"]\n",
    "        accuracy = accuracy + d[\"accuracy\"] * d[\"seen\"]\n",
    "    loss = loss / seen\n",
    "    class_loss = class_loss / seen\n",
    "    reg_loss = reg_loss / seen\n",
    "    accuracy = accuracy / seen\n",
    "    taccuracy = accuracy\n",
    "    writer.add_scalar(\"train_epoch/loss\", loss, epoch)\n",
    "    writer.add_scalar(\"train_epoch/class_loss\", class_loss, epoch)\n",
    "    writer.add_scalar(\"train_epoch/reg_loss\", reg_loss, epoch)\n",
    "    writer.add_scalar(\"train_epoch/accuracy\", accuracy, epoch)\n",
    "    with torch.no_grad():\n",
    "        model = model.eval()\n",
    "\n",
    "        losses = []\n",
    "        for batch_data,y in test_dataloader:\n",
    "            this_batch_size =  len(y)\n",
    "\n",
    "            batch_label = torch.zeros([this_batch_size*1024])\n",
    "            for i in range(this_batch_size):\n",
    "                batch_label[1024 * i : 1024 * (i + 1)] = i\n",
    "\n",
    "            batch_data = batch_data.reshape((1024 * this_batch_size,3)).to(device)\n",
    "            batch_label = batch_label.type(torch.LongTensor).to(device)\n",
    "\n",
    "\n",
    "            pred_y, _, feature_transform = model(batch_data,batch_label)\n",
    "            true_y = y.detach().to(device)\n",
    "\n",
    "            class_loss = criteria(pred_y, true_y)\n",
    "            accuracy =float((pred_y.argmax(dim=1) == true_y).sum()) / float(this_batch_size)\n",
    "\n",
    "            id_matrix = torch.eye(feature_transform.shape[1]).to(feature_transform.device).view(1, 64, 64).repeat(feature_transform.shape[0], 1, 1)\n",
    "            transform_norm = torch.norm(torch.bmm(feature_transform, feature_transform.transpose(1, 2)) - id_matrix, dim=(1, 2))\n",
    "            reg_loss = transform_norm.mean()\n",
    "\n",
    "            loss = class_loss + reg_loss * 0.001\n",
    "\n",
    "            losses.append({\n",
    "                \"loss\": loss.item(),\n",
    "                \"class_loss\": class_loss.item(),\n",
    "                \"reg_loss\": reg_loss.item(),\n",
    "                \"accuracy\": accuracy,\n",
    "                \"seen\": float(this_batch_size)})\n",
    "            \n",
    "        loss = 0\n",
    "        class_loss = 0\n",
    "        reg_loss = 0\n",
    "        accuracy = 0\n",
    "        seen = 0\n",
    "        for d in losses:\n",
    "            seen = seen + d[\"seen\"]\n",
    "            loss = loss + d[\"loss\"] * d[\"seen\"]\n",
    "            class_loss = class_loss + d[\"class_loss\"] * d[\"seen\"]\n",
    "            reg_loss = reg_loss + d[\"reg_loss\"] * d[\"seen\"]\n",
    "            accuracy = accuracy + d[\"accuracy\"] * d[\"seen\"]\n",
    "        loss = loss / seen\n",
    "        class_loss = class_loss / seen\n",
    "        reg_loss = reg_loss / seen\n",
    "        accuracy = accuracy / seen\n",
    "        writer.add_scalar(\"test_epoch/loss\", loss, epoch)\n",
    "        writer.add_scalar(\"test_epoch/class_loss\", class_loss, epoch)\n",
    "        writer.add_scalar(\"test_epoch/reg_loss\", reg_loss, epoch)\n",
    "        writer.add_scalar(\"test_epoch/accuracy\", accuracy, epoch)\n",
    "\n",
    "        print(\"epoch {}: train{}  val{}\".format(epoch,taccuracy,accuracy))"
   ]
  },
  {
   "cell_type": "code",
   "execution_count": 10,
   "metadata": {},
   "outputs": [],
   "source": [
    "from sklearn.metrics import classification_report\n",
    "PY = []\n",
    "Y = []\n",
    "with torch.no_grad():\n",
    "    model = model.eval()\n",
    "\n",
    "    for batch_data,y in test_dataloader:\n",
    "        this_batch_size =  len(y)\n",
    "        batch_label = torch.zeros([this_batch_size*1024])\n",
    "        for i in range(this_batch_size):\n",
    "            batch_label[1024 * i : 1024 * (i + 1)] = i\n",
    "\n",
    "        batch_data = batch_data.reshape((1024 * this_batch_size,3)).to(device)\n",
    "        batch_label = batch_label.type(torch.LongTensor).to(device)\n",
    "\n",
    "        pred_y, _, feature_transform = model(batch_data,batch_label)\n",
    "        true_y = y.detach().to(device)\n",
    "\n",
    "        accuracy =float((pred_y.argmax(dim=1) == true_y).sum()) / float(this_batch_size)\n",
    "        PY.extend(pred_y.argmax(dim=1).to('cpu').detach().numpy().copy())\n",
    "        Y.extend(true_y.to('cpu').detach().numpy().copy())"
   ]
  },
  {
   "cell_type": "code",
   "execution_count": 11,
   "metadata": {},
   "outputs": [
    {
     "name": "stdout",
     "output_type": "stream",
     "text": [
      "              precision    recall  f1-score   support\n",
      "\n",
      "           0       0.50      0.44      0.47         9\n",
      "           1       0.20      0.25      0.22         8\n",
      "           2       0.25      0.50      0.33         6\n",
      "           3       0.12      0.12      0.12         8\n",
      "           4       0.00      0.00      0.00         4\n",
      "           5       0.00      0.00      0.00         6\n",
      "\n",
      "    accuracy                           0.24        41\n",
      "   macro avg       0.18      0.22      0.19        41\n",
      "weighted avg       0.21      0.24      0.22        41\n",
      "\n"
     ]
    }
   ],
   "source": [
    "from sklearn.metrics import classification_report\n",
    "\n",
    "print(classification_report(Y, PY))"
   ]
  },
  {
   "cell_type": "code",
   "execution_count": 14,
   "metadata": {},
   "outputs": [
    {
     "data": {
      "text/plain": [
       "Text(138.5, 0.5, 'True')"
      ]
     },
     "execution_count": 14,
     "metadata": {},
     "output_type": "execute_result"
    },
    {
     "data": {
      "image/png": "[encoded data removed]",
      "text/plain": [
       "<Figure size 1560x1200 with 2 Axes>"
      ]
     },
     "metadata": {},
     "output_type": "display_data"
    }
   ],
   "source": [
    "from sklearn.metrics import confusion_matrix\n",
    "import seaborn as sns\n",
    "import matplotlib.pyplot as plt\n",
    "\n",
    "cm = confusion_matrix(Y,PY)\n",
    "sns.set(font_scale=1.5)\n",
    "fig = plt.figure(figsize=(13, 10), dpi=120)\n",
    "sns.heatmap(cm,annot=True, cmap='Blues')\n",
    "plt.xlabel('Predict')\n",
    "plt.ylabel('True')"
   ]
  },
  {
   "cell_type": "code",
   "execution_count": null,
   "metadata": {},
   "outputs": [],
   "source": []
  }
 ],
 "metadata": {
  "kernelspec": {
   "display_name": "pytorch1.12",
   "language": "python",
   "name": "python3"
  },
  "language_info": {
   "codemirror_mode": {
    "name": "ipython",
    "version": 3
   },
   "file_extension": ".py",
   "mimetype": "text/x-python",
   "name": "python",
   "nbconvert_exporter": "python",
   "pygments_lexer": "ipython3",
   "version": "3.8.13"
  },
  "orig_nbformat": 4,
  "vscode": {
   "interpreter": {
    "hash": "8b1e03098cd11ada630e6c4a8e24a92c7d455a6424403563c9091df57e4a236a"
   }
  }
 },
 "nbformat": 4,
 "nbformat_minor": 2
}
