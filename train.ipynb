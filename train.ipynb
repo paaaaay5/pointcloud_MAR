{
 "cells": [
  {
   "attachments": {},
   "cell_type": "markdown",
   "metadata": {},
   "source": [
    "## Dataloader"
   ]
  },
  {
   "cell_type": "code",
   "execution_count": 1,
   "metadata": {},
   "outputs": [],
   "source": [
    "import numpy as np\n",
    "from tqdm import tqdm\n",
    "import torch\n",
    "import os"
   ]
  },
  {
   "cell_type": "code",
   "execution_count": 2,
   "metadata": {},
   "outputs": [],
   "source": [
    "import torch.utils.data as data\n",
    "\n",
    "class PointCloudDataset(data.Dataset):\n",
    "\n",
    "    def __init__(self,target_files,phase,transform):\n",
    "        self.transform=transform\n",
    "        self.target_files=target_files\n",
    "\n",
    "    def __len__(self):\n",
    "        return len(self.target_files)\n",
    "\n",
    "    def __getitem__(self,index):\n",
    "        pcd,one_hot = self.pull_item(index)\n",
    "        return pcd,one_hot\n",
    "\n",
    "    def pull_item(self,index):\n",
    "        self.path=self.target_files[index]\n",
    "\n",
    "        #label\n",
    "        label = int(self.path[2])\n",
    "\n",
    "        #load_pcd\n",
    "        pcd = np.load('DATA/MSRAction_npz_pp/' + self.path,allow_pickle=True)['point_clouds']\n",
    "        pcd = torch.from_numpy(pcd.astype(np.float32)).clone()\n",
    "        #pcd=self.transform(pcd)\n",
    "        return pcd, label"
   ]
  },
  {
   "cell_type": "code",
   "execution_count": 3,
   "metadata": {},
   "outputs": [],
   "source": [
    "input_dir = 'DATA/MSRAction_npz_pp'\n",
    "files = os.listdir(input_dir)\n",
    "\n",
    "train_files = [a for a in files if a[10] == '3']\n",
    "test_files = [a for a in files if a[10] != '3']"
   ]
  },
  {
   "cell_type": "code",
   "execution_count": 4,
   "metadata": {},
   "outputs": [],
   "source": [
    "n_samples = len(train_files)\n",
    "train_size = int(n_samples * 0.8)\n",
    "val_size = n_samples - train_size\n",
    "\n",
    "trainval_dataset = PointCloudDataset(target_files=train_files,phase='train',transform=None)\n",
    "train_dataset, val_dataset = torch.utils.data.random_split(trainval_dataset, [train_size,val_size])\n",
    "test_dataset = PointCloudDataset(target_files=test_files,phase='train',transform=None)"
   ]
  },
  {
   "attachments": {},
   "cell_type": "markdown",
   "metadata": {},
   "source": [
    "## MODEL"
   ]
  },
  {
   "cell_type": "code",
   "execution_count": 8,
   "metadata": {},
   "outputs": [],
   "source": [
    "from torch_geometric.nn import global_max_pool\n",
    "import torch.nn as nn"
   ]
  },
  {
   "cell_type": "code",
   "execution_count": 9,
   "metadata": {},
   "outputs": [],
   "source": [
    "class InputTNet(nn.Module):\n",
    "    def __init__(self):\n",
    "        super(InputTNet, self).__init__()\n",
    "        self.input_mlp = nn.Sequential(\n",
    "            nn.Linear(3, 64), nn.BatchNorm1d(64), nn.ReLU(),\n",
    "            nn.Linear(64, 128), nn.BatchNorm1d(128), nn.ReLU(),\n",
    "            nn.Linear(128, 1024), nn.BatchNorm1d(1024), nn.ReLU(),\n",
    "        )\n",
    "        self.output_mlp = nn.Sequential(\n",
    "            nn.Linear(1024, 512), nn.BatchNorm1d(512), nn.ReLU(),\n",
    "            nn.Linear(512, 256), nn.BatchNorm1d(256), nn.ReLU(),\n",
    "            nn.Linear(256, 9)\n",
    "        )\n",
    "        \n",
    "    def forward(self, x, batch):\n",
    "        x = self.input_mlp(x)\n",
    "        x = global_max_pool(x, batch)\n",
    "        x = self.output_mlp(x)\n",
    "        x = x.view(-1, 3, 3)\n",
    "        id_matrix = torch.eye(3).to(x.device).view(1, 3, 3).repeat(x.shape[0], 1, 1)\n",
    "        x = id_matrix + x\n",
    "        return x"
   ]
  },
  {
   "cell_type": "code",
   "execution_count": 10,
   "metadata": {},
   "outputs": [],
   "source": [
    "class FeatureTNet(nn.Module):\n",
    "    def __init__(self):\n",
    "        super(FeatureTNet, self).__init__()\n",
    "        self.input_mlp = nn.Sequential(\n",
    "            nn.Linear(64, 64), nn.BatchNorm1d(64), nn.ReLU(),\n",
    "            nn.Linear(64, 128), nn.BatchNorm1d(128), nn.ReLU(),\n",
    "            nn.Linear(128, 1024), nn.BatchNorm1d(1024), nn.ReLU(),\n",
    "        )\n",
    "        self.output_mlp = nn.Sequential(\n",
    "            nn.Linear(1024, 512), nn.BatchNorm1d(512), nn.ReLU(),\n",
    "            nn.Linear(512, 256), nn.BatchNorm1d(256), nn.ReLU(),\n",
    "            nn.Linear(256, 64*64)\n",
    "        )\n",
    "        \n",
    "    def forward(self, x, batch):\n",
    "        x = self.input_mlp(x)\n",
    "        x = global_max_pool(x, batch)\n",
    "        x = self.output_mlp(x)\n",
    "        x = x.view(-1, 64, 64)\n",
    "        id_matrix = torch.eye(64).to(x.device).view(1, 64, 64).repeat(x.shape[0], 1, 1)\n",
    "        x = id_matrix + x\n",
    "        return x"
   ]
  },
  {
   "cell_type": "code",
   "execution_count": 11,
   "metadata": {},
   "outputs": [],
   "source": [
    "class PointNetClassification(nn.Module):\n",
    "    def __init__(self):\n",
    "        super(PointNetClassification, self).__init__()\n",
    "        self.input_tnet = InputTNet()\n",
    "        self.mlp1 = nn.Sequential(\n",
    "            nn.Linear(3, 64), nn.BatchNorm1d(64), nn.ReLU(),\n",
    "            nn.Linear(64, 64), nn.BatchNorm1d(64), nn.ReLU(),\n",
    "        )\n",
    "        self.feature_tnet = FeatureTNet()\n",
    "        self.mlp2 = nn.Sequential(\n",
    "            nn.Linear(64, 64), nn.BatchNorm1d(64), nn.ReLU(),\n",
    "            nn.Linear(64, 128), nn.BatchNorm1d(128), nn.ReLU(),\n",
    "            nn.Linear(128, 1024), nn.BatchNorm1d(1024), nn.ReLU(),\n",
    "        )\n",
    "        self.mlp3 = nn.Sequential(\n",
    "            nn.Linear(1024, 512), nn.BatchNorm1d(512), nn.ReLU(), nn.Dropout(p=0.3),\n",
    "            nn.Linear(512, 256), nn.BatchNorm1d(256), nn.ReLU(), nn.Dropout(p=0.3),\n",
    "            nn.Linear(256, 20)\n",
    "        )\n",
    "        \n",
    "    def forward(self, batch_data,batch_label):\n",
    "        x = batch_data\n",
    "        input_transform = self.input_tnet(x, batch_label)\n",
    "        transform = input_transform[batch_label, :, :]\n",
    "        x = torch.bmm(transform, x.view(-1, 3, 1)).view(-1, 3)\n",
    "        \n",
    "        x = self.mlp1(x)\n",
    "        \n",
    "        feature_transform = self.feature_tnet(x, batch_label)\n",
    "        transform = feature_transform[batch_label, :, :]\n",
    "        x = torch.bmm(transform, x.view(-1, 64, 1)).view(-1, 64)\n",
    "\n",
    "        x = self.mlp2(x)        \n",
    "        x = global_max_pool(x,batch_label)\n",
    "        x = self.mlp3(x)\n",
    "        \n",
    "        return x, input_transform, feature_transform"
   ]
  },
  {
   "cell_type": "code",
   "execution_count": 13,
   "metadata": {},
   "outputs": [],
   "source": [
    "import torch\n",
    "from torch.utils.tensorboard import SummaryWriter\n",
    "from torch_geometric.data import DataLoader as DataLoader\n",
    "\n",
    "num_epoch = 400\n",
    "batch_size = 32\n",
    "\n",
    "device = torch.device(\"cuda:0\") if torch.cuda.is_available() else torch.device(\"cpu\")\n",
    "model = PointNetClassification()\n",
    "model = model.to(device)\n",
    "\n",
    "optimizer = torch.optim.Adam(lr=1e-4, params=model.parameters())\n",
    "scheduler = torch.optim.lr_scheduler.StepLR(optimizer, step_size=num_epoch // 4, gamma=0.5)\n",
    "\n",
    "log_dir = \"logs/log_MSR_classification\"\n",
    "#log_dir.mkdir(exist_ok=True)\n",
    "writer = SummaryWriter(log_dir=log_dir)\n",
    "\n",
    "train_dataloader = DataLoader(train_dataset, batch_size=batch_size, shuffle=True)\n",
    "test_dataloader = DataLoader(test_dataset, batch_size=batch_size, shuffle=False)\n",
    "\n",
    "criteria = torch.nn.CrossEntropyLoss()"
   ]
  },
  {
   "cell_type": "code",
   "execution_count": 14,
   "metadata": {},
   "outputs": [
    {
     "name": "stderr",
     "output_type": "stream",
     "text": [
      "100%|██████████| 5/5 [00:08<00:00,  1.64s/it]\n",
      "100%|██████████| 12/12 [00:03<00:00,  3.45it/s]\n",
      "  0%|          | 1/400 [00:11<1:18:00, 11.73s/it]"
     ]
    },
    {
     "name": "stdout",
     "output_type": "stream",
     "text": [
      "epoch 0: train0.04054054054054054  val0.0\n"
     ]
    },
    {
     "name": "stderr",
     "output_type": "stream",
     "text": [
      "100%|██████████| 5/5 [00:01<00:00,  3.06it/s]\n",
      "100%|██████████| 12/12 [00:02<00:00,  4.03it/s]\n",
      "  0%|          | 2/400 [00:16<50:05,  7.55s/it]  "
     ]
    },
    {
     "name": "stdout",
     "output_type": "stream",
     "text": [
      "epoch 1: train0.08108108108108109  val0.09947643979057591\n"
     ]
    },
    {
     "name": "stderr",
     "output_type": "stream",
     "text": [
      "100%|██████████| 5/5 [00:01<00:00,  4.58it/s]\n",
      "100%|██████████| 12/12 [00:03<00:00,  3.23it/s]\n",
      "  1%|          | 3/400 [00:21<41:41,  6.30s/it]"
     ]
    },
    {
     "name": "stdout",
     "output_type": "stream",
     "text": [
      "epoch 2: train0.10810810810810811  val0.08900523560209424\n"
     ]
    },
    {
     "name": "stderr",
     "output_type": "stream",
     "text": [
      "100%|██████████| 5/5 [00:01<00:00,  3.48it/s]\n",
      "100%|██████████| 12/12 [00:02<00:00,  5.15it/s]\n",
      "  1%|          | 4/400 [00:24<35:01,  5.31s/it]"
     ]
    },
    {
     "name": "stdout",
     "output_type": "stream",
     "text": [
      "epoch 3: train0.13513513513513514  val0.09162303664921466\n"
     ]
    },
    {
     "name": "stderr",
     "output_type": "stream",
     "text": [
      "100%|██████████| 5/5 [00:01<00:00,  3.53it/s]\n",
      "100%|██████████| 12/12 [00:03<00:00,  3.54it/s]\n",
      "  1%|▏         | 5/400 [00:29<33:47,  5.13s/it]"
     ]
    },
    {
     "name": "stdout",
     "output_type": "stream",
     "text": [
      "epoch 4: train0.13513513513513514  val0.07853403141361257\n"
     ]
    },
    {
     "name": "stderr",
     "output_type": "stream",
     "text": [
      "100%|██████████| 5/5 [00:01<00:00,  3.58it/s]\n",
      "100%|██████████| 12/12 [00:02<00:00,  5.57it/s]\n",
      "  2%|▏         | 6/400 [00:33<30:11,  4.60s/it]"
     ]
    },
    {
     "name": "stdout",
     "output_type": "stream",
     "text": [
      "epoch 5: train0.16216216216216217  val0.0968586387434555\n"
     ]
    },
    {
     "name": "stderr",
     "output_type": "stream",
     "text": [
      "100%|██████████| 5/5 [00:01<00:00,  4.42it/s]\n",
      "100%|██████████| 12/12 [00:03<00:00,  3.47it/s]\n",
      "  2%|▏         | 7/400 [00:37<30:07,  4.60s/it]"
     ]
    },
    {
     "name": "stdout",
     "output_type": "stream",
     "text": [
      "epoch 6: train0.23648648648648649  val0.12041884816753927\n"
     ]
    },
    {
     "name": "stderr",
     "output_type": "stream",
     "text": [
      "100%|██████████| 5/5 [00:01<00:00,  3.44it/s]\n",
      "100%|██████████| 12/12 [00:02<00:00,  5.07it/s]\n",
      "  2%|▏         | 8/400 [00:41<28:26,  4.35s/it]"
     ]
    },
    {
     "name": "stdout",
     "output_type": "stream",
     "text": [
      "epoch 7: train0.2702702702702703  val0.19109947643979058\n"
     ]
    },
    {
     "name": "stderr",
     "output_type": "stream",
     "text": [
      "100%|██████████| 5/5 [00:01<00:00,  4.55it/s]\n",
      "100%|██████████| 12/12 [00:03<00:00,  3.22it/s]\n",
      "  2%|▏         | 9/400 [00:46<29:21,  4.51s/it]"
     ]
    },
    {
     "name": "stdout",
     "output_type": "stream",
     "text": [
      "epoch 8: train0.24324324324324326  val0.22251308900523561\n"
     ]
    },
    {
     "name": "stderr",
     "output_type": "stream",
     "text": [
      "100%|██████████| 5/5 [00:01<00:00,  3.74it/s]\n",
      "100%|██████████| 12/12 [00:02<00:00,  4.86it/s]\n",
      "  2%|▎         | 10/400 [00:50<27:54,  4.29s/it]"
     ]
    },
    {
     "name": "stdout",
     "output_type": "stream",
     "text": [
      "epoch 9: train0.2702702702702703  val0.2801047120418848\n"
     ]
    },
    {
     "name": "stderr",
     "output_type": "stream",
     "text": [
      "100%|██████████| 5/5 [00:01<00:00,  3.50it/s]\n",
      "100%|██████████| 12/12 [00:03<00:00,  3.40it/s]\n",
      "  3%|▎         | 11/400 [00:55<29:09,  4.50s/it]"
     ]
    },
    {
     "name": "stdout",
     "output_type": "stream",
     "text": [
      "epoch 10: train0.34459459459459457  val0.31151832460732987\n"
     ]
    },
    {
     "name": "stderr",
     "output_type": "stream",
     "text": [
      "100%|██████████| 5/5 [00:00<00:00,  5.27it/s]\n",
      "100%|██████████| 12/12 [00:03<00:00,  3.80it/s]\n",
      "  3%|▎         | 12/400 [00:59<28:20,  4.38s/it]"
     ]
    },
    {
     "name": "stdout",
     "output_type": "stream",
     "text": [
      "epoch 11: train0.30405405405405406  val0.337696335078534\n"
     ]
    },
    {
     "name": "stderr",
     "output_type": "stream",
     "text": [
      "100%|██████████| 5/5 [00:01<00:00,  3.17it/s]\n",
      "100%|██████████| 12/12 [00:03<00:00,  3.96it/s]\n",
      "  3%|▎         | 13/400 [01:04<28:43,  4.45s/it]"
     ]
    },
    {
     "name": "stdout",
     "output_type": "stream",
     "text": [
      "epoch 12: train0.36486486486486486  val0.3481675392670157\n"
     ]
    },
    {
     "name": "stderr",
     "output_type": "stream",
     "text": [
      "100%|██████████| 5/5 [00:00<00:00,  6.10it/s]\n",
      "100%|██████████| 12/12 [00:03<00:00,  3.29it/s]\n",
      "  4%|▎         | 14/400 [01:08<28:42,  4.46s/it]"
     ]
    },
    {
     "name": "stdout",
     "output_type": "stream",
     "text": [
      "epoch 13: train0.33783783783783783  val0.3769633507853403\n"
     ]
    },
    {
     "name": "stderr",
     "output_type": "stream",
     "text": [
      "100%|██████████| 5/5 [00:01<00:00,  3.54it/s]\n",
      "100%|██████████| 12/12 [00:02<00:00,  5.35it/s]\n",
      "  4%|▍         | 15/400 [01:12<27:05,  4.22s/it]"
     ]
    },
    {
     "name": "stdout",
     "output_type": "stream",
     "text": [
      "epoch 14: train0.3783783783783784  val0.4005235602094241\n"
     ]
    },
    {
     "name": "stderr",
     "output_type": "stream",
     "text": [
      "100%|██████████| 5/5 [00:00<00:00,  5.38it/s]\n",
      "100%|██████████| 12/12 [00:03<00:00,  3.94it/s]\n",
      "  4%|▍         | 16/400 [01:16<26:33,  4.15s/it]"
     ]
    },
    {
     "name": "stdout",
     "output_type": "stream",
     "text": [
      "epoch 15: train0.43243243243243246  val0.4031413612565445\n"
     ]
    },
    {
     "name": "stderr",
     "output_type": "stream",
     "text": [
      "100%|██████████| 5/5 [00:01<00:00,  4.09it/s]\n",
      "100%|██████████| 12/12 [00:01<00:00,  7.07it/s]\n",
      "  4%|▍         | 17/400 [01:19<24:09,  3.78s/it]"
     ]
    },
    {
     "name": "stdout",
     "output_type": "stream",
     "text": [
      "epoch 16: train0.46621621621621623  val0.4397905759162304\n"
     ]
    },
    {
     "name": "stderr",
     "output_type": "stream",
     "text": [
      "100%|██████████| 5/5 [00:00<00:00,  5.55it/s]\n",
      "100%|██████████| 12/12 [00:02<00:00,  5.24it/s]\n",
      "  4%|▍         | 18/400 [01:22<22:58,  3.61s/it]"
     ]
    },
    {
     "name": "stdout",
     "output_type": "stream",
     "text": [
      "epoch 17: train0.4527027027027027  val0.4790575916230366\n"
     ]
    },
    {
     "name": "stderr",
     "output_type": "stream",
     "text": [
      "100%|██████████| 5/5 [00:01<00:00,  3.76it/s]\n",
      "100%|██████████| 12/12 [00:02<00:00,  5.21it/s]\n",
      "  5%|▍         | 19/400 [01:26<22:58,  3.62s/it]"
     ]
    },
    {
     "name": "stdout",
     "output_type": "stream",
     "text": [
      "epoch 18: train0.4594594594594595  val0.4712041884816754\n"
     ]
    },
    {
     "name": "stderr",
     "output_type": "stream",
     "text": [
      "100%|██████████| 5/5 [00:00<00:00,  7.19it/s]\n",
      "100%|██████████| 12/12 [00:02<00:00,  5.93it/s]\n",
      "  5%|▌         | 20/400 [01:28<21:13,  3.35s/it]"
     ]
    },
    {
     "name": "stdout",
     "output_type": "stream",
     "text": [
      "epoch 19: train0.5405405405405406  val0.5026178010471204\n"
     ]
    },
    {
     "name": "stderr",
     "output_type": "stream",
     "text": [
      "100%|██████████| 5/5 [00:01<00:00,  3.49it/s]\n",
      "100%|██████████| 12/12 [00:03<00:00,  3.72it/s]\n",
      "  5%|▌         | 21/400 [01:33<23:40,  3.75s/it]"
     ]
    },
    {
     "name": "stdout",
     "output_type": "stream",
     "text": [
      "epoch 20: train0.581081081081081  val0.5078534031413613\n"
     ]
    },
    {
     "name": "stderr",
     "output_type": "stream",
     "text": [
      "100%|██████████| 5/5 [00:00<00:00,  7.05it/s]\n",
      "100%|██████████| 12/12 [00:02<00:00,  4.93it/s]\n",
      "  6%|▌         | 22/400 [01:36<22:29,  3.57s/it]"
     ]
    },
    {
     "name": "stdout",
     "output_type": "stream",
     "text": [
      "epoch 21: train0.5  val0.5052356020942408\n"
     ]
    },
    {
     "name": "stderr",
     "output_type": "stream",
     "text": [
      "100%|██████████| 5/5 [00:01<00:00,  3.73it/s]\n",
      "100%|██████████| 12/12 [00:03<00:00,  3.28it/s]\n",
      "  6%|▌         | 23/400 [01:41<25:08,  4.00s/it]"
     ]
    },
    {
     "name": "stdout",
     "output_type": "stream",
     "text": [
      "epoch 22: train0.5202702702702703  val0.5287958115183246\n"
     ]
    },
    {
     "name": "stderr",
     "output_type": "stream",
     "text": [
      "100%|██████████| 5/5 [00:00<00:00,  5.95it/s]\n",
      "100%|██████████| 12/12 [00:03<00:00,  3.76it/s]\n",
      "  6%|▌         | 24/400 [01:45<25:09,  4.02s/it]"
     ]
    },
    {
     "name": "stdout",
     "output_type": "stream",
     "text": [
      "epoch 23: train0.5945945945945946  val0.5418848167539267\n"
     ]
    },
    {
     "name": "stderr",
     "output_type": "stream",
     "text": [
      "100%|██████████| 5/5 [00:01<00:00,  3.24it/s]\n",
      "100%|██████████| 12/12 [00:03<00:00,  3.93it/s]\n",
      "  6%|▋         | 25/400 [01:50<26:11,  4.19s/it]"
     ]
    },
    {
     "name": "stdout",
     "output_type": "stream",
     "text": [
      "epoch 24: train0.5405405405405406  val0.56282722513089\n"
     ]
    },
    {
     "name": "stderr",
     "output_type": "stream",
     "text": [
      "100%|██████████| 5/5 [00:00<00:00,  5.21it/s]\n",
      "100%|██████████| 12/12 [00:03<00:00,  3.22it/s]\n",
      "  6%|▋         | 26/400 [01:54<27:04,  4.34s/it]"
     ]
    },
    {
     "name": "stdout",
     "output_type": "stream",
     "text": [
      "epoch 25: train0.5945945945945946  val0.5785340314136126\n"
     ]
    },
    {
     "name": "stderr",
     "output_type": "stream",
     "text": [
      "100%|██████████| 5/5 [00:01<00:00,  3.35it/s]\n",
      "100%|██████████| 12/12 [00:02<00:00,  4.70it/s]\n",
      "  7%|▋         | 27/400 [01:58<26:28,  4.26s/it]"
     ]
    },
    {
     "name": "stdout",
     "output_type": "stream",
     "text": [
      "epoch 26: train0.5945945945945946  val0.5785340314136126\n"
     ]
    },
    {
     "name": "stderr",
     "output_type": "stream",
     "text": [
      "100%|██████████| 5/5 [00:01<00:00,  3.42it/s]\n",
      "100%|██████████| 12/12 [00:03<00:00,  3.25it/s]\n",
      "  7%|▋         | 28/400 [02:04<28:04,  4.53s/it]"
     ]
    },
    {
     "name": "stdout",
     "output_type": "stream",
     "text": [
      "epoch 27: train0.6486486486486487  val0.5890052356020943\n"
     ]
    },
    {
     "name": "stderr",
     "output_type": "stream",
     "text": [
      "100%|██████████| 5/5 [00:01<00:00,  3.45it/s]\n",
      "100%|██████████| 12/12 [00:02<00:00,  5.23it/s]\n",
      "  7%|▋         | 29/400 [02:07<26:33,  4.30s/it]"
     ]
    },
    {
     "name": "stdout",
     "output_type": "stream",
     "text": [
      "epoch 28: train0.6283783783783784  val0.5680628272251309\n"
     ]
    },
    {
     "name": "stderr",
     "output_type": "stream",
     "text": [
      "100%|██████████| 5/5 [00:01<00:00,  4.50it/s]\n",
      "100%|██████████| 12/12 [00:03<00:00,  3.29it/s]\n",
      "  8%|▊         | 30/400 [02:12<27:21,  4.44s/it]"
     ]
    },
    {
     "name": "stdout",
     "output_type": "stream",
     "text": [
      "epoch 29: train0.6756756756756757  val0.5759162303664922\n"
     ]
    },
    {
     "name": "stderr",
     "output_type": "stream",
     "text": [
      "100%|██████████| 5/5 [00:01<00:00,  3.72it/s]\n",
      "100%|██████████| 12/12 [00:02<00:00,  4.47it/s]\n",
      "  8%|▊         | 31/400 [02:16<26:33,  4.32s/it]"
     ]
    },
    {
     "name": "stdout",
     "output_type": "stream",
     "text": [
      "epoch 30: train0.6283783783783784  val0.599476439790576\n"
     ]
    },
    {
     "name": "stderr",
     "output_type": "stream",
     "text": [
      "100%|██████████| 5/5 [00:01<00:00,  3.13it/s]\n",
      "100%|██████████| 12/12 [00:03<00:00,  3.55it/s]\n",
      "  8%|▊         | 32/400 [02:21<27:43,  4.52s/it]"
     ]
    },
    {
     "name": "stdout",
     "output_type": "stream",
     "text": [
      "epoch 31: train0.6891891891891891  val0.6204188481675392\n"
     ]
    },
    {
     "name": "stderr",
     "output_type": "stream",
     "text": [
      "100%|██████████| 5/5 [00:01<00:00,  4.20it/s]\n",
      "100%|██████████| 12/12 [00:03<00:00,  3.22it/s]\n",
      "  8%|▊         | 33/400 [02:26<28:23,  4.64s/it]"
     ]
    },
    {
     "name": "stdout",
     "output_type": "stream",
     "text": [
      "epoch 32: train0.6486486486486487  val0.6308900523560209\n"
     ]
    },
    {
     "name": "stderr",
     "output_type": "stream",
     "text": [
      "100%|██████████| 5/5 [00:01<00:00,  3.56it/s]\n",
      "100%|██████████| 12/12 [00:02<00:00,  4.15it/s]\n",
      "  8%|▊         | 34/400 [02:30<27:42,  4.54s/it]"
     ]
    },
    {
     "name": "stdout",
     "output_type": "stream",
     "text": [
      "epoch 33: train0.7094594594594594  val0.6230366492146597\n"
     ]
    },
    {
     "name": "stderr",
     "output_type": "stream",
     "text": [
      "100%|██████████| 5/5 [00:01<00:00,  3.27it/s]\n",
      "100%|██████████| 12/12 [00:03<00:00,  3.42it/s]\n",
      "  9%|▉         | 35/400 [02:35<28:33,  4.69s/it]"
     ]
    },
    {
     "name": "stdout",
     "output_type": "stream",
     "text": [
      "epoch 34: train0.6418918918918919  val0.6073298429319371\n"
     ]
    },
    {
     "name": "stderr",
     "output_type": "stream",
     "text": [
      "100%|██████████| 5/5 [00:00<00:00,  7.29it/s]\n",
      "100%|██████████| 12/12 [00:03<00:00,  3.43it/s]\n",
      "  9%|▉         | 36/400 [02:40<27:33,  4.54s/it]"
     ]
    },
    {
     "name": "stdout",
     "output_type": "stream",
     "text": [
      "epoch 35: train0.722972972972973  val0.6282722513089005\n"
     ]
    },
    {
     "name": "stderr",
     "output_type": "stream",
     "text": [
      "100%|██████████| 5/5 [00:01<00:00,  3.26it/s]\n",
      "100%|██████████| 12/12 [00:02<00:00,  4.39it/s]\n",
      "  9%|▉         | 37/400 [02:44<27:00,  4.46s/it]"
     ]
    },
    {
     "name": "stdout",
     "output_type": "stream",
     "text": [
      "epoch 36: train0.7364864864864865  val0.6361256544502618\n"
     ]
    },
    {
     "name": "stderr",
     "output_type": "stream",
     "text": [
      "100%|██████████| 5/5 [00:01<00:00,  4.11it/s]\n",
      "100%|██████████| 12/12 [00:03<00:00,  3.43it/s]\n",
      " 10%|▉         | 38/400 [02:49<27:24,  4.54s/it]"
     ]
    },
    {
     "name": "stdout",
     "output_type": "stream",
     "text": [
      "epoch 37: train0.6756756756756757  val0.6099476439790575\n"
     ]
    },
    {
     "name": "stderr",
     "output_type": "stream",
     "text": [
      "100%|██████████| 5/5 [00:01<00:00,  3.44it/s]\n",
      "100%|██████████| 12/12 [00:02<00:00,  5.34it/s]\n",
      " 10%|▉         | 39/400 [02:52<25:50,  4.29s/it]"
     ]
    },
    {
     "name": "stdout",
     "output_type": "stream",
     "text": [
      "epoch 38: train0.7702702702702703  val0.6361256544502618\n"
     ]
    },
    {
     "name": "stderr",
     "output_type": "stream",
     "text": [
      "100%|██████████| 5/5 [00:01<00:00,  3.44it/s]\n",
      "100%|██████████| 12/12 [00:03<00:00,  3.72it/s]\n",
      " 10%|█         | 40/400 [02:57<26:28,  4.41s/it]"
     ]
    },
    {
     "name": "stdout",
     "output_type": "stream",
     "text": [
      "epoch 39: train0.7432432432432432  val0.6099476439790575\n"
     ]
    },
    {
     "name": "stderr",
     "output_type": "stream",
     "text": [
      "100%|██████████| 5/5 [00:01<00:00,  3.36it/s]\n",
      "100%|██████████| 12/12 [00:02<00:00,  5.51it/s]\n",
      " 10%|█         | 41/400 [03:01<25:04,  4.19s/it]"
     ]
    },
    {
     "name": "stdout",
     "output_type": "stream",
     "text": [
      "epoch 40: train0.7635135135135135  val0.6204188481675392\n"
     ]
    },
    {
     "name": "stderr",
     "output_type": "stream",
     "text": [
      "100%|██████████| 5/5 [00:01<00:00,  4.12it/s]\n",
      "100%|██████████| 12/12 [00:03<00:00,  3.42it/s]\n",
      " 10%|█         | 42/400 [03:05<25:58,  4.35s/it]"
     ]
    },
    {
     "name": "stdout",
     "output_type": "stream",
     "text": [
      "epoch 41: train0.7905405405405406  val0.643979057591623\n"
     ]
    },
    {
     "name": "stderr",
     "output_type": "stream",
     "text": [
      "100%|██████████| 5/5 [00:01<00:00,  3.39it/s]\n",
      "100%|██████████| 12/12 [00:02<00:00,  5.22it/s]\n",
      " 11%|█         | 43/400 [03:09<24:53,  4.18s/it]"
     ]
    },
    {
     "name": "stdout",
     "output_type": "stream",
     "text": [
      "epoch 42: train0.7094594594594594  val0.6675392670157068\n"
     ]
    },
    {
     "name": "stderr",
     "output_type": "stream",
     "text": [
      "100%|██████████| 5/5 [00:01<00:00,  4.47it/s]\n",
      "100%|██████████| 12/12 [00:03<00:00,  3.27it/s]\n",
      " 11%|█         | 44/400 [03:14<25:54,  4.37s/it]"
     ]
    },
    {
     "name": "stdout",
     "output_type": "stream",
     "text": [
      "epoch 43: train0.8040540540540541  val0.675392670157068\n"
     ]
    },
    {
     "name": "stderr",
     "output_type": "stream",
     "text": [
      "100%|██████████| 5/5 [00:01<00:00,  3.58it/s]\n",
      "100%|██████████| 12/12 [00:02<00:00,  4.57it/s]\n",
      " 11%|█▏        | 45/400 [03:18<25:14,  4.27s/it]"
     ]
    },
    {
     "name": "stdout",
     "output_type": "stream",
     "text": [
      "epoch 44: train0.7702702702702703  val0.680628272251309\n"
     ]
    },
    {
     "name": "stderr",
     "output_type": "stream",
     "text": [
      "100%|██████████| 5/5 [00:01<00:00,  3.29it/s]\n",
      "100%|██████████| 12/12 [00:02<00:00,  4.82it/s]\n",
      " 12%|█▏        | 46/400 [03:22<24:43,  4.19s/it]"
     ]
    },
    {
     "name": "stdout",
     "output_type": "stream",
     "text": [
      "epoch 45: train0.7837837837837838  val0.6858638743455497\n"
     ]
    },
    {
     "name": "stderr",
     "output_type": "stream",
     "text": [
      "100%|██████████| 5/5 [00:01<00:00,  3.49it/s]\n",
      "100%|██████████| 12/12 [00:03<00:00,  3.42it/s]\n",
      " 12%|█▏        | 47/400 [03:27<26:00,  4.42s/it]"
     ]
    },
    {
     "name": "stdout",
     "output_type": "stream",
     "text": [
      "epoch 46: train0.831081081081081  val0.7041884816753927\n"
     ]
    },
    {
     "name": "stderr",
     "output_type": "stream",
     "text": [
      "100%|██████████| 5/5 [00:01<00:00,  3.34it/s]\n",
      "100%|██████████| 12/12 [00:02<00:00,  5.53it/s]\n",
      " 12%|█▏        | 48/400 [03:31<24:37,  4.20s/it]"
     ]
    },
    {
     "name": "stdout",
     "output_type": "stream",
     "text": [
      "epoch 47: train0.777027027027027  val0.7172774869109948\n"
     ]
    },
    {
     "name": "stderr",
     "output_type": "stream",
     "text": [
      "100%|██████████| 5/5 [00:01<00:00,  3.97it/s]\n",
      "100%|██████████| 12/12 [00:03<00:00,  3.39it/s]\n",
      " 12%|█▏        | 49/400 [03:36<25:37,  4.38s/it]"
     ]
    },
    {
     "name": "stdout",
     "output_type": "stream",
     "text": [
      "epoch 48: train0.7837837837837838  val0.7172774869109948\n"
     ]
    },
    {
     "name": "stderr",
     "output_type": "stream",
     "text": [
      "100%|██████████| 5/5 [00:01<00:00,  3.36it/s]\n",
      "100%|██████████| 12/12 [00:02<00:00,  4.94it/s]\n",
      " 12%|█▎        | 50/400 [03:39<24:45,  4.24s/it]"
     ]
    },
    {
     "name": "stdout",
     "output_type": "stream",
     "text": [
      "epoch 49: train0.8108108108108109  val0.7015706806282722\n"
     ]
    },
    {
     "name": "stderr",
     "output_type": "stream",
     "text": [
      "100%|██████████| 5/5 [00:01<00:00,  4.15it/s]\n",
      "100%|██████████| 12/12 [00:03<00:00,  3.24it/s]\n",
      " 13%|█▎        | 51/400 [03:44<25:59,  4.47s/it]"
     ]
    },
    {
     "name": "stdout",
     "output_type": "stream",
     "text": [
      "epoch 50: train0.8445945945945946  val0.7041884816753927\n"
     ]
    },
    {
     "name": "stderr",
     "output_type": "stream",
     "text": [
      "100%|██████████| 5/5 [00:01<00:00,  4.08it/s]\n",
      "100%|██████████| 12/12 [00:02<00:00,  4.20it/s]\n",
      " 13%|█▎        | 52/400 [03:49<25:15,  4.35s/it]"
     ]
    },
    {
     "name": "stdout",
     "output_type": "stream",
     "text": [
      "epoch 51: train0.7702702702702703  val0.6910994764397905\n"
     ]
    },
    {
     "name": "stderr",
     "output_type": "stream",
     "text": [
      "100%|██████████| 5/5 [00:01<00:00,  3.09it/s]\n",
      "100%|██████████| 12/12 [00:03<00:00,  3.56it/s]\n",
      " 13%|█▎        | 53/400 [03:54<26:17,  4.55s/it]"
     ]
    },
    {
     "name": "stdout",
     "output_type": "stream",
     "text": [
      "epoch 52: train0.777027027027027  val0.6832460732984293\n"
     ]
    },
    {
     "name": "stderr",
     "output_type": "stream",
     "text": [
      "100%|██████████| 5/5 [00:00<00:00,  6.02it/s]\n",
      "100%|██████████| 12/12 [00:03<00:00,  3.22it/s]\n",
      " 14%|█▎        | 54/400 [03:58<26:14,  4.55s/it]"
     ]
    },
    {
     "name": "stdout",
     "output_type": "stream",
     "text": [
      "epoch 53: train0.8648648648648649  val0.6518324607329843\n"
     ]
    },
    {
     "name": "stderr",
     "output_type": "stream",
     "text": [
      "100%|██████████| 5/5 [00:01<00:00,  3.30it/s]\n",
      "100%|██████████| 12/12 [00:02<00:00,  4.59it/s]\n",
      " 14%|█▍        | 55/400 [04:02<25:27,  4.43s/it]"
     ]
    },
    {
     "name": "stdout",
     "output_type": "stream",
     "text": [
      "epoch 54: train0.8243243243243243  val0.6492146596858639\n"
     ]
    },
    {
     "name": "stderr",
     "output_type": "stream",
     "text": [
      "100%|██████████| 5/5 [00:01<00:00,  3.50it/s]\n",
      "100%|██████████| 12/12 [00:03<00:00,  3.22it/s]\n",
      " 14%|█▍        | 56/400 [04:07<26:39,  4.65s/it]"
     ]
    },
    {
     "name": "stdout",
     "output_type": "stream",
     "text": [
      "epoch 55: train0.7635135135135135  val0.6884816753926701\n"
     ]
    },
    {
     "name": "stderr",
     "output_type": "stream",
     "text": [
      "100%|██████████| 5/5 [00:01<00:00,  3.40it/s]\n",
      "100%|██████████| 12/12 [00:02<00:00,  5.21it/s]\n",
      " 14%|█▍        | 57/400 [04:11<25:05,  4.39s/it]"
     ]
    },
    {
     "name": "stdout",
     "output_type": "stream",
     "text": [
      "epoch 56: train0.777027027027027  val0.7068062827225131\n"
     ]
    },
    {
     "name": "stderr",
     "output_type": "stream",
     "text": [
      "100%|██████████| 5/5 [00:01<00:00,  4.18it/s]\n",
      "100%|██████████| 12/12 [00:03<00:00,  3.21it/s]\n",
      " 14%|█▍        | 58/400 [04:16<25:57,  4.55s/it]"
     ]
    },
    {
     "name": "stdout",
     "output_type": "stream",
     "text": [
      "epoch 57: train0.8445945945945946  val0.7172774869109948\n"
     ]
    },
    {
     "name": "stderr",
     "output_type": "stream",
     "text": [
      "100%|██████████| 5/5 [00:01<00:00,  3.64it/s]\n",
      "100%|██████████| 12/12 [00:02<00:00,  4.52it/s]\n",
      " 15%|█▍        | 59/400 [04:20<25:00,  4.40s/it]"
     ]
    },
    {
     "name": "stdout",
     "output_type": "stream",
     "text": [
      "epoch 58: train0.8581081081081081  val0.7225130890052356\n"
     ]
    },
    {
     "name": "stderr",
     "output_type": "stream",
     "text": [
      "100%|██████████| 5/5 [00:01<00:00,  3.20it/s]\n",
      "100%|██████████| 12/12 [00:02<00:00,  4.64it/s]\n",
      " 15%|█▌        | 60/400 [04:24<24:31,  4.33s/it]"
     ]
    },
    {
     "name": "stdout",
     "output_type": "stream",
     "text": [
      "epoch 59: train0.7702702702702703  val0.7146596858638743\n"
     ]
    },
    {
     "name": "stderr",
     "output_type": "stream",
     "text": [
      "100%|██████████| 5/5 [00:01<00:00,  3.74it/s]\n",
      "100%|██████████| 12/12 [00:03<00:00,  3.35it/s]\n",
      " 15%|█▌        | 61/400 [04:29<25:27,  4.51s/it]"
     ]
    },
    {
     "name": "stdout",
     "output_type": "stream",
     "text": [
      "epoch 60: train0.7837837837837838  val0.7225130890052356\n"
     ]
    },
    {
     "name": "stderr",
     "output_type": "stream",
     "text": [
      "100%|██████████| 5/5 [00:01<00:00,  3.38it/s]\n",
      "100%|██████████| 12/12 [00:02<00:00,  5.17it/s]\n",
      " 16%|█▌        | 62/400 [04:33<24:12,  4.30s/it]"
     ]
    },
    {
     "name": "stdout",
     "output_type": "stream",
     "text": [
      "epoch 61: train0.8918918918918919  val0.7329842931937173\n"
     ]
    },
    {
     "name": "stderr",
     "output_type": "stream",
     "text": [
      "100%|██████████| 5/5 [00:01<00:00,  4.38it/s]\n",
      "100%|██████████| 12/12 [00:03<00:00,  3.27it/s]\n",
      " 16%|█▌        | 63/400 [04:38<25:01,  4.46s/it]"
     ]
    },
    {
     "name": "stdout",
     "output_type": "stream",
     "text": [
      "epoch 62: train0.8513513513513513  val0.7303664921465969\n"
     ]
    },
    {
     "name": "stderr",
     "output_type": "stream",
     "text": [
      "100%|██████████| 5/5 [00:01<00:00,  3.43it/s]\n",
      "100%|██████████| 12/12 [00:02<00:00,  4.91it/s]\n",
      " 16%|█▌        | 64/400 [04:42<24:02,  4.29s/it]"
     ]
    },
    {
     "name": "stdout",
     "output_type": "stream",
     "text": [
      "epoch 63: train0.8851351351351351  val0.725130890052356\n"
     ]
    },
    {
     "name": "stderr",
     "output_type": "stream",
     "text": [
      "100%|██████████| 5/5 [00:01<00:00,  4.09it/s]\n",
      "100%|██████████| 12/12 [00:03<00:00,  3.21it/s]\n",
      " 16%|█▋        | 65/400 [04:47<25:06,  4.50s/it]"
     ]
    },
    {
     "name": "stdout",
     "output_type": "stream",
     "text": [
      "epoch 64: train0.8648648648648649  val0.7408376963350786\n"
     ]
    },
    {
     "name": "stderr",
     "output_type": "stream",
     "text": [
      "100%|██████████| 5/5 [00:01<00:00,  4.76it/s]\n",
      "100%|██████████| 12/12 [00:03<00:00,  3.75it/s]\n",
      " 16%|█▋        | 66/400 [04:51<24:38,  4.43s/it]"
     ]
    },
    {
     "name": "stdout",
     "output_type": "stream",
     "text": [
      "epoch 65: train0.8445945945945946  val0.7408376963350786\n"
     ]
    },
    {
     "name": "stderr",
     "output_type": "stream",
     "text": [
      "100%|██████████| 5/5 [00:01<00:00,  3.17it/s]\n",
      "100%|██████████| 12/12 [00:03<00:00,  3.87it/s]\n",
      " 17%|█▋        | 67/400 [04:56<25:00,  4.51s/it]"
     ]
    },
    {
     "name": "stdout",
     "output_type": "stream",
     "text": [
      "epoch 66: train0.8513513513513513  val0.743455497382199\n"
     ]
    },
    {
     "name": "stderr",
     "output_type": "stream",
     "text": [
      "100%|██████████| 5/5 [00:00<00:00,  5.15it/s]\n",
      "100%|██████████| 12/12 [00:03<00:00,  3.25it/s]\n",
      " 17%|█▋        | 68/400 [05:00<25:12,  4.56s/it]"
     ]
    },
    {
     "name": "stdout",
     "output_type": "stream",
     "text": [
      "epoch 67: train0.8581081081081081  val0.7513089005235603\n"
     ]
    },
    {
     "name": "stderr",
     "output_type": "stream",
     "text": [
      "100%|██████████| 5/5 [00:01<00:00,  3.35it/s]\n",
      "100%|██████████| 12/12 [00:02<00:00,  4.90it/s]\n",
      " 17%|█▋        | 69/400 [05:04<24:07,  4.37s/it]"
     ]
    },
    {
     "name": "stdout",
     "output_type": "stream",
     "text": [
      "epoch 68: train0.918918918918919  val0.7486910994764397\n"
     ]
    },
    {
     "name": "stderr",
     "output_type": "stream",
     "text": [
      "100%|██████████| 5/5 [00:01<00:00,  3.44it/s]\n",
      "100%|██████████| 12/12 [00:03<00:00,  3.32it/s]\n",
      " 18%|█▊        | 70/400 [05:09<25:12,  4.58s/it]"
     ]
    },
    {
     "name": "stdout",
     "output_type": "stream",
     "text": [
      "epoch 69: train0.8648648648648649  val0.7591623036649214\n"
     ]
    },
    {
     "name": "stderr",
     "output_type": "stream",
     "text": [
      "100%|██████████| 5/5 [00:01<00:00,  3.27it/s]\n",
      "100%|██████████| 12/12 [00:02<00:00,  4.92it/s]\n",
      " 18%|█▊        | 71/400 [05:13<24:07,  4.40s/it]"
     ]
    },
    {
     "name": "stdout",
     "output_type": "stream",
     "text": [
      "epoch 70: train0.918918918918919  val0.7460732984293194\n"
     ]
    },
    {
     "name": "stderr",
     "output_type": "stream",
     "text": [
      "100%|██████████| 5/5 [00:01<00:00,  4.20it/s]\n",
      "100%|██████████| 12/12 [00:03<00:00,  3.36it/s]\n",
      " 18%|█▊        | 72/400 [05:18<24:40,  4.51s/it]"
     ]
    },
    {
     "name": "stdout",
     "output_type": "stream",
     "text": [
      "epoch 71: train0.8986486486486487  val0.7382198952879581\n"
     ]
    },
    {
     "name": "stderr",
     "output_type": "stream",
     "text": [
      "100%|██████████| 5/5 [00:01<00:00,  4.12it/s]\n",
      "100%|██████████| 12/12 [00:02<00:00,  5.06it/s]\n",
      " 18%|█▊        | 73/400 [05:22<23:05,  4.24s/it]"
     ]
    },
    {
     "name": "stdout",
     "output_type": "stream",
     "text": [
      "epoch 72: train0.8918918918918919  val0.7513089005235603\n"
     ]
    },
    {
     "name": "stderr",
     "output_type": "stream",
     "text": [
      "100%|██████████| 5/5 [00:01<00:00,  3.94it/s]\n",
      "100%|██████████| 12/12 [00:03<00:00,  3.46it/s]\n",
      " 18%|█▊        | 74/400 [05:27<23:50,  4.39s/it]"
     ]
    },
    {
     "name": "stdout",
     "output_type": "stream",
     "text": [
      "epoch 73: train0.9054054054054054  val0.7617801047120419\n"
     ]
    },
    {
     "name": "stderr",
     "output_type": "stream",
     "text": [
      "100%|██████████| 5/5 [00:01<00:00,  4.29it/s]\n",
      "100%|██████████| 12/12 [00:03<00:00,  3.37it/s]\n",
      " 19%|█▉        | 75/400 [05:31<24:20,  4.49s/it]"
     ]
    },
    {
     "name": "stdout",
     "output_type": "stream",
     "text": [
      "epoch 74: train0.918918918918919  val0.756544502617801\n"
     ]
    },
    {
     "name": "stderr",
     "output_type": "stream",
     "text": [
      "100%|██████████| 5/5 [00:01<00:00,  3.33it/s]\n",
      "100%|██████████| 12/12 [00:02<00:00,  5.33it/s]\n",
      " 19%|█▉        | 76/400 [05:35<23:05,  4.28s/it]"
     ]
    },
    {
     "name": "stdout",
     "output_type": "stream",
     "text": [
      "epoch 75: train0.8851351351351351  val0.7643979057591623\n"
     ]
    },
    {
     "name": "stderr",
     "output_type": "stream",
     "text": [
      "100%|██████████| 5/5 [00:00<00:00,  5.46it/s]\n",
      "100%|██████████| 12/12 [00:02<00:00,  4.22it/s]\n",
      " 19%|█▉        | 77/400 [05:39<22:12,  4.13s/it]"
     ]
    },
    {
     "name": "stdout",
     "output_type": "stream",
     "text": [
      "epoch 76: train0.8918918918918919  val0.7696335078534031\n"
     ]
    },
    {
     "name": "stderr",
     "output_type": "stream",
     "text": [
      "100%|██████████| 5/5 [00:01<00:00,  3.29it/s]\n",
      "100%|██████████| 12/12 [00:01<00:00,  6.81it/s]\n",
      " 20%|█▉        | 78/400 [05:42<20:47,  3.88s/it]"
     ]
    },
    {
     "name": "stdout",
     "output_type": "stream",
     "text": [
      "epoch 77: train0.918918918918919  val0.7643979057591623\n"
     ]
    },
    {
     "name": "stderr",
     "output_type": "stream",
     "text": [
      "100%|██████████| 5/5 [00:01<00:00,  3.90it/s]\n",
      "100%|██████████| 12/12 [00:02<00:00,  4.99it/s]\n",
      " 20%|█▉        | 79/400 [05:46<20:26,  3.82s/it]"
     ]
    },
    {
     "name": "stdout",
     "output_type": "stream",
     "text": [
      "epoch 78: train0.8040540540540541  val0.7670157068062827\n"
     ]
    },
    {
     "name": "stderr",
     "output_type": "stream",
     "text": [
      "100%|██████████| 5/5 [00:01<00:00,  4.06it/s]\n",
      "100%|██████████| 12/12 [00:02<00:00,  4.74it/s]\n",
      " 20%|██        | 80/400 [05:50<20:18,  3.81s/it]"
     ]
    },
    {
     "name": "stdout",
     "output_type": "stream",
     "text": [
      "epoch 79: train0.8716216216216216  val0.7643979057591623\n"
     ]
    },
    {
     "name": "stderr",
     "output_type": "stream",
     "text": [
      "100%|██████████| 5/5 [00:00<00:00,  7.89it/s]\n",
      "100%|██████████| 12/12 [00:01<00:00,  6.13it/s]\n",
      " 20%|██        | 81/400 [05:52<18:19,  3.45s/it]"
     ]
    },
    {
     "name": "stdout",
     "output_type": "stream",
     "text": [
      "epoch 80: train0.8918918918918919  val0.7617801047120419\n"
     ]
    },
    {
     "name": "stderr",
     "output_type": "stream",
     "text": [
      "100%|██████████| 5/5 [00:01<00:00,  3.67it/s]\n",
      "100%|██████████| 12/12 [00:02<00:00,  4.17it/s]\n",
      " 20%|██        | 82/400 [05:56<19:32,  3.69s/it]"
     ]
    },
    {
     "name": "stdout",
     "output_type": "stream",
     "text": [
      "epoch 81: train0.8986486486486487  val0.774869109947644\n"
     ]
    },
    {
     "name": "stderr",
     "output_type": "stream",
     "text": [
      "100%|██████████| 5/5 [00:00<00:00,  7.30it/s]\n",
      "100%|██████████| 12/12 [00:01<00:00,  7.63it/s]\n",
      " 21%|██        | 83/400 [05:59<17:13,  3.26s/it]"
     ]
    },
    {
     "name": "stdout",
     "output_type": "stream",
     "text": [
      "epoch 82: train0.8851351351351351  val0.774869109947644\n"
     ]
    },
    {
     "name": "stderr",
     "output_type": "stream",
     "text": [
      "100%|██████████| 5/5 [00:00<00:00,  8.33it/s]\n",
      "100%|██████████| 12/12 [00:01<00:00,  7.31it/s]\n",
      " 21%|██        | 84/400 [06:01<15:34,  2.96s/it]"
     ]
    },
    {
     "name": "stdout",
     "output_type": "stream",
     "text": [
      "epoch 83: train0.9121621621621622  val0.7696335078534031\n"
     ]
    },
    {
     "name": "stderr",
     "output_type": "stream",
     "text": [
      "100%|██████████| 5/5 [00:00<00:00,  6.58it/s]\n",
      "100%|██████████| 12/12 [00:02<00:00,  5.27it/s]\n",
      " 21%|██▏       | 85/400 [06:04<15:40,  2.99s/it]"
     ]
    },
    {
     "name": "stdout",
     "output_type": "stream",
     "text": [
      "epoch 84: train0.8851351351351351  val0.7591623036649214\n"
     ]
    },
    {
     "name": "stderr",
     "output_type": "stream",
     "text": [
      "100%|██████████| 5/5 [00:00<00:00,  7.78it/s]\n",
      "100%|██████████| 12/12 [00:01<00:00,  9.20it/s]\n",
      " 22%|██▏       | 86/400 [06:06<14:00,  2.68s/it]"
     ]
    },
    {
     "name": "stdout",
     "output_type": "stream",
     "text": [
      "epoch 85: train0.8378378378378378  val0.7591623036649214\n"
     ]
    },
    {
     "name": "stderr",
     "output_type": "stream",
     "text": [
      "100%|██████████| 5/5 [00:00<00:00,  6.63it/s]\n",
      "100%|██████████| 12/12 [00:01<00:00,  8.80it/s]\n",
      " 22%|██▏       | 87/400 [06:08<13:06,  2.51s/it]"
     ]
    },
    {
     "name": "stdout",
     "output_type": "stream",
     "text": [
      "epoch 86: train0.7972972972972973  val0.756544502617801\n"
     ]
    },
    {
     "name": "stderr",
     "output_type": "stream",
     "text": [
      "100%|██████████| 5/5 [00:01<00:00,  4.89it/s]\n",
      "100%|██████████| 12/12 [00:02<00:00,  5.19it/s]\n",
      " 22%|██▏       | 88/400 [06:11<14:21,  2.76s/it]"
     ]
    },
    {
     "name": "stdout",
     "output_type": "stream",
     "text": [
      "epoch 87: train0.8918918918918919  val0.756544502617801\n"
     ]
    },
    {
     "name": "stderr",
     "output_type": "stream",
     "text": [
      "100%|██████████| 5/5 [00:00<00:00,  6.61it/s]\n",
      "100%|██████████| 12/12 [00:01<00:00,  8.91it/s]\n",
      " 22%|██▏       | 89/400 [06:14<13:18,  2.57s/it]"
     ]
    },
    {
     "name": "stdout",
     "output_type": "stream",
     "text": [
      "epoch 88: train0.8716216216216216  val0.7670157068062827\n"
     ]
    },
    {
     "name": "stderr",
     "output_type": "stream",
     "text": [
      "100%|██████████| 5/5 [00:00<00:00,  8.38it/s]\n",
      "100%|██████████| 12/12 [00:01<00:00,  9.07it/s]\n",
      " 22%|██▎       | 90/400 [06:15<12:16,  2.37s/it]"
     ]
    },
    {
     "name": "stdout",
     "output_type": "stream",
     "text": [
      "epoch 89: train0.8716216216216216  val0.7513089005235603\n"
     ]
    },
    {
     "name": "stderr",
     "output_type": "stream",
     "text": [
      "100%|██████████| 5/5 [00:00<00:00,  6.91it/s]\n",
      "100%|██████████| 12/12 [00:01<00:00,  6.65it/s]\n",
      " 23%|██▎       | 91/400 [06:18<12:28,  2.42s/it]"
     ]
    },
    {
     "name": "stdout",
     "output_type": "stream",
     "text": [
      "epoch 90: train0.8513513513513513  val0.7643979057591623\n"
     ]
    },
    {
     "name": "stderr",
     "output_type": "stream",
     "text": [
      "100%|██████████| 5/5 [00:00<00:00,  7.78it/s]\n",
      "100%|██████████| 12/12 [00:01<00:00,  8.99it/s]\n",
      " 23%|██▎       | 92/400 [06:20<11:45,  2.29s/it]"
     ]
    },
    {
     "name": "stdout",
     "output_type": "stream",
     "text": [
      "epoch 91: train0.8918918918918919  val0.7617801047120419\n"
     ]
    },
    {
     "name": "stderr",
     "output_type": "stream",
     "text": [
      "100%|██████████| 5/5 [00:00<00:00,  6.86it/s]\n",
      "100%|██████████| 12/12 [00:01<00:00,  8.94it/s]\n",
      " 23%|██▎       | 93/400 [06:22<11:23,  2.23s/it]"
     ]
    },
    {
     "name": "stdout",
     "output_type": "stream",
     "text": [
      "epoch 92: train0.9256756756756757  val0.7643979057591623\n"
     ]
    },
    {
     "name": "stderr",
     "output_type": "stream",
     "text": [
      "100%|██████████| 5/5 [00:00<00:00,  6.30it/s]\n",
      "100%|██████████| 12/12 [00:01<00:00,  6.49it/s]\n",
      " 24%|██▎       | 94/400 [06:25<12:00,  2.36s/it]"
     ]
    },
    {
     "name": "stdout",
     "output_type": "stream",
     "text": [
      "epoch 93: train0.8851351351351351  val0.7643979057591623\n"
     ]
    },
    {
     "name": "stderr",
     "output_type": "stream",
     "text": [
      "100%|██████████| 5/5 [00:00<00:00,  5.36it/s]\n",
      "100%|██████████| 12/12 [00:01<00:00,  8.40it/s]\n",
      " 24%|██▍       | 95/400 [06:27<11:59,  2.36s/it]"
     ]
    },
    {
     "name": "stdout",
     "output_type": "stream",
     "text": [
      "epoch 94: train0.8783783783783784  val0.7696335078534031\n"
     ]
    },
    {
     "name": "stderr",
     "output_type": "stream",
     "text": [
      "100%|██████████| 5/5 [00:00<00:00,  8.34it/s]\n",
      "100%|██████████| 12/12 [00:01<00:00,  9.03it/s]\n",
      " 24%|██▍       | 96/400 [06:29<11:19,  2.23s/it]"
     ]
    },
    {
     "name": "stdout",
     "output_type": "stream",
     "text": [
      "epoch 95: train0.9054054054054054  val0.7696335078534031\n"
     ]
    },
    {
     "name": "stderr",
     "output_type": "stream",
     "text": [
      "100%|██████████| 5/5 [00:00<00:00,  8.38it/s]\n",
      "100%|██████████| 12/12 [00:01<00:00,  8.23it/s]\n",
      " 24%|██▍       | 97/400 [06:31<11:01,  2.18s/it]"
     ]
    },
    {
     "name": "stdout",
     "output_type": "stream",
     "text": [
      "epoch 96: train0.8783783783783784  val0.7617801047120419\n"
     ]
    },
    {
     "name": "stderr",
     "output_type": "stream",
     "text": [
      "100%|██████████| 5/5 [00:00<00:00,  6.50it/s]\n",
      "100%|██████████| 12/12 [00:01<00:00,  6.30it/s]\n",
      " 24%|██▍       | 98/400 [06:34<11:44,  2.33s/it]"
     ]
    },
    {
     "name": "stdout",
     "output_type": "stream",
     "text": [
      "epoch 97: train0.8513513513513513  val0.774869109947644\n"
     ]
    },
    {
     "name": "stderr",
     "output_type": "stream",
     "text": [
      "100%|██████████| 5/5 [00:00<00:00,  8.09it/s]\n",
      "100%|██████████| 12/12 [00:01<00:00,  8.83it/s]\n",
      " 25%|██▍       | 99/400 [06:36<11:10,  2.23s/it]"
     ]
    },
    {
     "name": "stdout",
     "output_type": "stream",
     "text": [
      "epoch 98: train0.918918918918919  val0.7827225130890052\n"
     ]
    },
    {
     "name": "stderr",
     "output_type": "stream",
     "text": [
      "100%|██████████| 5/5 [00:00<00:00,  6.95it/s]\n",
      "100%|██████████| 12/12 [00:01<00:00,  8.91it/s]\n",
      " 25%|██▌       | 100/400 [06:38<10:54,  2.18s/it]"
     ]
    },
    {
     "name": "stdout",
     "output_type": "stream",
     "text": [
      "epoch 99: train0.918918918918919  val0.7643979057591623\n"
     ]
    },
    {
     "name": "stderr",
     "output_type": "stream",
     "text": [
      "100%|██████████| 5/5 [00:00<00:00,  6.21it/s]\n",
      "100%|██████████| 12/12 [00:02<00:00,  5.92it/s]\n",
      " 25%|██▌       | 101/400 [06:41<11:56,  2.40s/it]"
     ]
    },
    {
     "name": "stdout",
     "output_type": "stream",
     "text": [
      "epoch 100: train0.918918918918919  val0.7670157068062827\n"
     ]
    },
    {
     "name": "stderr",
     "output_type": "stream",
     "text": [
      "100%|██████████| 5/5 [00:01<00:00,  4.44it/s]\n",
      "100%|██████████| 12/12 [00:01<00:00,  8.59it/s]\n",
      " 26%|██▌       | 102/400 [06:43<12:06,  2.44s/it]"
     ]
    },
    {
     "name": "stdout",
     "output_type": "stream",
     "text": [
      "epoch 101: train0.8986486486486487  val0.7774869109947644\n"
     ]
    },
    {
     "name": "stderr",
     "output_type": "stream",
     "text": [
      "100%|██████████| 5/5 [00:00<00:00,  8.22it/s]\n",
      "100%|██████████| 12/12 [00:01<00:00,  9.03it/s]\n",
      " 26%|██▌       | 103/400 [06:45<11:20,  2.29s/it]"
     ]
    },
    {
     "name": "stdout",
     "output_type": "stream",
     "text": [
      "epoch 102: train0.8783783783783784  val0.7722513089005235\n"
     ]
    },
    {
     "name": "stderr",
     "output_type": "stream",
     "text": [
      "100%|██████████| 5/5 [00:00<00:00,  8.37it/s]\n",
      "100%|██████████| 12/12 [00:01<00:00,  7.14it/s]\n",
      " 26%|██▌       | 104/400 [06:47<11:17,  2.29s/it]"
     ]
    },
    {
     "name": "stdout",
     "output_type": "stream",
     "text": [
      "epoch 103: train0.918918918918919  val0.774869109947644\n"
     ]
    },
    {
     "name": "stderr",
     "output_type": "stream",
     "text": [
      "100%|██████████| 5/5 [00:00<00:00,  5.41it/s]\n",
      "100%|██████████| 12/12 [00:01<00:00,  6.45it/s]\n",
      " 26%|██▋       | 105/400 [06:50<11:59,  2.44s/it]"
     ]
    },
    {
     "name": "stdout",
     "output_type": "stream",
     "text": [
      "epoch 104: train0.9256756756756757  val0.7801047120418848\n"
     ]
    },
    {
     "name": "stderr",
     "output_type": "stream",
     "text": [
      "100%|██████████| 5/5 [00:00<00:00,  8.09it/s]\n",
      "100%|██████████| 12/12 [00:01<00:00,  8.97it/s]\n",
      " 26%|██▋       | 106/400 [06:52<11:15,  2.30s/it]"
     ]
    },
    {
     "name": "stdout",
     "output_type": "stream",
     "text": [
      "epoch 105: train0.9256756756756757  val0.7722513089005235\n"
     ]
    },
    {
     "name": "stderr",
     "output_type": "stream",
     "text": [
      "100%|██████████| 5/5 [00:00<00:00,  8.33it/s]\n",
      "100%|██████████| 12/12 [00:01<00:00,  8.17it/s]\n",
      " 27%|██▋       | 107/400 [06:54<10:53,  2.23s/it]"
     ]
    },
    {
     "name": "stdout",
     "output_type": "stream",
     "text": [
      "epoch 106: train0.9256756756756757  val0.7670157068062827\n"
     ]
    },
    {
     "name": "stderr",
     "output_type": "stream",
     "text": [
      "100%|██████████| 5/5 [00:00<00:00,  6.64it/s]\n",
      "100%|██████████| 12/12 [00:02<00:00,  5.75it/s]\n",
      " 27%|██▋       | 108/400 [06:57<11:45,  2.42s/it]"
     ]
    },
    {
     "name": "stdout",
     "output_type": "stream",
     "text": [
      "epoch 107: train0.8716216216216216  val0.7774869109947644\n"
     ]
    },
    {
     "name": "stderr",
     "output_type": "stream",
     "text": [
      "100%|██████████| 5/5 [00:00<00:00,  7.61it/s]\n",
      "100%|██████████| 12/12 [00:01<00:00,  9.23it/s]\n",
      " 27%|██▋       | 109/400 [06:59<11:04,  2.28s/it]"
     ]
    },
    {
     "name": "stdout",
     "output_type": "stream",
     "text": [
      "epoch 108: train0.9256756756756757  val0.774869109947644\n"
     ]
    },
    {
     "name": "stderr",
     "output_type": "stream",
     "text": [
      "100%|██████████| 5/5 [00:00<00:00,  8.50it/s]\n",
      "100%|██████████| 12/12 [00:01<00:00,  9.13it/s]\n",
      " 28%|██▊       | 110/400 [07:01<10:29,  2.17s/it]"
     ]
    },
    {
     "name": "stdout",
     "output_type": "stream",
     "text": [
      "epoch 109: train0.8918918918918919  val0.7696335078534031\n"
     ]
    },
    {
     "name": "stderr",
     "output_type": "stream",
     "text": [
      "100%|██████████| 5/5 [00:00<00:00,  7.86it/s]\n",
      "100%|██████████| 12/12 [00:01<00:00,  6.71it/s]\n",
      " 28%|██▊       | 111/400 [07:03<10:50,  2.25s/it]"
     ]
    },
    {
     "name": "stdout",
     "output_type": "stream",
     "text": [
      "epoch 110: train0.8581081081081081  val0.7696335078534031\n"
     ]
    },
    {
     "name": "stderr",
     "output_type": "stream",
     "text": [
      "100%|██████████| 5/5 [00:00<00:00,  6.83it/s]\n",
      "100%|██████████| 12/12 [00:01<00:00,  8.38it/s]\n",
      " 28%|██▊       | 112/400 [07:06<10:41,  2.23s/it]"
     ]
    },
    {
     "name": "stdout",
     "output_type": "stream",
     "text": [
      "epoch 111: train0.918918918918919  val0.7696335078534031\n"
     ]
    },
    {
     "name": "stderr",
     "output_type": "stream",
     "text": [
      "100%|██████████| 5/5 [00:00<00:00,  7.12it/s]\n",
      "100%|██████████| 12/12 [00:01<00:00,  8.76it/s]\n",
      " 28%|██▊       | 113/400 [07:08<10:26,  2.18s/it]"
     ]
    },
    {
     "name": "stdout",
     "output_type": "stream",
     "text": [
      "epoch 112: train0.918918918918919  val0.7696335078534031\n"
     ]
    },
    {
     "name": "stderr",
     "output_type": "stream",
     "text": [
      "100%|██████████| 5/5 [00:00<00:00,  6.71it/s]\n",
      "100%|██████████| 12/12 [00:01<00:00,  7.97it/s]\n",
      " 28%|██▊       | 114/400 [07:10<10:30,  2.21s/it]"
     ]
    },
    {
     "name": "stdout",
     "output_type": "stream",
     "text": [
      "epoch 113: train0.918918918918919  val0.7722513089005235\n"
     ]
    },
    {
     "name": "stderr",
     "output_type": "stream",
     "text": [
      "100%|██████████| 5/5 [00:01<00:00,  4.32it/s]\n",
      "100%|██████████| 12/12 [00:01<00:00,  7.82it/s]\n",
      " 29%|██▉       | 115/400 [07:13<11:10,  2.35s/it]"
     ]
    },
    {
     "name": "stdout",
     "output_type": "stream",
     "text": [
      "epoch 114: train0.8581081081081081  val0.7827225130890052\n"
     ]
    },
    {
     "name": "stderr",
     "output_type": "stream",
     "text": [
      "100%|██████████| 5/5 [00:00<00:00,  7.83it/s]\n",
      "100%|██████████| 12/12 [00:01<00:00,  8.60it/s]\n",
      " 29%|██▉       | 116/400 [07:15<10:42,  2.26s/it]"
     ]
    },
    {
     "name": "stdout",
     "output_type": "stream",
     "text": [
      "epoch 115: train0.8648648648648649  val0.7827225130890052\n"
     ]
    },
    {
     "name": "stderr",
     "output_type": "stream",
     "text": [
      "100%|██████████| 5/5 [00:00<00:00,  8.29it/s]\n",
      "100%|██████████| 12/12 [00:01<00:00,  8.29it/s]\n",
      " 29%|██▉       | 117/400 [07:17<10:22,  2.20s/it]"
     ]
    },
    {
     "name": "stdout",
     "output_type": "stream",
     "text": [
      "epoch 116: train0.9324324324324325  val0.7774869109947644\n"
     ]
    },
    {
     "name": "stderr",
     "output_type": "stream",
     "text": [
      "100%|██████████| 5/5 [00:00<00:00,  6.69it/s]\n",
      "100%|██████████| 12/12 [00:02<00:00,  5.75it/s]\n",
      " 30%|██▉       | 118/400 [07:20<11:14,  2.39s/it]"
     ]
    },
    {
     "name": "stdout",
     "output_type": "stream",
     "text": [
      "epoch 117: train0.8783783783783784  val0.774869109947644\n"
     ]
    },
    {
     "name": "stderr",
     "output_type": "stream",
     "text": [
      "100%|██████████| 5/5 [00:00<00:00,  8.07it/s]\n",
      "100%|██████████| 12/12 [00:01<00:00,  9.16it/s]\n",
      " 30%|██▉       | 119/400 [07:22<10:34,  2.26s/it]"
     ]
    },
    {
     "name": "stdout",
     "output_type": "stream",
     "text": [
      "epoch 118: train0.9121621621621622  val0.7801047120418848\n"
     ]
    },
    {
     "name": "stderr",
     "output_type": "stream",
     "text": [
      "100%|██████████| 5/5 [00:00<00:00,  8.40it/s]\n",
      "100%|██████████| 12/12 [00:01<00:00,  9.01it/s]\n",
      " 30%|███       | 120/400 [07:24<10:04,  2.16s/it]"
     ]
    },
    {
     "name": "stdout",
     "output_type": "stream",
     "text": [
      "epoch 119: train0.8513513513513513  val0.7774869109947644\n"
     ]
    },
    {
     "name": "stderr",
     "output_type": "stream",
     "text": [
      "100%|██████████| 5/5 [00:00<00:00,  8.31it/s]\n",
      "100%|██████████| 12/12 [00:01<00:00,  7.43it/s]\n",
      " 30%|███       | 121/400 [07:26<10:08,  2.18s/it]"
     ]
    },
    {
     "name": "stdout",
     "output_type": "stream",
     "text": [
      "epoch 120: train0.7972972972972973  val0.7853403141361257\n"
     ]
    },
    {
     "name": "stderr",
     "output_type": "stream",
     "text": [
      "100%|██████████| 5/5 [00:00<00:00,  5.01it/s]\n",
      "100%|██████████| 12/12 [00:01<00:00,  7.75it/s]\n",
      " 30%|███       | 122/400 [07:28<10:37,  2.29s/it]"
     ]
    },
    {
     "name": "stdout",
     "output_type": "stream",
     "text": [
      "epoch 121: train0.8783783783783784  val0.7801047120418848\n"
     ]
    },
    {
     "name": "stderr",
     "output_type": "stream",
     "text": [
      "100%|██████████| 5/5 [00:00<00:00,  8.10it/s]\n",
      "100%|██████████| 12/12 [00:01<00:00,  8.93it/s]\n",
      " 31%|███       | 123/400 [07:30<10:08,  2.20s/it]"
     ]
    },
    {
     "name": "stdout",
     "output_type": "stream",
     "text": [
      "epoch 122: train0.9121621621621622  val0.7696335078534031\n"
     ]
    },
    {
     "name": "stderr",
     "output_type": "stream",
     "text": [
      "100%|██████████| 5/5 [00:00<00:00,  8.38it/s]\n",
      "100%|██████████| 12/12 [00:01<00:00,  8.80it/s]\n",
      " 31%|███       | 124/400 [07:32<09:47,  2.13s/it]"
     ]
    },
    {
     "name": "stdout",
     "output_type": "stream",
     "text": [
      "epoch 123: train0.8918918918918919  val0.7774869109947644\n"
     ]
    },
    {
     "name": "stderr",
     "output_type": "stream",
     "text": [
      "100%|██████████| 5/5 [00:00<00:00,  6.68it/s]\n",
      "100%|██████████| 12/12 [00:02<00:00,  5.52it/s]\n",
      " 31%|███▏      | 125/400 [07:35<10:51,  2.37s/it]"
     ]
    },
    {
     "name": "stdout",
     "output_type": "stream",
     "text": [
      "epoch 124: train0.8513513513513513  val0.774869109947644\n"
     ]
    },
    {
     "name": "stderr",
     "output_type": "stream",
     "text": [
      "100%|██████████| 5/5 [00:00<00:00,  7.96it/s]\n",
      "100%|██████████| 12/12 [00:01<00:00,  9.11it/s]\n",
      " 32%|███▏      | 126/400 [07:37<10:14,  2.24s/it]"
     ]
    },
    {
     "name": "stdout",
     "output_type": "stream",
     "text": [
      "epoch 125: train0.918918918918919  val0.7774869109947644\n"
     ]
    },
    {
     "name": "stderr",
     "output_type": "stream",
     "text": [
      "100%|██████████| 5/5 [00:00<00:00,  8.41it/s]\n",
      "100%|██████████| 12/12 [00:01<00:00,  8.64it/s]\n",
      " 32%|███▏      | 127/400 [07:39<09:51,  2.17s/it]"
     ]
    },
    {
     "name": "stdout",
     "output_type": "stream",
     "text": [
      "epoch 126: train0.8648648648648649  val0.7801047120418848\n"
     ]
    },
    {
     "name": "stderr",
     "output_type": "stream",
     "text": [
      "100%|██████████| 5/5 [00:00<00:00,  8.14it/s]\n",
      "100%|██████████| 12/12 [00:01<00:00,  6.41it/s]\n",
      " 32%|███▏      | 128/400 [07:42<10:16,  2.27s/it]"
     ]
    },
    {
     "name": "stdout",
     "output_type": "stream",
     "text": [
      "epoch 127: train0.9391891891891891  val0.7827225130890052\n"
     ]
    },
    {
     "name": "stderr",
     "output_type": "stream",
     "text": [
      "100%|██████████| 5/5 [00:00<00:00,  5.95it/s]\n",
      "100%|██████████| 12/12 [00:01<00:00,  9.07it/s]\n",
      " 32%|███▏      | 129/400 [07:44<10:06,  2.24s/it]"
     ]
    },
    {
     "name": "stdout",
     "output_type": "stream",
     "text": [
      "epoch 128: train0.8716216216216216  val0.7774869109947644\n"
     ]
    },
    {
     "name": "stderr",
     "output_type": "stream",
     "text": [
      "100%|██████████| 5/5 [00:00<00:00,  7.19it/s]\n",
      "100%|██████████| 12/12 [00:01<00:00,  9.30it/s]\n",
      " 32%|███▎      | 130/400 [07:46<09:44,  2.17s/it]"
     ]
    },
    {
     "name": "stdout",
     "output_type": "stream",
     "text": [
      "epoch 129: train0.8918918918918919  val0.7853403141361257\n"
     ]
    },
    {
     "name": "stderr",
     "output_type": "stream",
     "text": [
      "100%|██████████| 5/5 [00:00<00:00,  6.34it/s]\n",
      "100%|██████████| 12/12 [00:01<00:00,  8.16it/s]\n",
      " 33%|███▎      | 131/400 [07:48<09:50,  2.20s/it]"
     ]
    },
    {
     "name": "stdout",
     "output_type": "stream",
     "text": [
      "epoch 130: train0.8918918918918919  val0.7853403141361257\n"
     ]
    },
    {
     "name": "stderr",
     "output_type": "stream",
     "text": [
      "100%|██████████| 5/5 [00:01<00:00,  4.25it/s]\n",
      "100%|██████████| 12/12 [00:01<00:00,  7.65it/s]\n",
      " 33%|███▎      | 132/400 [07:51<10:33,  2.36s/it]"
     ]
    },
    {
     "name": "stdout",
     "output_type": "stream",
     "text": [
      "epoch 131: train0.8581081081081081  val0.7879581151832461\n"
     ]
    },
    {
     "name": "stderr",
     "output_type": "stream",
     "text": [
      "100%|██████████| 5/5 [00:00<00:00,  8.13it/s]\n",
      "100%|██████████| 12/12 [00:01<00:00,  8.67it/s]\n",
      " 33%|███▎      | 133/400 [07:53<10:02,  2.26s/it]"
     ]
    },
    {
     "name": "stdout",
     "output_type": "stream",
     "text": [
      "epoch 132: train0.8648648648648649  val0.7801047120418848\n"
     ]
    },
    {
     "name": "stderr",
     "output_type": "stream",
     "text": [
      "100%|██████████| 5/5 [00:00<00:00,  8.19it/s]\n",
      "100%|██████████| 12/12 [00:01<00:00,  8.95it/s]\n",
      " 34%|███▎      | 134/400 [07:55<09:36,  2.17s/it]"
     ]
    },
    {
     "name": "stdout",
     "output_type": "stream",
     "text": [
      "epoch 133: train0.8513513513513513  val0.7853403141361257\n"
     ]
    },
    {
     "name": "stderr",
     "output_type": "stream",
     "text": [
      "100%|██████████| 5/5 [00:00<00:00,  7.47it/s]\n",
      "100%|██████████| 12/12 [00:01<00:00,  6.12it/s]\n",
      " 34%|███▍      | 135/400 [07:57<10:11,  2.31s/it]"
     ]
    },
    {
     "name": "stdout",
     "output_type": "stream",
     "text": [
      "epoch 134: train0.918918918918919  val0.7774869109947644\n"
     ]
    },
    {
     "name": "stderr",
     "output_type": "stream",
     "text": [
      "100%|██████████| 5/5 [00:00<00:00,  7.77it/s]\n",
      "100%|██████████| 12/12 [00:01<00:00,  8.78it/s]\n",
      " 34%|███▍      | 136/400 [07:59<09:46,  2.22s/it]"
     ]
    },
    {
     "name": "stdout",
     "output_type": "stream",
     "text": [
      "epoch 135: train0.918918918918919  val0.7801047120418848\n"
     ]
    },
    {
     "name": "stderr",
     "output_type": "stream",
     "text": [
      "100%|██████████| 5/5 [00:00<00:00,  8.26it/s]\n",
      "100%|██████████| 12/12 [00:01<00:00,  8.90it/s]\n",
      " 34%|███▍      | 137/400 [08:01<09:23,  2.14s/it]"
     ]
    },
    {
     "name": "stdout",
     "output_type": "stream",
     "text": [
      "epoch 136: train0.918918918918919  val0.7879581151832461\n"
     ]
    },
    {
     "name": "stderr",
     "output_type": "stream",
     "text": [
      "100%|██████████| 5/5 [00:00<00:00,  8.16it/s]\n",
      "100%|██████████| 12/12 [00:01<00:00,  7.91it/s]\n",
      " 34%|███▍      | 138/400 [08:04<09:21,  2.14s/it]"
     ]
    },
    {
     "name": "stdout",
     "output_type": "stream",
     "text": [
      "epoch 137: train0.9054054054054054  val0.7853403141361257\n"
     ]
    },
    {
     "name": "stderr",
     "output_type": "stream",
     "text": [
      "100%|██████████| 5/5 [00:00<00:00,  5.89it/s]\n",
      "100%|██████████| 12/12 [00:01<00:00,  7.27it/s]\n",
      " 35%|███▍      | 139/400 [08:06<09:47,  2.25s/it]"
     ]
    },
    {
     "name": "stdout",
     "output_type": "stream",
     "text": [
      "epoch 138: train0.8986486486486487  val0.7879581151832461\n"
     ]
    },
    {
     "name": "stderr",
     "output_type": "stream",
     "text": [
      "100%|██████████| 5/5 [00:00<00:00,  8.23it/s]\n",
      "100%|██████████| 12/12 [00:01<00:00,  8.95it/s]\n",
      " 35%|███▌      | 140/400 [08:08<09:22,  2.16s/it]"
     ]
    },
    {
     "name": "stdout",
     "output_type": "stream",
     "text": [
      "epoch 139: train0.9054054054054054  val0.7879581151832461\n"
     ]
    },
    {
     "name": "stderr",
     "output_type": "stream",
     "text": [
      "100%|██████████| 5/5 [00:00<00:00,  6.73it/s]\n",
      "100%|██████████| 12/12 [00:01<00:00,  8.93it/s]\n",
      " 35%|███▌      | 141/400 [08:10<09:15,  2.14s/it]"
     ]
    },
    {
     "name": "stdout",
     "output_type": "stream",
     "text": [
      "epoch 140: train0.9121621621621622  val0.7879581151832461\n"
     ]
    },
    {
     "name": "stderr",
     "output_type": "stream",
     "text": [
      "100%|██████████| 5/5 [00:00<00:00,  5.60it/s]\n",
      "100%|██████████| 12/12 [00:02<00:00,  5.48it/s]\n",
      " 36%|███▌      | 142/400 [08:13<10:26,  2.43s/it]"
     ]
    },
    {
     "name": "stdout",
     "output_type": "stream",
     "text": [
      "epoch 141: train0.8986486486486487  val0.7879581151832461\n"
     ]
    },
    {
     "name": "stderr",
     "output_type": "stream",
     "text": [
      "100%|██████████| 5/5 [00:00<00:00,  6.40it/s]\n",
      "100%|██████████| 12/12 [00:01<00:00,  8.78it/s]\n",
      " 36%|███▌      | 143/400 [08:15<10:03,  2.35s/it]"
     ]
    },
    {
     "name": "stdout",
     "output_type": "stream",
     "text": [
      "epoch 142: train0.9256756756756757  val0.7827225130890052\n"
     ]
    },
    {
     "name": "stderr",
     "output_type": "stream",
     "text": [
      "100%|██████████| 5/5 [00:00<00:00,  8.44it/s]\n",
      "100%|██████████| 12/12 [00:01<00:00,  9.14it/s]\n",
      " 36%|███▌      | 144/400 [08:17<09:27,  2.22s/it]"
     ]
    },
    {
     "name": "stdout",
     "output_type": "stream",
     "text": [
      "epoch 143: train0.8986486486486487  val0.774869109947644\n"
     ]
    },
    {
     "name": "stderr",
     "output_type": "stream",
     "text": [
      "100%|██████████| 5/5 [00:00<00:00,  8.22it/s]\n",
      "100%|██████████| 12/12 [00:01<00:00,  6.86it/s]\n",
      " 36%|███▋      | 145/400 [08:20<09:36,  2.26s/it]"
     ]
    },
    {
     "name": "stdout",
     "output_type": "stream",
     "text": [
      "epoch 144: train0.9054054054054054  val0.7801047120418848\n"
     ]
    },
    {
     "name": "stderr",
     "output_type": "stream",
     "text": [
      "100%|██████████| 5/5 [00:00<00:00,  5.41it/s]\n",
      "100%|██████████| 12/12 [00:01<00:00,  7.03it/s]\n",
      " 36%|███▋      | 146/400 [08:22<10:03,  2.38s/it]"
     ]
    },
    {
     "name": "stdout",
     "output_type": "stream",
     "text": [
      "epoch 145: train0.918918918918919  val0.7879581151832461\n"
     ]
    },
    {
     "name": "stderr",
     "output_type": "stream",
     "text": [
      "100%|██████████| 5/5 [00:00<00:00,  8.25it/s]\n",
      "100%|██████████| 12/12 [00:01<00:00,  8.85it/s]\n",
      " 37%|███▋      | 147/400 [08:24<09:30,  2.25s/it]"
     ]
    },
    {
     "name": "stdout",
     "output_type": "stream",
     "text": [
      "epoch 146: train0.9121621621621622  val0.7774869109947644\n"
     ]
    },
    {
     "name": "stderr",
     "output_type": "stream",
     "text": [
      "100%|██████████| 5/5 [00:00<00:00,  8.14it/s]\n",
      "100%|██████████| 12/12 [00:01<00:00,  7.50it/s]\n",
      " 37%|███▋      | 148/400 [08:26<09:25,  2.25s/it]"
     ]
    },
    {
     "name": "stdout",
     "output_type": "stream",
     "text": [
      "epoch 147: train0.9324324324324325  val0.7722513089005235\n"
     ]
    },
    {
     "name": "stderr",
     "output_type": "stream",
     "text": [
      "100%|██████████| 5/5 [00:00<00:00,  6.54it/s]\n",
      "100%|██████████| 12/12 [00:01<00:00,  7.91it/s]\n",
      " 37%|███▋      | 149/400 [08:29<09:26,  2.26s/it]"
     ]
    },
    {
     "name": "stdout",
     "output_type": "stream",
     "text": [
      "epoch 148: train0.8783783783783784  val0.774869109947644\n"
     ]
    },
    {
     "name": "stderr",
     "output_type": "stream",
     "text": [
      "100%|██████████| 5/5 [00:00<00:00,  7.93it/s]\n",
      "100%|██████████| 12/12 [00:01<00:00,  9.02it/s]\n",
      " 38%|███▊      | 150/400 [08:31<09:02,  2.17s/it]"
     ]
    },
    {
     "name": "stdout",
     "output_type": "stream",
     "text": [
      "epoch 149: train0.9121621621621622  val0.7853403141361257\n"
     ]
    },
    {
     "name": "stderr",
     "output_type": "stream",
     "text": [
      "100%|██████████| 5/5 [00:00<00:00,  8.38it/s]\n",
      "100%|██████████| 12/12 [00:01<00:00,  8.74it/s]\n",
      " 38%|███▊      | 151/400 [08:33<08:50,  2.13s/it]"
     ]
    },
    {
     "name": "stdout",
     "output_type": "stream",
     "text": [
      "epoch 150: train0.9256756756756757  val0.7827225130890052\n"
     ]
    },
    {
     "name": "stderr",
     "output_type": "stream",
     "text": [
      "100%|██████████| 5/5 [00:00<00:00,  7.83it/s]\n",
      "100%|██████████| 12/12 [00:01<00:00,  6.18it/s]\n",
      " 38%|███▊      | 152/400 [08:35<09:22,  2.27s/it]"
     ]
    },
    {
     "name": "stdout",
     "output_type": "stream",
     "text": [
      "epoch 151: train0.9527027027027027  val0.7801047120418848\n"
     ]
    },
    {
     "name": "stderr",
     "output_type": "stream",
     "text": [
      "100%|██████████| 5/5 [00:00<00:00,  7.18it/s]\n",
      "100%|██████████| 12/12 [00:01<00:00,  9.01it/s]\n",
      " 38%|███▊      | 153/400 [08:37<09:03,  2.20s/it]"
     ]
    },
    {
     "name": "stdout",
     "output_type": "stream",
     "text": [
      "epoch 152: train0.9054054054054054  val0.7827225130890052\n"
     ]
    },
    {
     "name": "stderr",
     "output_type": "stream",
     "text": [
      "100%|██████████| 5/5 [00:00<00:00,  8.30it/s]\n",
      "100%|██████████| 12/12 [00:01<00:00,  8.32it/s]\n",
      " 38%|███▊      | 154/400 [08:39<08:50,  2.16s/it]"
     ]
    },
    {
     "name": "stdout",
     "output_type": "stream",
     "text": [
      "epoch 153: train0.8783783783783784  val0.7879581151832461\n"
     ]
    },
    {
     "name": "stderr",
     "output_type": "stream",
     "text": [
      "100%|██████████| 5/5 [00:00<00:00,  7.98it/s]\n",
      "100%|██████████| 12/12 [00:01<00:00,  7.20it/s]\n",
      " 39%|███▉      | 155/400 [08:42<08:59,  2.20s/it]"
     ]
    },
    {
     "name": "stdout",
     "output_type": "stream",
     "text": [
      "epoch 154: train0.8648648648648649  val0.7853403141361257\n"
     ]
    },
    {
     "name": "stderr",
     "output_type": "stream",
     "text": [
      "100%|██████████| 5/5 [00:01<00:00,  4.98it/s]\n",
      "100%|██████████| 12/12 [00:01<00:00,  7.54it/s]\n",
      " 39%|███▉      | 156/400 [08:44<09:26,  2.32s/it]"
     ]
    },
    {
     "name": "stdout",
     "output_type": "stream",
     "text": [
      "epoch 155: train0.8986486486486487  val0.7853403141361257\n"
     ]
    },
    {
     "name": "stderr",
     "output_type": "stream",
     "text": [
      "100%|██████████| 5/5 [00:00<00:00,  8.22it/s]\n",
      "100%|██████████| 12/12 [00:01<00:00,  8.30it/s]\n",
      " 39%|███▉      | 157/400 [08:46<09:05,  2.24s/it]"
     ]
    },
    {
     "name": "stdout",
     "output_type": "stream",
     "text": [
      "epoch 156: train0.9256756756756757  val0.7801047120418848\n"
     ]
    },
    {
     "name": "stderr",
     "output_type": "stream",
     "text": [
      "100%|██████████| 5/5 [00:00<00:00,  8.20it/s]\n",
      "100%|██████████| 12/12 [00:01<00:00,  8.79it/s]\n",
      " 40%|███▉      | 158/400 [08:48<08:44,  2.17s/it]"
     ]
    },
    {
     "name": "stdout",
     "output_type": "stream",
     "text": [
      "epoch 157: train0.9459459459459459  val0.7853403141361257\n"
     ]
    },
    {
     "name": "stderr",
     "output_type": "stream",
     "text": [
      "100%|██████████| 5/5 [00:00<00:00,  6.88it/s]\n",
      "100%|██████████| 12/12 [00:02<00:00,  5.53it/s]\n",
      " 40%|███▉      | 159/400 [08:51<09:35,  2.39s/it]"
     ]
    },
    {
     "name": "stdout",
     "output_type": "stream",
     "text": [
      "epoch 158: train0.8648648648648649  val0.7774869109947644\n"
     ]
    },
    {
     "name": "stderr",
     "output_type": "stream",
     "text": [
      "100%|██████████| 5/5 [00:00<00:00,  8.03it/s]\n",
      "100%|██████████| 12/12 [00:01<00:00,  9.01it/s]\n",
      " 40%|████      | 160/400 [08:53<09:02,  2.26s/it]"
     ]
    },
    {
     "name": "stdout",
     "output_type": "stream",
     "text": [
      "epoch 159: train0.8986486486486487  val0.7774869109947644\n"
     ]
    },
    {
     "name": "stderr",
     "output_type": "stream",
     "text": [
      "100%|██████████| 5/5 [00:00<00:00,  8.34it/s]\n",
      "100%|██████████| 12/12 [00:01<00:00,  9.08it/s]\n",
      " 40%|████      | 161/400 [08:55<08:36,  2.16s/it]"
     ]
    },
    {
     "name": "stdout",
     "output_type": "stream",
     "text": [
      "epoch 160: train0.8783783783783784  val0.7774869109947644\n"
     ]
    },
    {
     "name": "stderr",
     "output_type": "stream",
     "text": [
      "100%|██████████| 5/5 [00:00<00:00,  8.29it/s]\n",
      "100%|██████████| 12/12 [00:01<00:00,  7.40it/s]\n",
      " 40%|████      | 162/400 [08:57<08:39,  2.18s/it]"
     ]
    },
    {
     "name": "stdout",
     "output_type": "stream",
     "text": [
      "epoch 161: train0.9121621621621622  val0.7853403141361257\n"
     ]
    },
    {
     "name": "stderr",
     "output_type": "stream",
     "text": [
      "100%|██████████| 5/5 [00:00<00:00,  6.32it/s]\n",
      "100%|██████████| 12/12 [00:01<00:00,  6.54it/s]\n",
      " 41%|████      | 163/400 [09:00<09:09,  2.32s/it]"
     ]
    },
    {
     "name": "stdout",
     "output_type": "stream",
     "text": [
      "epoch 162: train0.9121621621621622  val0.7801047120418848\n"
     ]
    },
    {
     "name": "stderr",
     "output_type": "stream",
     "text": [
      "100%|██████████| 5/5 [00:00<00:00,  8.10it/s]\n",
      "100%|██████████| 12/12 [00:01<00:00,  8.94it/s]\n",
      " 41%|████      | 164/400 [09:02<08:42,  2.21s/it]"
     ]
    },
    {
     "name": "stdout",
     "output_type": "stream",
     "text": [
      "epoch 163: train0.9459459459459459  val0.7827225130890052\n"
     ]
    },
    {
     "name": "stderr",
     "output_type": "stream",
     "text": [
      "100%|██████████| 5/5 [00:00<00:00,  6.61it/s]\n",
      "100%|██████████| 12/12 [00:01<00:00,  8.40it/s]\n",
      " 41%|████▏     | 165/400 [09:04<08:38,  2.21s/it]"
     ]
    },
    {
     "name": "stdout",
     "output_type": "stream",
     "text": [
      "epoch 164: train0.9054054054054054  val0.774869109947644\n"
     ]
    },
    {
     "name": "stderr",
     "output_type": "stream",
     "text": [
      "100%|██████████| 5/5 [00:00<00:00,  5.50it/s]\n",
      "100%|██████████| 12/12 [00:02<00:00,  5.29it/s]\n",
      " 42%|████▏     | 166/400 [09:07<09:45,  2.50s/it]"
     ]
    },
    {
     "name": "stdout",
     "output_type": "stream",
     "text": [
      "epoch 165: train0.9391891891891891  val0.7801047120418848\n"
     ]
    },
    {
     "name": "stderr",
     "output_type": "stream",
     "text": [
      "100%|██████████| 5/5 [00:00<00:00,  7.78it/s]\n",
      "100%|██████████| 12/12 [00:01<00:00,  6.72it/s]\n",
      " 42%|████▏     | 167/400 [09:10<09:38,  2.48s/it]"
     ]
    },
    {
     "name": "stdout",
     "output_type": "stream",
     "text": [
      "epoch 166: train0.9256756756756757  val0.7853403141361257\n"
     ]
    },
    {
     "name": "stderr",
     "output_type": "stream",
     "text": [
      "100%|██████████| 5/5 [00:00<00:00,  5.57it/s]\n",
      "100%|██████████| 12/12 [00:02<00:00,  5.99it/s]\n",
      " 42%|████▏     | 168/400 [09:13<10:05,  2.61s/it]"
     ]
    },
    {
     "name": "stdout",
     "output_type": "stream",
     "text": [
      "epoch 167: train0.9256756756756757  val0.7827225130890052\n"
     ]
    },
    {
     "name": "stderr",
     "output_type": "stream",
     "text": [
      "100%|██████████| 5/5 [00:01<00:00,  4.21it/s]\n",
      "100%|██████████| 12/12 [00:01<00:00,  8.42it/s]\n",
      " 42%|████▏     | 169/400 [09:15<10:03,  2.61s/it]"
     ]
    },
    {
     "name": "stdout",
     "output_type": "stream",
     "text": [
      "epoch 168: train0.9054054054054054  val0.7774869109947644\n"
     ]
    },
    {
     "name": "stderr",
     "output_type": "stream",
     "text": [
      "100%|██████████| 5/5 [00:00<00:00,  8.05it/s]\n",
      "100%|██████████| 12/12 [00:01<00:00,  8.48it/s]\n",
      " 42%|████▎     | 170/400 [09:17<09:22,  2.44s/it]"
     ]
    },
    {
     "name": "stdout",
     "output_type": "stream",
     "text": [
      "epoch 169: train0.918918918918919  val0.7722513089005235\n"
     ]
    },
    {
     "name": "stderr",
     "output_type": "stream",
     "text": [
      "100%|██████████| 5/5 [00:00<00:00,  8.29it/s]\n",
      "100%|██████████| 12/12 [00:01<00:00,  7.78it/s]\n",
      " 43%|████▎     | 171/400 [09:20<08:59,  2.36s/it]"
     ]
    },
    {
     "name": "stdout",
     "output_type": "stream",
     "text": [
      "epoch 170: train0.9256756756756757  val0.7774869109947644\n"
     ]
    },
    {
     "name": "stderr",
     "output_type": "stream",
     "text": [
      "100%|██████████| 5/5 [00:01<00:00,  4.68it/s]\n",
      "100%|██████████| 12/12 [00:01<00:00,  6.93it/s]\n",
      " 43%|████▎     | 172/400 [09:22<09:28,  2.49s/it]"
     ]
    },
    {
     "name": "stdout",
     "output_type": "stream",
     "text": [
      "epoch 171: train0.9391891891891891  val0.7827225130890052\n"
     ]
    },
    {
     "name": "stderr",
     "output_type": "stream",
     "text": [
      "100%|██████████| 5/5 [00:00<00:00,  7.88it/s]\n",
      "100%|██████████| 12/12 [00:01<00:00,  8.99it/s]\n",
      " 43%|████▎     | 173/400 [09:24<08:50,  2.34s/it]"
     ]
    },
    {
     "name": "stdout",
     "output_type": "stream",
     "text": [
      "epoch 172: train0.9459459459459459  val0.7774869109947644\n"
     ]
    },
    {
     "name": "stderr",
     "output_type": "stream",
     "text": [
      "100%|██████████| 5/5 [00:00<00:00,  8.00it/s]\n",
      "100%|██████████| 12/12 [00:01<00:00,  9.05it/s]\n",
      " 44%|████▎     | 174/400 [09:26<08:22,  2.22s/it]"
     ]
    },
    {
     "name": "stdout",
     "output_type": "stream",
     "text": [
      "epoch 173: train0.9459459459459459  val0.774869109947644\n"
     ]
    },
    {
     "name": "stderr",
     "output_type": "stream",
     "text": [
      "100%|██████████| 5/5 [00:00<00:00,  7.61it/s]\n",
      "100%|██████████| 12/12 [00:02<00:00,  5.68it/s]\n",
      " 44%|████▍     | 175/400 [09:29<08:58,  2.39s/it]"
     ]
    },
    {
     "name": "stdout",
     "output_type": "stream",
     "text": [
      "epoch 174: train0.9256756756756757  val0.774869109947644\n"
     ]
    },
    {
     "name": "stderr",
     "output_type": "stream",
     "text": [
      "100%|██████████| 5/5 [00:00<00:00,  7.77it/s]\n",
      "100%|██████████| 12/12 [00:01<00:00,  8.67it/s]\n",
      " 44%|████▍     | 176/400 [09:31<08:31,  2.28s/it]"
     ]
    },
    {
     "name": "stdout",
     "output_type": "stream",
     "text": [
      "epoch 175: train0.9391891891891891  val0.7853403141361257\n"
     ]
    },
    {
     "name": "stderr",
     "output_type": "stream",
     "text": [
      "100%|██████████| 5/5 [00:00<00:00,  8.16it/s]\n",
      "100%|██████████| 12/12 [00:01<00:00,  9.05it/s]\n",
      " 44%|████▍     | 177/400 [09:33<08:06,  2.18s/it]"
     ]
    },
    {
     "name": "stdout",
     "output_type": "stream",
     "text": [
      "epoch 176: train0.8851351351351351  val0.7853403141361257\n"
     ]
    },
    {
     "name": "stderr",
     "output_type": "stream",
     "text": [
      "100%|██████████| 5/5 [00:00<00:00,  8.27it/s]\n",
      "100%|██████████| 12/12 [00:01<00:00,  7.62it/s]\n",
      " 44%|████▍     | 178/400 [09:35<08:05,  2.18s/it]"
     ]
    },
    {
     "name": "stdout",
     "output_type": "stream",
     "text": [
      "epoch 177: train0.9391891891891891  val0.7853403141361257\n"
     ]
    },
    {
     "name": "stderr",
     "output_type": "stream",
     "text": [
      "100%|██████████| 5/5 [00:00<00:00,  6.42it/s]\n",
      "100%|██████████| 12/12 [00:01<00:00,  6.39it/s]\n",
      " 45%|████▍     | 179/400 [09:38<08:34,  2.33s/it]"
     ]
    },
    {
     "name": "stdout",
     "output_type": "stream",
     "text": [
      "epoch 178: train0.9256756756756757  val0.7774869109947644\n"
     ]
    },
    {
     "name": "stderr",
     "output_type": "stream",
     "text": [
      "100%|██████████| 5/5 [00:00<00:00,  7.85it/s]\n",
      "100%|██████████| 12/12 [00:01<00:00,  9.25it/s]\n",
      " 45%|████▌     | 180/400 [09:40<08:06,  2.21s/it]"
     ]
    },
    {
     "name": "stdout",
     "output_type": "stream",
     "text": [
      "epoch 179: train0.9054054054054054  val0.7827225130890052\n"
     ]
    },
    {
     "name": "stderr",
     "output_type": "stream",
     "text": [
      "100%|██████████| 5/5 [00:00<00:00,  6.27it/s]\n",
      "100%|██████████| 12/12 [00:01<00:00,  9.02it/s]\n",
      " 45%|████▌     | 181/400 [09:42<07:59,  2.19s/it]"
     ]
    },
    {
     "name": "stdout",
     "output_type": "stream",
     "text": [
      "epoch 180: train0.9054054054054054  val0.7853403141361257\n"
     ]
    },
    {
     "name": "stderr",
     "output_type": "stream",
     "text": [
      "100%|██████████| 5/5 [00:00<00:00,  5.06it/s]\n",
      "100%|██████████| 12/12 [00:02<00:00,  5.14it/s]\n",
      " 46%|████▌     | 182/400 [09:45<09:12,  2.53s/it]"
     ]
    },
    {
     "name": "stdout",
     "output_type": "stream",
     "text": [
      "epoch 181: train0.8783783783783784  val0.7827225130890052\n"
     ]
    },
    {
     "name": "stderr",
     "output_type": "stream",
     "text": [
      "100%|██████████| 5/5 [00:00<00:00,  6.17it/s]\n",
      "100%|██████████| 12/12 [00:01<00:00,  8.97it/s]\n",
      " 46%|████▌     | 183/400 [09:47<08:45,  2.42s/it]"
     ]
    },
    {
     "name": "stdout",
     "output_type": "stream",
     "text": [
      "epoch 182: train0.8918918918918919  val0.7879581151832461\n"
     ]
    },
    {
     "name": "stderr",
     "output_type": "stream",
     "text": [
      "100%|██████████| 5/5 [00:00<00:00,  8.43it/s]\n",
      "100%|██████████| 12/12 [00:01<00:00,  9.07it/s]\n",
      " 46%|████▌     | 184/400 [09:49<08:10,  2.27s/it]"
     ]
    },
    {
     "name": "stdout",
     "output_type": "stream",
     "text": [
      "epoch 183: train0.9121621621621622  val0.7774869109947644\n"
     ]
    },
    {
     "name": "stderr",
     "output_type": "stream",
     "text": [
      "100%|██████████| 5/5 [00:00<00:00,  7.04it/s]\n",
      "100%|██████████| 12/12 [00:01<00:00,  6.51it/s]\n",
      " 46%|████▋     | 185/400 [09:52<08:27,  2.36s/it]"
     ]
    },
    {
     "name": "stdout",
     "output_type": "stream",
     "text": [
      "epoch 184: train0.9054054054054054  val0.7801047120418848\n"
     ]
    },
    {
     "name": "stderr",
     "output_type": "stream",
     "text": [
      "100%|██████████| 5/5 [00:00<00:00,  7.20it/s]\n",
      "100%|██████████| 12/12 [00:01<00:00,  9.13it/s]\n",
      " 46%|████▋     | 186/400 [09:54<08:02,  2.26s/it]"
     ]
    },
    {
     "name": "stdout",
     "output_type": "stream",
     "text": [
      "epoch 185: train0.9391891891891891  val0.7801047120418848\n"
     ]
    },
    {
     "name": "stderr",
     "output_type": "stream",
     "text": [
      "100%|██████████| 5/5 [00:01<00:00,  4.47it/s]\n",
      "100%|██████████| 12/12 [00:02<00:00,  4.76it/s]\n",
      " 47%|████▋     | 187/400 [09:58<09:29,  2.67s/it]"
     ]
    },
    {
     "name": "stdout",
     "output_type": "stream",
     "text": [
      "epoch 186: train0.8648648648648649  val0.7801047120418848\n"
     ]
    },
    {
     "name": "stderr",
     "output_type": "stream",
     "text": [
      "100%|██████████| 5/5 [00:02<00:00,  2.15it/s]\n",
      "100%|██████████| 12/12 [00:03<00:00,  3.13it/s]\n",
      " 47%|████▋     | 188/400 [10:04<13:10,  3.73s/it]"
     ]
    },
    {
     "name": "stdout",
     "output_type": "stream",
     "text": [
      "epoch 187: train0.9121621621621622  val0.7774869109947644\n"
     ]
    },
    {
     "name": "stderr",
     "output_type": "stream",
     "text": [
      "100%|██████████| 5/5 [00:01<00:00,  3.80it/s]\n",
      "100%|██████████| 12/12 [00:03<00:00,  3.24it/s]\n",
      " 47%|████▋     | 189/400 [10:09<14:28,  4.12s/it]"
     ]
    },
    {
     "name": "stdout",
     "output_type": "stream",
     "text": [
      "epoch 188: train0.8918918918918919  val0.7905759162303665\n"
     ]
    },
    {
     "name": "stderr",
     "output_type": "stream",
     "text": [
      "100%|██████████| 5/5 [00:01<00:00,  3.30it/s]\n",
      "100%|██████████| 12/12 [00:02<00:00,  5.08it/s]\n",
      " 48%|████▊     | 190/400 [10:13<14:10,  4.05s/it]"
     ]
    },
    {
     "name": "stdout",
     "output_type": "stream",
     "text": [
      "epoch 189: train0.8716216216216216  val0.7853403141361257\n"
     ]
    },
    {
     "name": "stderr",
     "output_type": "stream",
     "text": [
      "100%|██████████| 5/5 [00:01<00:00,  3.69it/s]\n",
      "100%|██████████| 12/12 [00:03<00:00,  3.32it/s]\n",
      " 48%|████▊     | 191/400 [10:18<15:04,  4.33s/it]"
     ]
    },
    {
     "name": "stdout",
     "output_type": "stream",
     "text": [
      "epoch 190: train0.9324324324324325  val0.7905759162303665\n"
     ]
    },
    {
     "name": "stderr",
     "output_type": "stream",
     "text": [
      "100%|██████████| 5/5 [00:01<00:00,  3.14it/s]\n",
      "100%|██████████| 12/12 [00:02<00:00,  4.61it/s]\n",
      " 48%|████▊     | 192/400 [10:22<14:52,  4.29s/it]"
     ]
    },
    {
     "name": "stdout",
     "output_type": "stream",
     "text": [
      "epoch 191: train0.8918918918918919  val0.7879581151832461\n"
     ]
    },
    {
     "name": "stderr",
     "output_type": "stream",
     "text": [
      "100%|██████████| 5/5 [00:01<00:00,  3.66it/s]\n",
      "100%|██████████| 12/12 [00:03<00:00,  3.32it/s]\n",
      " 48%|████▊     | 193/400 [10:27<15:31,  4.50s/it]"
     ]
    },
    {
     "name": "stdout",
     "output_type": "stream",
     "text": [
      "epoch 192: train0.9324324324324325  val0.7958115183246073\n"
     ]
    },
    {
     "name": "stderr",
     "output_type": "stream",
     "text": [
      "100%|██████████| 5/5 [00:00<00:00,  5.52it/s]\n",
      "100%|██████████| 12/12 [00:03<00:00,  3.84it/s]\n",
      " 48%|████▊     | 194/400 [10:31<14:58,  4.36s/it]"
     ]
    },
    {
     "name": "stdout",
     "output_type": "stream",
     "text": [
      "epoch 193: train0.9256756756756757  val0.7853403141361257\n"
     ]
    },
    {
     "name": "stderr",
     "output_type": "stream",
     "text": [
      "100%|██████████| 5/5 [00:01<00:00,  3.09it/s]\n",
      "100%|██████████| 12/12 [00:03<00:00,  3.69it/s]\n",
      " 49%|████▉     | 195/400 [10:36<15:26,  4.52s/it]"
     ]
    },
    {
     "name": "stdout",
     "output_type": "stream",
     "text": [
      "epoch 194: train0.8918918918918919  val0.7774869109947644\n"
     ]
    },
    {
     "name": "stderr",
     "output_type": "stream",
     "text": [
      "100%|██████████| 5/5 [00:01<00:00,  4.31it/s]\n",
      "100%|██████████| 12/12 [00:03<00:00,  3.23it/s]\n",
      " 49%|████▉     | 196/400 [10:41<15:44,  4.63s/it]"
     ]
    },
    {
     "name": "stdout",
     "output_type": "stream",
     "text": [
      "epoch 195: train0.9391891891891891  val0.7774869109947644\n"
     ]
    },
    {
     "name": "stderr",
     "output_type": "stream",
     "text": [
      "100%|██████████| 5/5 [00:01<00:00,  3.34it/s]\n",
      "100%|██████████| 12/12 [00:02<00:00,  4.74it/s]\n",
      " 49%|████▉     | 197/400 [10:45<15:03,  4.45s/it]"
     ]
    },
    {
     "name": "stdout",
     "output_type": "stream",
     "text": [
      "epoch 196: train0.9324324324324325  val0.7853403141361257\n"
     ]
    },
    {
     "name": "stderr",
     "output_type": "stream",
     "text": [
      "100%|██████████| 5/5 [00:01<00:00,  3.42it/s]\n",
      "100%|██████████| 12/12 [00:03<00:00,  3.53it/s]\n",
      " 50%|████▉     | 198/400 [10:50<15:24,  4.58s/it]"
     ]
    },
    {
     "name": "stdout",
     "output_type": "stream",
     "text": [
      "epoch 197: train0.9324324324324325  val0.7801047120418848\n"
     ]
    },
    {
     "name": "stderr",
     "output_type": "stream",
     "text": [
      "100%|██████████| 5/5 [00:00<00:00,  5.85it/s]\n",
      "100%|██████████| 12/12 [00:03<00:00,  3.32it/s]\n",
      " 50%|████▉     | 199/400 [10:54<15:13,  4.55s/it]"
     ]
    },
    {
     "name": "stdout",
     "output_type": "stream",
     "text": [
      "epoch 198: train0.918918918918919  val0.7827225130890052\n"
     ]
    },
    {
     "name": "stderr",
     "output_type": "stream",
     "text": [
      "100%|██████████| 5/5 [00:01<00:00,  3.21it/s]\n",
      "100%|██████████| 12/12 [00:02<00:00,  4.81it/s]\n",
      " 50%|█████     | 200/400 [10:58<14:40,  4.40s/it]"
     ]
    },
    {
     "name": "stdout",
     "output_type": "stream",
     "text": [
      "epoch 199: train0.8648648648648649  val0.7827225130890052\n"
     ]
    },
    {
     "name": "stderr",
     "output_type": "stream",
     "text": [
      "100%|██████████| 5/5 [00:01<00:00,  3.55it/s]\n",
      "100%|██████████| 12/12 [00:03<00:00,  3.27it/s]\n",
      " 50%|█████     | 201/400 [11:03<15:21,  4.63s/it]"
     ]
    },
    {
     "name": "stdout",
     "output_type": "stream",
     "text": [
      "epoch 200: train0.9121621621621622  val0.7827225130890052\n"
     ]
    },
    {
     "name": "stderr",
     "output_type": "stream",
     "text": [
      "100%|██████████| 5/5 [00:01<00:00,  3.25it/s]\n",
      "100%|██████████| 12/12 [00:02<00:00,  4.64it/s]\n",
      " 50%|█████     | 202/400 [11:07<14:47,  4.48s/it]"
     ]
    },
    {
     "name": "stdout",
     "output_type": "stream",
     "text": [
      "epoch 201: train0.8918918918918919  val0.7827225130890052\n"
     ]
    },
    {
     "name": "stderr",
     "output_type": "stream",
     "text": [
      "100%|██████████| 5/5 [00:01<00:00,  4.00it/s]\n",
      "100%|██████████| 12/12 [00:03<00:00,  3.06it/s]\n",
      " 51%|█████     | 203/400 [11:13<15:24,  4.69s/it]"
     ]
    },
    {
     "name": "stdout",
     "output_type": "stream",
     "text": [
      "epoch 202: train0.8851351351351351  val0.774869109947644\n"
     ]
    },
    {
     "name": "stderr",
     "output_type": "stream",
     "text": [
      "100%|██████████| 5/5 [00:01<00:00,  4.23it/s]\n",
      "100%|██████████| 12/12 [00:03<00:00,  3.93it/s]\n",
      " 51%|█████     | 204/400 [11:17<14:53,  4.56s/it]"
     ]
    },
    {
     "name": "stdout",
     "output_type": "stream",
     "text": [
      "epoch 203: train0.9324324324324325  val0.774869109947644\n"
     ]
    },
    {
     "name": "stderr",
     "output_type": "stream",
     "text": [
      "100%|██████████| 5/5 [00:01<00:00,  3.20it/s]\n",
      "100%|██████████| 12/12 [00:03<00:00,  3.74it/s]\n",
      " 51%|█████▏    | 205/400 [11:22<15:02,  4.63s/it]"
     ]
    },
    {
     "name": "stdout",
     "output_type": "stream",
     "text": [
      "epoch 204: train0.918918918918919  val0.7774869109947644\n"
     ]
    },
    {
     "name": "stderr",
     "output_type": "stream",
     "text": [
      "100%|██████████| 5/5 [00:00<00:00,  5.14it/s]\n",
      "100%|██████████| 12/12 [00:03<00:00,  3.23it/s]\n",
      " 52%|█████▏    | 206/400 [11:26<15:01,  4.65s/it]"
     ]
    },
    {
     "name": "stdout",
     "output_type": "stream",
     "text": [
      "epoch 205: train0.9256756756756757  val0.7801047120418848\n"
     ]
    },
    {
     "name": "stderr",
     "output_type": "stream",
     "text": [
      "100%|██████████| 5/5 [00:01<00:00,  3.28it/s]\n",
      "100%|██████████| 12/12 [00:02<00:00,  4.75it/s]\n",
      " 52%|█████▏    | 207/400 [11:30<14:22,  4.47s/it]"
     ]
    },
    {
     "name": "stdout",
     "output_type": "stream",
     "text": [
      "epoch 206: train0.9054054054054054  val0.7801047120418848\n"
     ]
    },
    {
     "name": "stderr",
     "output_type": "stream",
     "text": [
      "100%|██████████| 5/5 [00:01<00:00,  3.48it/s]\n",
      "100%|██████████| 12/12 [00:03<00:00,  3.19it/s]\n",
      " 52%|█████▏    | 208/400 [11:36<15:01,  4.69s/it]"
     ]
    },
    {
     "name": "stdout",
     "output_type": "stream",
     "text": [
      "epoch 207: train0.9121621621621622  val0.774869109947644\n"
     ]
    },
    {
     "name": "stderr",
     "output_type": "stream",
     "text": [
      "100%|██████████| 5/5 [00:01<00:00,  3.38it/s]\n",
      "100%|██████████| 12/12 [00:02<00:00,  4.82it/s]\n",
      " 52%|█████▏    | 209/400 [11:40<14:15,  4.48s/it]"
     ]
    },
    {
     "name": "stdout",
     "output_type": "stream",
     "text": [
      "epoch 208: train0.9324324324324325  val0.7827225130890052\n"
     ]
    },
    {
     "name": "stderr",
     "output_type": "stream",
     "text": [
      "100%|██████████| 5/5 [00:01<00:00,  4.01it/s]\n",
      "100%|██████████| 12/12 [00:03<00:00,  3.23it/s]\n",
      " 52%|█████▎    | 210/400 [11:45<14:39,  4.63s/it]"
     ]
    },
    {
     "name": "stdout",
     "output_type": "stream",
     "text": [
      "epoch 209: train0.918918918918919  val0.7801047120418848\n"
     ]
    },
    {
     "name": "stderr",
     "output_type": "stream",
     "text": [
      "100%|██████████| 5/5 [00:01<00:00,  4.25it/s]\n",
      "100%|██████████| 12/12 [00:03<00:00,  3.86it/s]\n",
      " 53%|█████▎    | 211/400 [11:49<14:15,  4.53s/it]"
     ]
    },
    {
     "name": "stdout",
     "output_type": "stream",
     "text": [
      "epoch 210: train0.9459459459459459  val0.7774869109947644\n"
     ]
    },
    {
     "name": "stderr",
     "output_type": "stream",
     "text": [
      "100%|██████████| 5/5 [00:01<00:00,  3.27it/s]\n",
      "100%|██████████| 12/12 [00:02<00:00,  4.56it/s]\n",
      " 53%|█████▎    | 212/400 [11:53<13:51,  4.42s/it]"
     ]
    },
    {
     "name": "stdout",
     "output_type": "stream",
     "text": [
      "epoch 211: train0.8918918918918919  val0.7696335078534031\n"
     ]
    },
    {
     "name": "stderr",
     "output_type": "stream",
     "text": [
      "100%|██████████| 5/5 [00:01<00:00,  4.82it/s]\n",
      "100%|██████████| 12/12 [00:03<00:00,  3.32it/s]\n",
      " 53%|█████▎    | 213/400 [11:58<14:00,  4.49s/it]"
     ]
    },
    {
     "name": "stdout",
     "output_type": "stream",
     "text": [
      "epoch 212: train0.918918918918919  val0.7696335078534031\n"
     ]
    },
    {
     "name": "stderr",
     "output_type": "stream",
     "text": [
      "100%|██████████| 5/5 [00:01<00:00,  3.40it/s]\n",
      "100%|██████████| 12/12 [00:02<00:00,  5.26it/s]\n",
      " 54%|█████▎    | 214/400 [12:01<13:14,  4.27s/it]"
     ]
    },
    {
     "name": "stdout",
     "output_type": "stream",
     "text": [
      "epoch 213: train0.9391891891891891  val0.7696335078534031\n"
     ]
    },
    {
     "name": "stderr",
     "output_type": "stream",
     "text": [
      "100%|██████████| 5/5 [00:00<00:00,  5.06it/s]\n",
      "100%|██████████| 12/12 [00:03<00:00,  3.19it/s]\n",
      " 54%|█████▍    | 215/400 [12:06<13:37,  4.42s/it]"
     ]
    },
    {
     "name": "stdout",
     "output_type": "stream",
     "text": [
      "epoch 214: train0.8986486486486487  val0.7722513089005235\n"
     ]
    },
    {
     "name": "stderr",
     "output_type": "stream",
     "text": [
      "100%|██████████| 5/5 [00:01<00:00,  3.73it/s]\n",
      "100%|██████████| 12/12 [00:02<00:00,  4.45it/s]\n",
      " 54%|█████▍    | 216/400 [12:10<13:12,  4.31s/it]"
     ]
    },
    {
     "name": "stdout",
     "output_type": "stream",
     "text": [
      "epoch 215: train0.9256756756756757  val0.774869109947644\n"
     ]
    },
    {
     "name": "stderr",
     "output_type": "stream",
     "text": [
      "100%|██████████| 5/5 [00:01<00:00,  3.34it/s]\n",
      "100%|██████████| 12/12 [00:03<00:00,  3.31it/s]\n",
      " 54%|█████▍    | 217/400 [12:15<13:53,  4.56s/it]"
     ]
    },
    {
     "name": "stdout",
     "output_type": "stream",
     "text": [
      "epoch 216: train0.8986486486486487  val0.7827225130890052\n"
     ]
    },
    {
     "name": "stderr",
     "output_type": "stream",
     "text": [
      "100%|██████████| 5/5 [00:00<00:00,  6.54it/s]\n",
      "100%|██████████| 12/12 [00:03<00:00,  3.35it/s]\n",
      " 55%|█████▍    | 218/400 [12:20<13:38,  4.50s/it]"
     ]
    },
    {
     "name": "stdout",
     "output_type": "stream",
     "text": [
      "epoch 217: train0.9324324324324325  val0.7853403141361257\n"
     ]
    },
    {
     "name": "stderr",
     "output_type": "stream",
     "text": [
      "100%|██████████| 5/5 [00:01<00:00,  3.27it/s]\n",
      "100%|██████████| 12/12 [00:02<00:00,  4.47it/s]\n",
      " 55%|█████▍    | 219/400 [12:24<13:18,  4.41s/it]"
     ]
    },
    {
     "name": "stdout",
     "output_type": "stream",
     "text": [
      "epoch 218: train0.8986486486486487  val0.7853403141361257\n"
     ]
    },
    {
     "name": "stderr",
     "output_type": "stream",
     "text": [
      "100%|██████████| 5/5 [00:01<00:00,  3.88it/s]\n",
      "100%|██████████| 12/12 [00:03<00:00,  3.29it/s]\n",
      " 55%|█████▌    | 220/400 [12:29<13:42,  4.57s/it]"
     ]
    },
    {
     "name": "stdout",
     "output_type": "stream",
     "text": [
      "epoch 219: train0.9054054054054054  val0.7853403141361257\n"
     ]
    },
    {
     "name": "stderr",
     "output_type": "stream",
     "text": [
      "100%|██████████| 5/5 [00:01<00:00,  3.36it/s]\n",
      "100%|██████████| 12/12 [00:02<00:00,  4.81it/s]\n",
      " 55%|█████▌    | 221/400 [12:33<13:07,  4.40s/it]"
     ]
    },
    {
     "name": "stdout",
     "output_type": "stream",
     "text": [
      "epoch 220: train0.9054054054054054  val0.7774869109947644\n"
     ]
    },
    {
     "name": "stderr",
     "output_type": "stream",
     "text": [
      "100%|██████████| 5/5 [00:01<00:00,  3.49it/s]\n",
      "100%|██████████| 12/12 [00:03<00:00,  3.26it/s]\n",
      " 56%|█████▌    | 222/400 [12:38<13:41,  4.62s/it]"
     ]
    },
    {
     "name": "stdout",
     "output_type": "stream",
     "text": [
      "epoch 221: train0.9121621621621622  val0.7853403141361257\n"
     ]
    },
    {
     "name": "stderr",
     "output_type": "stream",
     "text": [
      "100%|██████████| 5/5 [00:01<00:00,  3.47it/s]\n",
      "100%|██████████| 12/12 [00:02<00:00,  4.53it/s]\n",
      " 56%|█████▌    | 223/400 [12:42<13:09,  4.46s/it]"
     ]
    },
    {
     "name": "stdout",
     "output_type": "stream",
     "text": [
      "epoch 222: train0.918918918918919  val0.7670157068062827\n"
     ]
    },
    {
     "name": "stderr",
     "output_type": "stream",
     "text": [
      "100%|██████████| 5/5 [00:01<00:00,  3.20it/s]\n",
      "100%|██████████| 12/12 [00:03<00:00,  3.20it/s]\n",
      " 56%|█████▌    | 224/400 [12:47<13:50,  4.72s/it]"
     ]
    },
    {
     "name": "stdout",
     "output_type": "stream",
     "text": [
      "epoch 223: train0.9324324324324325  val0.7827225130890052\n"
     ]
    },
    {
     "name": "stderr",
     "output_type": "stream",
     "text": [
      "100%|██████████| 5/5 [00:00<00:00,  6.16it/s]\n",
      "100%|██████████| 12/12 [00:03<00:00,  3.26it/s]\n",
      " 56%|█████▋    | 225/400 [12:52<13:34,  4.66s/it]"
     ]
    },
    {
     "name": "stdout",
     "output_type": "stream",
     "text": [
      "epoch 224: train0.9054054054054054  val0.7801047120418848\n"
     ]
    },
    {
     "name": "stderr",
     "output_type": "stream",
     "text": [
      "100%|██████████| 5/5 [00:01<00:00,  3.56it/s]\n",
      "100%|██████████| 12/12 [00:02<00:00,  5.18it/s]\n",
      " 56%|█████▋    | 226/400 [12:56<12:41,  4.38s/it]"
     ]
    },
    {
     "name": "stdout",
     "output_type": "stream",
     "text": [
      "epoch 225: train0.9054054054054054  val0.7801047120418848\n"
     ]
    },
    {
     "name": "stderr",
     "output_type": "stream",
     "text": [
      "100%|██████████| 5/5 [00:01<00:00,  4.70it/s]\n",
      "100%|██████████| 12/12 [00:03<00:00,  3.21it/s]\n",
      " 57%|█████▋    | 227/400 [13:01<13:00,  4.51s/it]"
     ]
    },
    {
     "name": "stdout",
     "output_type": "stream",
     "text": [
      "epoch 226: train0.918918918918919  val0.7905759162303665\n"
     ]
    },
    {
     "name": "stderr",
     "output_type": "stream",
     "text": [
      "100%|██████████| 5/5 [00:01<00:00,  4.22it/s]\n",
      "100%|██████████| 12/12 [00:02<00:00,  4.04it/s]\n",
      " 57%|█████▋    | 228/400 [13:05<12:37,  4.41s/it]"
     ]
    },
    {
     "name": "stdout",
     "output_type": "stream",
     "text": [
      "epoch 227: train0.9391891891891891  val0.7801047120418848\n"
     ]
    },
    {
     "name": "stderr",
     "output_type": "stream",
     "text": [
      "100%|██████████| 5/5 [00:01<00:00,  3.27it/s]\n",
      "100%|██████████| 12/12 [00:03<00:00,  3.57it/s]\n",
      " 57%|█████▋    | 229/400 [13:10<12:58,  4.56s/it]"
     ]
    },
    {
     "name": "stdout",
     "output_type": "stream",
     "text": [
      "epoch 228: train0.8986486486486487  val0.7931937172774869\n"
     ]
    },
    {
     "name": "stderr",
     "output_type": "stream",
     "text": [
      "100%|██████████| 5/5 [00:00<00:00,  5.91it/s]\n",
      "100%|██████████| 12/12 [00:03<00:00,  3.28it/s]\n",
      " 57%|█████▊    | 230/400 [13:14<12:52,  4.54s/it]"
     ]
    },
    {
     "name": "stdout",
     "output_type": "stream",
     "text": [
      "epoch 229: train0.9324324324324325  val0.8010471204188482\n"
     ]
    },
    {
     "name": "stderr",
     "output_type": "stream",
     "text": [
      "100%|██████████| 5/5 [00:01<00:00,  3.10it/s]\n",
      "100%|██████████| 12/12 [00:02<00:00,  4.74it/s]\n",
      " 58%|█████▊    | 231/400 [13:18<12:27,  4.43s/it]"
     ]
    },
    {
     "name": "stdout",
     "output_type": "stream",
     "text": [
      "epoch 230: train0.9324324324324325  val0.7931937172774869\n"
     ]
    },
    {
     "name": "stderr",
     "output_type": "stream",
     "text": [
      "100%|██████████| 5/5 [00:01<00:00,  3.46it/s]\n",
      "100%|██████████| 12/12 [00:03<00:00,  3.22it/s]\n",
      " 58%|█████▊    | 232/400 [13:23<13:01,  4.65s/it]"
     ]
    },
    {
     "name": "stdout",
     "output_type": "stream",
     "text": [
      "epoch 231: train0.9054054054054054  val0.7853403141361257\n"
     ]
    },
    {
     "name": "stderr",
     "output_type": "stream",
     "text": [
      "100%|██████████| 5/5 [00:01<00:00,  3.30it/s]\n",
      "100%|██████████| 12/12 [00:02<00:00,  4.59it/s]\n",
      " 58%|█████▊    | 233/400 [13:28<12:31,  4.50s/it]"
     ]
    },
    {
     "name": "stdout",
     "output_type": "stream",
     "text": [
      "epoch 232: train0.918918918918919  val0.7853403141361257\n"
     ]
    },
    {
     "name": "stderr",
     "output_type": "stream",
     "text": [
      "100%|██████████| 5/5 [00:01<00:00,  4.04it/s]\n",
      "100%|██████████| 12/12 [00:03<00:00,  3.27it/s]\n",
      " 58%|█████▊    | 234/400 [13:33<12:47,  4.62s/it]"
     ]
    },
    {
     "name": "stdout",
     "output_type": "stream",
     "text": [
      "epoch 233: train0.8378378378378378  val0.7801047120418848\n"
     ]
    },
    {
     "name": "stderr",
     "output_type": "stream",
     "text": [
      "100%|██████████| 5/5 [00:01<00:00,  4.24it/s]\n",
      "100%|██████████| 12/12 [00:03<00:00,  3.94it/s]\n",
      " 59%|█████▉    | 235/400 [13:37<12:23,  4.51s/it]"
     ]
    },
    {
     "name": "stdout",
     "output_type": "stream",
     "text": [
      "epoch 234: train0.9459459459459459  val0.7774869109947644\n"
     ]
    },
    {
     "name": "stderr",
     "output_type": "stream",
     "text": [
      "100%|██████████| 5/5 [00:01<00:00,  3.23it/s]\n",
      "100%|██████████| 12/12 [00:03<00:00,  3.60it/s]\n",
      " 59%|█████▉    | 236/400 [13:42<12:38,  4.62s/it]"
     ]
    },
    {
     "name": "stdout",
     "output_type": "stream",
     "text": [
      "epoch 235: train0.8783783783783784  val0.7801047120418848\n"
     ]
    },
    {
     "name": "stderr",
     "output_type": "stream",
     "text": [
      "100%|██████████| 5/5 [00:00<00:00,  5.55it/s]\n",
      "100%|██████████| 12/12 [00:03<00:00,  3.16it/s]\n",
      " 59%|█████▉    | 237/400 [13:46<12:37,  4.65s/it]"
     ]
    },
    {
     "name": "stdout",
     "output_type": "stream",
     "text": [
      "epoch 236: train0.9256756756756757  val0.7879581151832461\n"
     ]
    },
    {
     "name": "stderr",
     "output_type": "stream",
     "text": [
      "100%|██████████| 5/5 [00:01<00:00,  3.45it/s]\n",
      "100%|██████████| 12/12 [00:02<00:00,  4.99it/s]\n",
      " 60%|█████▉    | 238/400 [13:50<11:55,  4.41s/it]"
     ]
    },
    {
     "name": "stdout",
     "output_type": "stream",
     "text": [
      "epoch 237: train0.9324324324324325  val0.7879581151832461\n"
     ]
    },
    {
     "name": "stderr",
     "output_type": "stream",
     "text": [
      "100%|██████████| 5/5 [00:01<00:00,  3.44it/s]\n",
      "100%|██████████| 12/12 [00:03<00:00,  3.34it/s]\n",
      " 60%|█████▉    | 239/400 [13:55<12:21,  4.61s/it]"
     ]
    },
    {
     "name": "stdout",
     "output_type": "stream",
     "text": [
      "epoch 238: train0.9256756756756757  val0.7774869109947644\n"
     ]
    },
    {
     "name": "stderr",
     "output_type": "stream",
     "text": [
      "100%|██████████| 5/5 [00:00<00:00,  6.52it/s]\n",
      "100%|██████████| 12/12 [00:03<00:00,  3.45it/s]\n",
      " 60%|██████    | 240/400 [14:00<11:59,  4.50s/it]"
     ]
    },
    {
     "name": "stdout",
     "output_type": "stream",
     "text": [
      "epoch 239: train0.9256756756756757  val0.7801047120418848\n"
     ]
    },
    {
     "name": "stderr",
     "output_type": "stream",
     "text": [
      "100%|██████████| 5/5 [00:01<00:00,  3.18it/s]\n",
      "100%|██████████| 12/12 [00:02<00:00,  4.14it/s]\n",
      " 60%|██████    | 241/400 [14:04<11:54,  4.49s/it]"
     ]
    },
    {
     "name": "stdout",
     "output_type": "stream",
     "text": [
      "epoch 240: train0.8986486486486487  val0.7827225130890052\n"
     ]
    },
    {
     "name": "stderr",
     "output_type": "stream",
     "text": [
      "100%|██████████| 5/5 [00:01<00:00,  3.88it/s]\n",
      "100%|██████████| 12/12 [00:03<00:00,  3.21it/s]\n",
      " 60%|██████    | 242/400 [14:09<12:15,  4.66s/it]"
     ]
    },
    {
     "name": "stdout",
     "output_type": "stream",
     "text": [
      "epoch 241: train0.8716216216216216  val0.7827225130890052\n"
     ]
    },
    {
     "name": "stderr",
     "output_type": "stream",
     "text": [
      "100%|██████████| 5/5 [00:01<00:00,  3.37it/s]\n",
      "100%|██████████| 12/12 [00:02<00:00,  4.59it/s]\n",
      " 61%|██████    | 243/400 [14:13<11:45,  4.49s/it]"
     ]
    },
    {
     "name": "stdout",
     "output_type": "stream",
     "text": [
      "epoch 242: train0.918918918918919  val0.7801047120418848\n"
     ]
    },
    {
     "name": "stderr",
     "output_type": "stream",
     "text": [
      "100%|██████████| 5/5 [00:01<00:00,  3.99it/s]\n",
      "100%|██████████| 12/12 [00:03<00:00,  3.17it/s]\n",
      " 61%|██████    | 244/400 [14:18<12:06,  4.66s/it]"
     ]
    },
    {
     "name": "stdout",
     "output_type": "stream",
     "text": [
      "epoch 243: train0.8716216216216216  val0.7722513089005235\n"
     ]
    },
    {
     "name": "stderr",
     "output_type": "stream",
     "text": [
      "100%|██████████| 5/5 [00:01<00:00,  3.60it/s]\n",
      "100%|██████████| 12/12 [00:02<00:00,  4.39it/s]\n",
      " 61%|██████▏   | 245/400 [14:22<11:37,  4.50s/it]"
     ]
    },
    {
     "name": "stdout",
     "output_type": "stream",
     "text": [
      "epoch 244: train0.9054054054054054  val0.774869109947644\n"
     ]
    },
    {
     "name": "stderr",
     "output_type": "stream",
     "text": [
      "100%|██████████| 5/5 [00:01<00:00,  3.24it/s]\n",
      "100%|██████████| 12/12 [00:03<00:00,  3.40it/s]\n",
      " 62%|██████▏   | 246/400 [14:27<11:59,  4.67s/it]"
     ]
    },
    {
     "name": "stdout",
     "output_type": "stream",
     "text": [
      "epoch 245: train0.9391891891891891  val0.7827225130890052\n"
     ]
    },
    {
     "name": "stderr",
     "output_type": "stream",
     "text": [
      "100%|██████████| 5/5 [00:00<00:00,  6.82it/s]\n",
      "100%|██████████| 12/12 [00:03<00:00,  3.33it/s]\n",
      " 62%|██████▏   | 247/400 [14:32<11:40,  4.58s/it]"
     ]
    },
    {
     "name": "stdout",
     "output_type": "stream",
     "text": [
      "epoch 246: train0.918918918918919  val0.7801047120418848\n"
     ]
    },
    {
     "name": "stderr",
     "output_type": "stream",
     "text": [
      "100%|██████████| 5/5 [00:01<00:00,  3.31it/s]\n",
      "100%|██████████| 12/12 [00:02<00:00,  4.45it/s]\n",
      " 62%|██████▏   | 248/400 [14:36<11:19,  4.47s/it]"
     ]
    },
    {
     "name": "stdout",
     "output_type": "stream",
     "text": [
      "epoch 247: train0.8716216216216216  val0.7853403141361257\n"
     ]
    },
    {
     "name": "stderr",
     "output_type": "stream",
     "text": [
      "100%|██████████| 5/5 [00:01<00:00,  4.02it/s]\n",
      "100%|██████████| 12/12 [00:03<00:00,  3.30it/s]\n",
      " 62%|██████▏   | 249/400 [14:41<11:33,  4.59s/it]"
     ]
    },
    {
     "name": "stdout",
     "output_type": "stream",
     "text": [
      "epoch 248: train0.9459459459459459  val0.7827225130890052\n"
     ]
    },
    {
     "name": "stderr",
     "output_type": "stream",
     "text": [
      "100%|██████████| 5/5 [00:01<00:00,  3.38it/s]\n",
      "100%|██████████| 12/12 [00:02<00:00,  4.99it/s]\n",
      " 62%|██████▎   | 250/400 [14:45<10:57,  4.38s/it]"
     ]
    },
    {
     "name": "stdout",
     "output_type": "stream",
     "text": [
      "epoch 249: train0.9256756756756757  val0.7774869109947644\n"
     ]
    },
    {
     "name": "stderr",
     "output_type": "stream",
     "text": [
      "100%|██████████| 5/5 [00:01<00:00,  3.63it/s]\n",
      "100%|██████████| 12/12 [00:03<00:00,  3.24it/s]\n",
      " 63%|██████▎   | 251/400 [14:50<11:27,  4.62s/it]"
     ]
    },
    {
     "name": "stdout",
     "output_type": "stream",
     "text": [
      "epoch 250: train0.9391891891891891  val0.774869109947644\n"
     ]
    },
    {
     "name": "stderr",
     "output_type": "stream",
     "text": [
      "100%|██████████| 5/5 [00:01<00:00,  3.44it/s]\n",
      "100%|██████████| 12/12 [00:02<00:00,  5.11it/s]\n",
      " 63%|██████▎   | 252/400 [14:54<10:47,  4.38s/it]"
     ]
    },
    {
     "name": "stdout",
     "output_type": "stream",
     "text": [
      "epoch 251: train0.9121621621621622  val0.774869109947644\n"
     ]
    },
    {
     "name": "stderr",
     "output_type": "stream",
     "text": [
      "100%|██████████| 5/5 [00:01<00:00,  3.64it/s]\n",
      "100%|██████████| 12/12 [00:03<00:00,  3.24it/s]\n",
      " 63%|██████▎   | 253/400 [14:59<11:14,  4.59s/it]"
     ]
    },
    {
     "name": "stdout",
     "output_type": "stream",
     "text": [
      "epoch 252: train0.8918918918918919  val0.7774869109947644\n"
     ]
    },
    {
     "name": "stderr",
     "output_type": "stream",
     "text": [
      "100%|██████████| 5/5 [00:01<00:00,  4.03it/s]\n",
      "100%|██████████| 12/12 [00:03<00:00,  3.29it/s]\n",
      " 64%|██████▎   | 254/400 [15:04<11:23,  4.68s/it]"
     ]
    },
    {
     "name": "stdout",
     "output_type": "stream",
     "text": [
      "epoch 253: train0.9459459459459459  val0.7722513089005235\n"
     ]
    },
    {
     "name": "stderr",
     "output_type": "stream",
     "text": [
      "100%|██████████| 5/5 [00:01<00:00,  3.46it/s]\n",
      "100%|██████████| 12/12 [00:02<00:00,  5.47it/s]\n",
      " 64%|██████▍   | 255/400 [15:07<10:33,  4.37s/it]"
     ]
    },
    {
     "name": "stdout",
     "output_type": "stream",
     "text": [
      "epoch 254: train0.9527027027027027  val0.7774869109947644\n"
     ]
    },
    {
     "name": "stderr",
     "output_type": "stream",
     "text": [
      "100%|██████████| 5/5 [00:00<00:00,  5.09it/s]\n",
      "100%|██████████| 12/12 [00:03<00:00,  3.09it/s]\n",
      " 64%|██████▍   | 256/400 [15:12<10:50,  4.52s/it]"
     ]
    },
    {
     "name": "stdout",
     "output_type": "stream",
     "text": [
      "epoch 255: train0.9527027027027027  val0.7853403141361257\n"
     ]
    },
    {
     "name": "stderr",
     "output_type": "stream",
     "text": [
      "100%|██████████| 5/5 [00:01<00:00,  3.60it/s]\n",
      "100%|██████████| 12/12 [00:02<00:00,  4.36it/s]\n",
      " 64%|██████▍   | 257/400 [15:16<10:30,  4.41s/it]"
     ]
    },
    {
     "name": "stdout",
     "output_type": "stream",
     "text": [
      "epoch 256: train0.9054054054054054  val0.7827225130890052\n"
     ]
    },
    {
     "name": "stderr",
     "output_type": "stream",
     "text": [
      "100%|██████████| 5/5 [00:01<00:00,  3.29it/s]\n",
      "100%|██████████| 12/12 [00:03<00:00,  3.40it/s]\n",
      " 64%|██████▍   | 258/400 [15:21<10:53,  4.60s/it]"
     ]
    },
    {
     "name": "stdout",
     "output_type": "stream",
     "text": [
      "epoch 257: train0.9256756756756757  val0.7827225130890052\n"
     ]
    },
    {
     "name": "stderr",
     "output_type": "stream",
     "text": [
      "100%|██████████| 5/5 [00:00<00:00,  7.24it/s]\n",
      "100%|██████████| 12/12 [00:03<00:00,  3.34it/s]\n",
      " 65%|██████▍   | 259/400 [15:26<10:35,  4.51s/it]"
     ]
    },
    {
     "name": "stdout",
     "output_type": "stream",
     "text": [
      "epoch 258: train0.9391891891891891  val0.7853403141361257\n"
     ]
    },
    {
     "name": "stderr",
     "output_type": "stream",
     "text": [
      "100%|██████████| 5/5 [00:01<00:00,  3.19it/s]\n",
      "100%|██████████| 12/12 [00:02<00:00,  4.42it/s]\n",
      " 65%|██████▌   | 260/400 [15:30<10:22,  4.44s/it]"
     ]
    },
    {
     "name": "stdout",
     "output_type": "stream",
     "text": [
      "epoch 259: train0.9391891891891891  val0.7827225130890052\n"
     ]
    },
    {
     "name": "stderr",
     "output_type": "stream",
     "text": [
      "100%|██████████| 5/5 [00:01<00:00,  3.94it/s]\n",
      "100%|██████████| 12/12 [00:03<00:00,  3.24it/s]\n",
      " 65%|██████▌   | 261/400 [15:35<10:40,  4.61s/it]"
     ]
    },
    {
     "name": "stdout",
     "output_type": "stream",
     "text": [
      "epoch 260: train0.9121621621621622  val0.7801047120418848\n"
     ]
    },
    {
     "name": "stderr",
     "output_type": "stream",
     "text": [
      "100%|██████████| 5/5 [00:01<00:00,  3.43it/s]\n",
      "100%|██████████| 12/12 [00:02<00:00,  5.27it/s]\n",
      " 66%|██████▌   | 262/400 [15:39<09:59,  4.35s/it]"
     ]
    },
    {
     "name": "stdout",
     "output_type": "stream",
     "text": [
      "epoch 261: train0.9459459459459459  val0.7827225130890052\n"
     ]
    },
    {
     "name": "stderr",
     "output_type": "stream",
     "text": [
      "100%|██████████| 5/5 [00:01<00:00,  3.87it/s]\n",
      "100%|██████████| 12/12 [00:03<00:00,  3.45it/s]\n",
      " 66%|██████▌   | 263/400 [15:44<10:13,  4.48s/it]"
     ]
    },
    {
     "name": "stdout",
     "output_type": "stream",
     "text": [
      "epoch 262: train0.9054054054054054  val0.7827225130890052\n"
     ]
    },
    {
     "name": "stderr",
     "output_type": "stream",
     "text": [
      "100%|██████████| 5/5 [00:01<00:00,  3.45it/s]\n",
      "100%|██████████| 12/12 [00:02<00:00,  5.49it/s]\n",
      " 66%|██████▌   | 264/400 [15:47<09:34,  4.23s/it]"
     ]
    },
    {
     "name": "stdout",
     "output_type": "stream",
     "text": [
      "epoch 263: train0.8918918918918919  val0.7801047120418848\n"
     ]
    },
    {
     "name": "stderr",
     "output_type": "stream",
     "text": [
      "100%|██████████| 5/5 [00:01<00:00,  4.36it/s]\n",
      "100%|██████████| 12/12 [00:03<00:00,  3.30it/s]\n",
      " 66%|██████▋   | 265/400 [15:52<09:53,  4.40s/it]"
     ]
    },
    {
     "name": "stdout",
     "output_type": "stream",
     "text": [
      "epoch 264: train0.8986486486486487  val0.7774869109947644\n"
     ]
    },
    {
     "name": "stderr",
     "output_type": "stream",
     "text": [
      "100%|██████████| 5/5 [00:01<00:00,  3.58it/s]\n",
      "100%|██████████| 12/12 [00:02<00:00,  5.00it/s]\n",
      " 66%|██████▋   | 266/400 [15:56<09:25,  4.22s/it]"
     ]
    },
    {
     "name": "stdout",
     "output_type": "stream",
     "text": [
      "epoch 265: train0.9324324324324325  val0.7801047120418848\n"
     ]
    },
    {
     "name": "stderr",
     "output_type": "stream",
     "text": [
      "100%|██████████| 5/5 [00:01<00:00,  3.90it/s]\n",
      "100%|██████████| 12/12 [00:03<00:00,  3.27it/s]\n",
      " 67%|██████▋   | 267/400 [16:01<09:51,  4.44s/it]"
     ]
    },
    {
     "name": "stdout",
     "output_type": "stream",
     "text": [
      "epoch 266: train0.9054054054054054  val0.7827225130890052\n"
     ]
    },
    {
     "name": "stderr",
     "output_type": "stream",
     "text": [
      "100%|██████████| 5/5 [00:01<00:00,  3.93it/s]\n",
      "100%|██████████| 12/12 [00:03<00:00,  3.27it/s]\n",
      " 67%|██████▋   | 268/400 [16:06<10:06,  4.59s/it]"
     ]
    },
    {
     "name": "stdout",
     "output_type": "stream",
     "text": [
      "epoch 267: train0.8918918918918919  val0.7774869109947644\n"
     ]
    },
    {
     "name": "stderr",
     "output_type": "stream",
     "text": [
      "100%|██████████| 5/5 [00:01<00:00,  3.40it/s]\n",
      "100%|██████████| 12/12 [00:02<00:00,  4.94it/s]\n",
      " 67%|██████▋   | 269/400 [16:10<09:34,  4.39s/it]"
     ]
    },
    {
     "name": "stdout",
     "output_type": "stream",
     "text": [
      "epoch 268: train0.9594594594594594  val0.7827225130890052\n"
     ]
    },
    {
     "name": "stderr",
     "output_type": "stream",
     "text": [
      "100%|██████████| 5/5 [00:01<00:00,  4.28it/s]\n",
      "100%|██████████| 12/12 [00:03<00:00,  3.27it/s]\n",
      " 68%|██████▊   | 270/400 [16:14<09:48,  4.53s/it]"
     ]
    },
    {
     "name": "stdout",
     "output_type": "stream",
     "text": [
      "epoch 269: train0.9256756756756757  val0.7827225130890052\n"
     ]
    },
    {
     "name": "stderr",
     "output_type": "stream",
     "text": [
      "100%|██████████| 5/5 [00:01<00:00,  4.19it/s]\n",
      "100%|██████████| 12/12 [00:02<00:00,  4.50it/s]\n",
      " 68%|██████▊   | 271/400 [16:18<09:18,  4.33s/it]"
     ]
    },
    {
     "name": "stdout",
     "output_type": "stream",
     "text": [
      "epoch 270: train0.9121621621621622  val0.7827225130890052\n"
     ]
    },
    {
     "name": "stderr",
     "output_type": "stream",
     "text": [
      "100%|██████████| 5/5 [00:01<00:00,  3.31it/s]\n",
      "100%|██████████| 12/12 [00:03<00:00,  3.37it/s]\n",
      " 68%|██████▊   | 272/400 [16:23<09:43,  4.56s/it]"
     ]
    },
    {
     "name": "stdout",
     "output_type": "stream",
     "text": [
      "epoch 271: train0.9121621621621622  val0.7905759162303665\n"
     ]
    },
    {
     "name": "stderr",
     "output_type": "stream",
     "text": [
      "100%|██████████| 5/5 [00:00<00:00,  7.17it/s]\n",
      "100%|██████████| 12/12 [00:03<00:00,  3.43it/s]\n",
      " 68%|██████▊   | 273/400 [16:28<09:25,  4.45s/it]"
     ]
    },
    {
     "name": "stdout",
     "output_type": "stream",
     "text": [
      "epoch 272: train0.9391891891891891  val0.7827225130890052\n"
     ]
    },
    {
     "name": "stderr",
     "output_type": "stream",
     "text": [
      "100%|██████████| 5/5 [00:01<00:00,  3.17it/s]\n",
      "100%|██████████| 12/12 [00:02<00:00,  4.39it/s]\n",
      " 68%|██████▊   | 274/400 [16:32<09:15,  4.41s/it]"
     ]
    },
    {
     "name": "stdout",
     "output_type": "stream",
     "text": [
      "epoch 273: train0.9391891891891891  val0.7827225130890052\n"
     ]
    },
    {
     "name": "stderr",
     "output_type": "stream",
     "text": [
      "100%|██████████| 5/5 [00:01<00:00,  4.49it/s]\n",
      "100%|██████████| 12/12 [00:03<00:00,  3.41it/s]\n",
      " 69%|██████▉   | 275/400 [16:37<09:19,  4.48s/it]"
     ]
    },
    {
     "name": "stdout",
     "output_type": "stream",
     "text": [
      "epoch 274: train0.9391891891891891  val0.7905759162303665\n"
     ]
    },
    {
     "name": "stderr",
     "output_type": "stream",
     "text": [
      "100%|██████████| 5/5 [00:01<00:00,  3.44it/s]\n",
      "100%|██████████| 12/12 [00:02<00:00,  5.43it/s]\n",
      " 69%|██████▉   | 276/400 [16:40<08:45,  4.24s/it]"
     ]
    },
    {
     "name": "stdout",
     "output_type": "stream",
     "text": [
      "epoch 275: train0.9324324324324325  val0.7853403141361257\n"
     ]
    },
    {
     "name": "stderr",
     "output_type": "stream",
     "text": [
      "100%|██████████| 5/5 [00:01<00:00,  3.54it/s]\n",
      "100%|██████████| 12/12 [00:03<00:00,  3.64it/s]\n",
      " 69%|██████▉   | 277/400 [16:45<08:58,  4.38s/it]"
     ]
    },
    {
     "name": "stdout",
     "output_type": "stream",
     "text": [
      "epoch 276: train0.9256756756756757  val0.7801047120418848\n"
     ]
    },
    {
     "name": "stderr",
     "output_type": "stream",
     "text": [
      "100%|██████████| 5/5 [00:01<00:00,  3.45it/s]\n",
      "100%|██████████| 12/12 [00:02<00:00,  5.76it/s]\n",
      " 70%|██████▉   | 278/400 [16:48<08:23,  4.13s/it]"
     ]
    },
    {
     "name": "stdout",
     "output_type": "stream",
     "text": [
      "epoch 277: train0.918918918918919  val0.7801047120418848\n"
     ]
    },
    {
     "name": "stderr",
     "output_type": "stream",
     "text": [
      "100%|██████████| 5/5 [00:01<00:00,  3.68it/s]\n",
      "100%|██████████| 12/12 [00:03<00:00,  3.55it/s]\n",
      " 70%|██████▉   | 279/400 [16:53<08:41,  4.31s/it]"
     ]
    },
    {
     "name": "stdout",
     "output_type": "stream",
     "text": [
      "epoch 278: train0.9527027027027027  val0.7801047120418848\n"
     ]
    },
    {
     "name": "stderr",
     "output_type": "stream",
     "text": [
      "100%|██████████| 5/5 [00:00<00:00,  5.41it/s]\n",
      "100%|██████████| 12/12 [00:03<00:00,  3.39it/s]\n",
      " 70%|███████   | 280/400 [16:58<08:43,  4.36s/it]"
     ]
    },
    {
     "name": "stdout",
     "output_type": "stream",
     "text": [
      "epoch 279: train0.9256756756756757  val0.7774869109947644\n"
     ]
    },
    {
     "name": "stderr",
     "output_type": "stream",
     "text": [
      "100%|██████████| 5/5 [00:01<00:00,  3.13it/s]\n",
      "100%|██████████| 12/12 [00:02<00:00,  4.46it/s]\n",
      " 70%|███████   | 281/400 [17:02<08:36,  4.34s/it]"
     ]
    },
    {
     "name": "stdout",
     "output_type": "stream",
     "text": [
      "epoch 280: train0.8986486486486487  val0.7801047120418848\n"
     ]
    },
    {
     "name": "stderr",
     "output_type": "stream",
     "text": [
      "100%|██████████| 5/5 [00:01<00:00,  4.09it/s]\n",
      "100%|██████████| 12/12 [00:03<00:00,  3.52it/s]\n",
      " 70%|███████   | 282/400 [17:07<08:43,  4.43s/it]"
     ]
    },
    {
     "name": "stdout",
     "output_type": "stream",
     "text": [
      "epoch 281: train0.9391891891891891  val0.7722513089005235\n"
     ]
    },
    {
     "name": "stderr",
     "output_type": "stream",
     "text": [
      "100%|██████████| 5/5 [00:01<00:00,  3.31it/s]\n",
      "100%|██████████| 12/12 [00:02<00:00,  5.10it/s]\n",
      " 71%|███████   | 283/400 [17:11<08:19,  4.27s/it]"
     ]
    },
    {
     "name": "stdout",
     "output_type": "stream",
     "text": [
      "epoch 282: train0.8783783783783784  val0.7827225130890052\n"
     ]
    },
    {
     "name": "stderr",
     "output_type": "stream",
     "text": [
      "100%|██████████| 5/5 [00:01<00:00,  3.58it/s]\n",
      "100%|██████████| 12/12 [00:03<00:00,  3.67it/s]\n",
      " 71%|███████   | 284/400 [17:15<08:29,  4.39s/it]"
     ]
    },
    {
     "name": "stdout",
     "output_type": "stream",
     "text": [
      "epoch 283: train0.8716216216216216  val0.7774869109947644\n"
     ]
    },
    {
     "name": "stderr",
     "output_type": "stream",
     "text": [
      "100%|██████████| 5/5 [00:01<00:00,  3.43it/s]\n",
      "100%|██████████| 12/12 [00:02<00:00,  5.64it/s]\n",
      " 71%|███████▏  | 285/400 [17:19<07:57,  4.15s/it]"
     ]
    },
    {
     "name": "stdout",
     "output_type": "stream",
     "text": [
      "epoch 284: train0.918918918918919  val0.7774869109947644\n"
     ]
    },
    {
     "name": "stderr",
     "output_type": "stream",
     "text": [
      "100%|██████████| 5/5 [00:01<00:00,  4.20it/s]\n",
      "100%|██████████| 12/12 [00:03<00:00,  3.48it/s]\n",
      " 72%|███████▏  | 286/400 [17:23<08:10,  4.30s/it]"
     ]
    },
    {
     "name": "stdout",
     "output_type": "stream",
     "text": [
      "epoch 285: train0.9324324324324325  val0.774869109947644\n"
     ]
    },
    {
     "name": "stderr",
     "output_type": "stream",
     "text": [
      "100%|██████████| 5/5 [00:01<00:00,  3.43it/s]\n",
      "100%|██████████| 12/12 [00:02<00:00,  5.40it/s]\n",
      " 72%|███████▏  | 287/400 [17:27<07:45,  4.12s/it]"
     ]
    },
    {
     "name": "stdout",
     "output_type": "stream",
     "text": [
      "epoch 286: train0.9527027027027027  val0.7879581151832461\n"
     ]
    },
    {
     "name": "stderr",
     "output_type": "stream",
     "text": [
      "100%|██████████| 5/5 [00:01<00:00,  4.90it/s]\n",
      "100%|██████████| 12/12 [00:03<00:00,  3.26it/s]\n",
      " 72%|███████▏  | 288/400 [17:32<08:01,  4.30s/it]"
     ]
    },
    {
     "name": "stdout",
     "output_type": "stream",
     "text": [
      "epoch 287: train0.8851351351351351  val0.7931937172774869\n"
     ]
    },
    {
     "name": "stderr",
     "output_type": "stream",
     "text": [
      "100%|██████████| 5/5 [00:01<00:00,  3.50it/s]\n",
      "100%|██████████| 12/12 [00:02<00:00,  5.44it/s]\n",
      " 72%|███████▏  | 289/400 [17:35<07:35,  4.10s/it]"
     ]
    },
    {
     "name": "stdout",
     "output_type": "stream",
     "text": [
      "epoch 288: train0.9256756756756757  val0.7801047120418848\n"
     ]
    },
    {
     "name": "stderr",
     "output_type": "stream",
     "text": [
      "100%|██████████| 5/5 [00:00<00:00,  5.05it/s]\n",
      "100%|██████████| 12/12 [00:03<00:00,  3.31it/s]\n",
      " 72%|███████▎  | 290/400 [17:40<07:48,  4.26s/it]"
     ]
    },
    {
     "name": "stdout",
     "output_type": "stream",
     "text": [
      "epoch 289: train0.8783783783783784  val0.7853403141361257\n"
     ]
    },
    {
     "name": "stderr",
     "output_type": "stream",
     "text": [
      "100%|██████████| 5/5 [00:01<00:00,  3.79it/s]\n",
      "100%|██████████| 12/12 [00:02<00:00,  4.94it/s]\n",
      " 73%|███████▎  | 291/400 [17:44<07:27,  4.11s/it]"
     ]
    },
    {
     "name": "stdout",
     "output_type": "stream",
     "text": [
      "epoch 290: train0.8918918918918919  val0.7827225130890052\n"
     ]
    },
    {
     "name": "stderr",
     "output_type": "stream",
     "text": [
      "100%|██████████| 5/5 [00:01<00:00,  4.03it/s]\n",
      "100%|██████████| 12/12 [00:03<00:00,  3.41it/s]\n",
      " 73%|███████▎  | 292/400 [17:49<07:45,  4.31s/it]"
     ]
    },
    {
     "name": "stdout",
     "output_type": "stream",
     "text": [
      "epoch 291: train0.8783783783783784  val0.774869109947644\n"
     ]
    },
    {
     "name": "stderr",
     "output_type": "stream",
     "text": [
      "100%|██████████| 5/5 [00:01<00:00,  4.74it/s]\n",
      "100%|██████████| 12/12 [00:03<00:00,  3.33it/s]\n",
      " 73%|███████▎  | 293/400 [17:53<07:52,  4.41s/it]"
     ]
    },
    {
     "name": "stdout",
     "output_type": "stream",
     "text": [
      "epoch 292: train0.9256756756756757  val0.7905759162303665\n"
     ]
    },
    {
     "name": "stderr",
     "output_type": "stream",
     "text": [
      "100%|██████████| 5/5 [00:01<00:00,  3.41it/s]\n",
      "100%|██████████| 12/12 [00:02<00:00,  5.76it/s]\n",
      " 74%|███████▎  | 294/400 [17:57<07:20,  4.16s/it]"
     ]
    },
    {
     "name": "stdout",
     "output_type": "stream",
     "text": [
      "epoch 293: train0.9121621621621622  val0.7827225130890052\n"
     ]
    },
    {
     "name": "stderr",
     "output_type": "stream",
     "text": [
      "100%|██████████| 5/5 [00:01<00:00,  4.58it/s]\n",
      "100%|██████████| 12/12 [00:03<00:00,  3.58it/s]\n",
      " 74%|███████▍  | 295/400 [18:01<07:25,  4.25s/it]"
     ]
    },
    {
     "name": "stdout",
     "output_type": "stream",
     "text": [
      "epoch 294: train0.8445945945945946  val0.7931937172774869\n"
     ]
    },
    {
     "name": "stderr",
     "output_type": "stream",
     "text": [
      "100%|██████████| 5/5 [00:01<00:00,  3.46it/s]\n",
      "100%|██████████| 12/12 [00:02<00:00,  5.66it/s]\n",
      " 74%|███████▍  | 296/400 [18:05<07:00,  4.04s/it]"
     ]
    },
    {
     "name": "stdout",
     "output_type": "stream",
     "text": [
      "epoch 295: train0.9527027027027027  val0.7801047120418848\n"
     ]
    },
    {
     "name": "stderr",
     "output_type": "stream",
     "text": [
      "100%|██████████| 5/5 [00:01<00:00,  4.51it/s]\n",
      "100%|██████████| 12/12 [00:03<00:00,  3.43it/s]\n",
      " 74%|███████▍  | 297/400 [18:10<07:14,  4.22s/it]"
     ]
    },
    {
     "name": "stdout",
     "output_type": "stream",
     "text": [
      "epoch 296: train0.9256756756756757  val0.7853403141361257\n"
     ]
    },
    {
     "name": "stderr",
     "output_type": "stream",
     "text": [
      "100%|██████████| 5/5 [00:01<00:00,  3.50it/s]\n",
      "100%|██████████| 12/12 [00:01<00:00,  6.10it/s]\n",
      " 74%|███████▍  | 298/400 [18:13<06:45,  3.97s/it]"
     ]
    },
    {
     "name": "stdout",
     "output_type": "stream",
     "text": [
      "epoch 297: train0.9324324324324325  val0.7827225130890052\n"
     ]
    },
    {
     "name": "stderr",
     "output_type": "stream",
     "text": [
      "100%|██████████| 5/5 [00:00<00:00,  5.21it/s]\n",
      "100%|██████████| 12/12 [00:02<00:00,  4.20it/s]\n",
      " 75%|███████▍  | 299/400 [18:17<06:36,  3.93s/it]"
     ]
    },
    {
     "name": "stdout",
     "output_type": "stream",
     "text": [
      "epoch 298: train0.9256756756756757  val0.7827225130890052\n"
     ]
    },
    {
     "name": "stderr",
     "output_type": "stream",
     "text": [
      "100%|██████████| 5/5 [00:01<00:00,  3.58it/s]\n",
      "100%|██████████| 12/12 [00:01<00:00,  6.79it/s]\n",
      " 75%|███████▌  | 300/400 [18:20<06:10,  3.70s/it]"
     ]
    },
    {
     "name": "stdout",
     "output_type": "stream",
     "text": [
      "epoch 299: train0.918918918918919  val0.7801047120418848\n"
     ]
    },
    {
     "name": "stderr",
     "output_type": "stream",
     "text": [
      "100%|██████████| 5/5 [00:01<00:00,  4.58it/s]\n",
      "100%|██████████| 12/12 [00:02<00:00,  5.82it/s]\n",
      " 75%|███████▌  | 301/400 [18:23<05:52,  3.56s/it]"
     ]
    },
    {
     "name": "stdout",
     "output_type": "stream",
     "text": [
      "epoch 300: train0.9527027027027027  val0.7827225130890052\n"
     ]
    },
    {
     "name": "stderr",
     "output_type": "stream",
     "text": [
      "100%|██████████| 5/5 [00:01<00:00,  4.42it/s]\n",
      "100%|██████████| 12/12 [00:02<00:00,  4.18it/s]\n",
      " 76%|███████▌  | 302/400 [18:27<06:02,  3.70s/it]"
     ]
    },
    {
     "name": "stdout",
     "output_type": "stream",
     "text": [
      "epoch 301: train0.9054054054054054  val0.7905759162303665\n"
     ]
    },
    {
     "name": "stderr",
     "output_type": "stream",
     "text": [
      "100%|██████████| 5/5 [00:00<00:00,  7.78it/s]\n",
      "100%|██████████| 12/12 [00:02<00:00,  5.78it/s]\n",
      " 76%|███████▌  | 303/400 [18:30<05:30,  3.40s/it]"
     ]
    },
    {
     "name": "stdout",
     "output_type": "stream",
     "text": [
      "epoch 302: train0.8581081081081081  val0.7853403141361257\n"
     ]
    },
    {
     "name": "stderr",
     "output_type": "stream",
     "text": [
      "100%|██████████| 5/5 [00:01<00:00,  3.97it/s]\n",
      "100%|██████████| 12/12 [00:02<00:00,  5.98it/s]\n",
      " 76%|███████▌  | 304/400 [18:33<05:23,  3.37s/it]"
     ]
    },
    {
     "name": "stdout",
     "output_type": "stream",
     "text": [
      "epoch 303: train0.9256756756756757  val0.7905759162303665\n"
     ]
    },
    {
     "name": "stderr",
     "output_type": "stream",
     "text": [
      "100%|██████████| 5/5 [00:00<00:00,  8.07it/s]\n",
      "100%|██████████| 12/12 [00:01<00:00,  8.59it/s]\n",
      " 76%|███████▋  | 305/400 [18:35<04:41,  2.96s/it]"
     ]
    },
    {
     "name": "stdout",
     "output_type": "stream",
     "text": [
      "epoch 304: train0.9121621621621622  val0.7879581151832461\n"
     ]
    },
    {
     "name": "stderr",
     "output_type": "stream",
     "text": [
      "100%|██████████| 5/5 [00:00<00:00,  8.22it/s]\n",
      "100%|██████████| 12/12 [00:01<00:00,  8.54it/s]\n",
      " 76%|███████▋  | 306/400 [18:37<04:12,  2.68s/it]"
     ]
    },
    {
     "name": "stdout",
     "output_type": "stream",
     "text": [
      "epoch 305: train0.8783783783783784  val0.7801047120418848\n"
     ]
    },
    {
     "name": "stderr",
     "output_type": "stream",
     "text": [
      "100%|██████████| 5/5 [00:00<00:00,  6.68it/s]\n",
      "100%|██████████| 12/12 [00:01<00:00,  6.31it/s]\n",
      " 77%|███████▋  | 307/400 [18:40<04:08,  2.67s/it]"
     ]
    },
    {
     "name": "stdout",
     "output_type": "stream",
     "text": [
      "epoch 306: train0.8918918918918919  val0.7853403141361257\n"
     ]
    },
    {
     "name": "stderr",
     "output_type": "stream",
     "text": [
      "100%|██████████| 5/5 [00:00<00:00,  7.98it/s]\n",
      "100%|██████████| 12/12 [00:01<00:00,  8.80it/s]\n",
      " 77%|███████▋  | 308/400 [18:42<03:47,  2.47s/it]"
     ]
    },
    {
     "name": "stdout",
     "output_type": "stream",
     "text": [
      "epoch 307: train0.8986486486486487  val0.7827225130890052\n"
     ]
    },
    {
     "name": "stderr",
     "output_type": "stream",
     "text": [
      "100%|██████████| 5/5 [00:00<00:00,  6.10it/s]\n",
      "100%|██████████| 12/12 [00:01<00:00,  8.93it/s]\n",
      " 77%|███████▋  | 309/400 [18:44<03:36,  2.38s/it]"
     ]
    },
    {
     "name": "stdout",
     "output_type": "stream",
     "text": [
      "epoch 308: train0.9256756756756757  val0.7853403141361257\n"
     ]
    },
    {
     "name": "stderr",
     "output_type": "stream",
     "text": [
      "100%|██████████| 5/5 [00:00<00:00,  5.24it/s]\n",
      "100%|██████████| 12/12 [00:02<00:00,  5.08it/s]\n",
      " 78%|███████▊  | 310/400 [18:47<03:59,  2.66s/it]"
     ]
    },
    {
     "name": "stdout",
     "output_type": "stream",
     "text": [
      "epoch 309: train0.9256756756756757  val0.7905759162303665\n"
     ]
    },
    {
     "name": "stderr",
     "output_type": "stream",
     "text": [
      "100%|██████████| 5/5 [00:00<00:00,  6.11it/s]\n",
      "100%|██████████| 12/12 [00:01<00:00,  8.58it/s]\n",
      " 78%|███████▊  | 311/400 [18:50<03:45,  2.53s/it]"
     ]
    },
    {
     "name": "stdout",
     "output_type": "stream",
     "text": [
      "epoch 310: train0.9054054054054054  val0.7774869109947644\n"
     ]
    },
    {
     "name": "stderr",
     "output_type": "stream",
     "text": [
      "100%|██████████| 5/5 [00:00<00:00,  8.19it/s]\n",
      "100%|██████████| 12/12 [00:01<00:00,  8.65it/s]\n",
      " 78%|███████▊  | 312/400 [18:52<03:28,  2.37s/it]"
     ]
    },
    {
     "name": "stdout",
     "output_type": "stream",
     "text": [
      "epoch 311: train0.8986486486486487  val0.7774869109947644\n"
     ]
    },
    {
     "name": "stderr",
     "output_type": "stream",
     "text": [
      "100%|██████████| 5/5 [00:00<00:00,  8.25it/s]\n",
      "100%|██████████| 12/12 [00:01<00:00,  7.20it/s]\n",
      " 78%|███████▊  | 313/400 [18:54<03:24,  2.35s/it]"
     ]
    },
    {
     "name": "stdout",
     "output_type": "stream",
     "text": [
      "epoch 312: train0.9256756756756757  val0.7827225130890052\n"
     ]
    },
    {
     "name": "stderr",
     "output_type": "stream",
     "text": [
      "100%|██████████| 5/5 [00:01<00:00,  4.42it/s]\n",
      "100%|██████████| 12/12 [00:01<00:00,  8.49it/s]\n",
      " 78%|███████▊  | 314/400 [18:56<03:27,  2.41s/it]"
     ]
    },
    {
     "name": "stdout",
     "output_type": "stream",
     "text": [
      "epoch 313: train0.918918918918919  val0.7774869109947644\n"
     ]
    },
    {
     "name": "stderr",
     "output_type": "stream",
     "text": [
      "100%|██████████| 5/5 [00:00<00:00,  7.87it/s]\n",
      "100%|██████████| 12/12 [00:01<00:00,  8.98it/s]\n",
      " 79%|███████▉  | 315/400 [18:58<03:14,  2.28s/it]"
     ]
    },
    {
     "name": "stdout",
     "output_type": "stream",
     "text": [
      "epoch 314: train0.9459459459459459  val0.7722513089005235\n"
     ]
    },
    {
     "name": "stderr",
     "output_type": "stream",
     "text": [
      "100%|██████████| 5/5 [00:00<00:00,  8.19it/s]\n",
      "100%|██████████| 12/12 [00:01<00:00,  8.36it/s]\n",
      " 79%|███████▉  | 316/400 [19:00<03:06,  2.21s/it]"
     ]
    },
    {
     "name": "stdout",
     "output_type": "stream",
     "text": [
      "epoch 315: train0.8986486486486487  val0.7722513089005235\n"
     ]
    },
    {
     "name": "stderr",
     "output_type": "stream",
     "text": [
      "100%|██████████| 5/5 [00:00<00:00,  6.53it/s]\n",
      "100%|██████████| 12/12 [00:02<00:00,  5.36it/s]\n",
      " 79%|███████▉  | 317/400 [19:03<03:23,  2.45s/it]"
     ]
    },
    {
     "name": "stdout",
     "output_type": "stream",
     "text": [
      "epoch 316: train0.8851351351351351  val0.7853403141361257\n"
     ]
    },
    {
     "name": "stderr",
     "output_type": "stream",
     "text": [
      "100%|██████████| 5/5 [00:00<00:00,  7.93it/s]\n",
      "100%|██████████| 12/12 [00:01<00:00,  9.08it/s]\n",
      " 80%|███████▉  | 318/400 [19:05<03:09,  2.31s/it]"
     ]
    },
    {
     "name": "stdout",
     "output_type": "stream",
     "text": [
      "epoch 317: train0.918918918918919  val0.7696335078534031\n"
     ]
    },
    {
     "name": "stderr",
     "output_type": "stream",
     "text": [
      "100%|██████████| 5/5 [00:00<00:00,  8.37it/s]\n",
      "100%|██████████| 12/12 [00:01<00:00,  9.21it/s]\n",
      " 80%|███████▉  | 319/400 [19:07<02:57,  2.19s/it]"
     ]
    },
    {
     "name": "stdout",
     "output_type": "stream",
     "text": [
      "epoch 318: train0.9054054054054054  val0.7827225130890052\n"
     ]
    },
    {
     "name": "stderr",
     "output_type": "stream",
     "text": [
      "100%|██████████| 5/5 [00:00<00:00,  7.60it/s]\n",
      "100%|██████████| 12/12 [00:01<00:00,  6.99it/s]\n",
      " 80%|████████  | 320/400 [19:10<02:59,  2.25s/it]"
     ]
    },
    {
     "name": "stdout",
     "output_type": "stream",
     "text": [
      "epoch 319: train0.8986486486486487  val0.7984293193717278\n"
     ]
    },
    {
     "name": "stderr",
     "output_type": "stream",
     "text": [
      "100%|██████████| 5/5 [00:00<00:00,  6.20it/s]\n",
      "100%|██████████| 12/12 [00:01<00:00,  8.75it/s]\n",
      " 80%|████████  | 321/400 [19:12<02:56,  2.23s/it]"
     ]
    },
    {
     "name": "stdout",
     "output_type": "stream",
     "text": [
      "epoch 320: train0.918918918918919  val0.7801047120418848\n"
     ]
    },
    {
     "name": "stderr",
     "output_type": "stream",
     "text": [
      "100%|██████████| 5/5 [00:00<00:00,  6.46it/s]\n",
      "100%|██████████| 12/12 [00:01<00:00,  9.01it/s]\n",
      " 80%|████████  | 322/400 [19:14<02:51,  2.19s/it]"
     ]
    },
    {
     "name": "stdout",
     "output_type": "stream",
     "text": [
      "epoch 321: train0.8851351351351351  val0.7879581151832461\n"
     ]
    },
    {
     "name": "stderr",
     "output_type": "stream",
     "text": [
      "100%|██████████| 5/5 [00:00<00:00,  5.86it/s]\n",
      "100%|██████████| 12/12 [00:01<00:00,  6.27it/s]\n",
      " 81%|████████  | 323/400 [19:17<03:02,  2.37s/it]"
     ]
    },
    {
     "name": "stdout",
     "output_type": "stream",
     "text": [
      "epoch 322: train0.8986486486486487  val0.7827225130890052\n"
     ]
    },
    {
     "name": "stderr",
     "output_type": "stream",
     "text": [
      "100%|██████████| 5/5 [00:00<00:00,  5.50it/s]\n",
      "100%|██████████| 12/12 [00:01<00:00,  8.83it/s]\n",
      " 81%|████████  | 324/400 [19:19<02:57,  2.34s/it]"
     ]
    },
    {
     "name": "stdout",
     "output_type": "stream",
     "text": [
      "epoch 323: train0.918918918918919  val0.7801047120418848\n"
     ]
    },
    {
     "name": "stderr",
     "output_type": "stream",
     "text": [
      "100%|██████████| 5/5 [00:00<00:00,  8.29it/s]\n",
      "100%|██████████| 12/12 [00:01<00:00,  8.97it/s]\n",
      " 81%|████████▏ | 325/400 [19:21<02:46,  2.22s/it]"
     ]
    },
    {
     "name": "stdout",
     "output_type": "stream",
     "text": [
      "epoch 324: train0.8918918918918919  val0.774869109947644\n"
     ]
    },
    {
     "name": "stderr",
     "output_type": "stream",
     "text": [
      "100%|██████████| 5/5 [00:00<00:00,  8.17it/s]\n",
      "100%|██████████| 12/12 [00:01<00:00,  8.38it/s]\n",
      " 82%|████████▏ | 326/400 [19:23<02:40,  2.17s/it]"
     ]
    },
    {
     "name": "stdout",
     "output_type": "stream",
     "text": [
      "epoch 325: train0.9054054054054054  val0.7801047120418848\n"
     ]
    },
    {
     "name": "stderr",
     "output_type": "stream",
     "text": [
      "100%|██████████| 5/5 [00:00<00:00,  6.03it/s]\n",
      "100%|██████████| 12/12 [00:01<00:00,  6.28it/s]\n",
      " 82%|████████▏ | 327/400 [19:26<02:51,  2.35s/it]"
     ]
    },
    {
     "name": "stdout",
     "output_type": "stream",
     "text": [
      "epoch 326: train0.8918918918918919  val0.7722513089005235\n"
     ]
    },
    {
     "name": "stderr",
     "output_type": "stream",
     "text": [
      "100%|██████████| 5/5 [00:00<00:00,  7.94it/s]\n",
      "100%|██████████| 12/12 [00:01<00:00,  9.21it/s]\n",
      " 82%|████████▏ | 328/400 [19:28<02:40,  2.22s/it]"
     ]
    },
    {
     "name": "stdout",
     "output_type": "stream",
     "text": [
      "epoch 327: train0.8986486486486487  val0.7774869109947644\n"
     ]
    },
    {
     "name": "stderr",
     "output_type": "stream",
     "text": [
      "100%|██████████| 5/5 [00:00<00:00,  6.87it/s]\n",
      "100%|██████████| 12/12 [00:01<00:00,  8.24it/s]\n",
      " 82%|████████▏ | 329/400 [19:30<02:37,  2.21s/it]"
     ]
    },
    {
     "name": "stdout",
     "output_type": "stream",
     "text": [
      "epoch 328: train0.8851351351351351  val0.7774869109947644\n"
     ]
    },
    {
     "name": "stderr",
     "output_type": "stream",
     "text": [
      "100%|██████████| 5/5 [00:00<00:00,  5.10it/s]\n",
      "100%|██████████| 12/12 [00:02<00:00,  4.95it/s]\n",
      " 82%|████████▎ | 330/400 [19:33<03:00,  2.57s/it]"
     ]
    },
    {
     "name": "stdout",
     "output_type": "stream",
     "text": [
      "epoch 329: train0.8716216216216216  val0.7696335078534031\n"
     ]
    },
    {
     "name": "stderr",
     "output_type": "stream",
     "text": [
      "100%|██████████| 5/5 [00:00<00:00,  5.56it/s]\n",
      "100%|██████████| 12/12 [00:01<00:00,  8.36it/s]\n",
      " 83%|████████▎ | 331/400 [19:36<02:52,  2.51s/it]"
     ]
    },
    {
     "name": "stdout",
     "output_type": "stream",
     "text": [
      "epoch 330: train0.918918918918919  val0.7827225130890052\n"
     ]
    },
    {
     "name": "stderr",
     "output_type": "stream",
     "text": [
      "100%|██████████| 5/5 [00:00<00:00,  5.60it/s]\n",
      "100%|██████████| 12/12 [00:01<00:00,  8.18it/s]\n",
      " 83%|████████▎ | 332/400 [19:38<02:47,  2.46s/it]"
     ]
    },
    {
     "name": "stdout",
     "output_type": "stream",
     "text": [
      "epoch 331: train0.9324324324324325  val0.7827225130890052\n"
     ]
    },
    {
     "name": "stderr",
     "output_type": "stream",
     "text": [
      "100%|██████████| 5/5 [00:01<00:00,  4.20it/s]\n",
      "100%|██████████| 12/12 [00:02<00:00,  4.43it/s]\n",
      " 83%|████████▎ | 333/400 [19:42<03:14,  2.90s/it]"
     ]
    },
    {
     "name": "stdout",
     "output_type": "stream",
     "text": [
      "epoch 332: train0.9054054054054054  val0.7853403141361257\n"
     ]
    },
    {
     "name": "stderr",
     "output_type": "stream",
     "text": [
      "100%|██████████| 5/5 [00:00<00:00,  6.20it/s]\n",
      "100%|██████████| 12/12 [00:01<00:00,  7.33it/s]\n",
      " 84%|████████▎ | 334/400 [19:44<03:02,  2.76s/it]"
     ]
    },
    {
     "name": "stdout",
     "output_type": "stream",
     "text": [
      "epoch 333: train0.9121621621621622  val0.7801047120418848\n"
     ]
    },
    {
     "name": "stderr",
     "output_type": "stream",
     "text": [
      "100%|██████████| 5/5 [00:00<00:00,  5.93it/s]\n",
      "100%|██████████| 12/12 [00:02<00:00,  5.11it/s]\n",
      " 84%|████████▍ | 335/400 [19:48<03:08,  2.90s/it]"
     ]
    },
    {
     "name": "stdout",
     "output_type": "stream",
     "text": [
      "epoch 334: train0.9054054054054054  val0.7827225130890052\n"
     ]
    },
    {
     "name": "stderr",
     "output_type": "stream",
     "text": [
      "100%|██████████| 5/5 [00:01<00:00,  4.57it/s]\n",
      "100%|██████████| 12/12 [00:02<00:00,  4.77it/s]\n",
      " 84%|████████▍ | 336/400 [19:51<03:19,  3.11s/it]"
     ]
    },
    {
     "name": "stdout",
     "output_type": "stream",
     "text": [
      "epoch 335: train0.9527027027027027  val0.7827225130890052\n"
     ]
    },
    {
     "name": "stderr",
     "output_type": "stream",
     "text": [
      "100%|██████████| 5/5 [00:00<00:00,  7.58it/s]\n",
      "100%|██████████| 12/12 [00:01<00:00,  6.11it/s]\n",
      " 84%|████████▍ | 337/400 [19:54<03:07,  2.97s/it]"
     ]
    },
    {
     "name": "stdout",
     "output_type": "stream",
     "text": [
      "epoch 336: train0.9459459459459459  val0.7801047120418848\n"
     ]
    },
    {
     "name": "stderr",
     "output_type": "stream",
     "text": [
      "100%|██████████| 5/5 [00:01<00:00,  3.84it/s]\n",
      "100%|██████████| 12/12 [00:03<00:00,  3.67it/s]\n",
      " 84%|████████▍ | 338/400 [19:59<03:34,  3.45s/it]"
     ]
    },
    {
     "name": "stdout",
     "output_type": "stream",
     "text": [
      "epoch 337: train0.8986486486486487  val0.7879581151832461\n"
     ]
    },
    {
     "name": "stderr",
     "output_type": "stream",
     "text": [
      "100%|██████████| 5/5 [00:00<00:00,  5.19it/s]\n",
      "100%|██████████| 12/12 [00:02<00:00,  4.79it/s]\n",
      " 85%|████████▍ | 339/400 [20:02<03:31,  3.46s/it]"
     ]
    },
    {
     "name": "stdout",
     "output_type": "stream",
     "text": [
      "epoch 338: train0.9054054054054054  val0.7827225130890052\n"
     ]
    },
    {
     "name": "stderr",
     "output_type": "stream",
     "text": [
      "100%|██████████| 5/5 [00:01<00:00,  3.44it/s]\n",
      "100%|██████████| 12/12 [00:03<00:00,  3.37it/s]\n",
      " 85%|████████▌ | 340/400 [20:07<03:55,  3.93s/it]"
     ]
    },
    {
     "name": "stdout",
     "output_type": "stream",
     "text": [
      "epoch 339: train0.9121621621621622  val0.7853403141361257\n"
     ]
    },
    {
     "name": "stderr",
     "output_type": "stream",
     "text": [
      "100%|██████████| 5/5 [00:00<00:00,  5.72it/s]\n",
      "100%|██████████| 12/12 [00:03<00:00,  3.74it/s]\n",
      " 85%|████████▌ | 341/400 [20:11<03:54,  3.98s/it]"
     ]
    },
    {
     "name": "stdout",
     "output_type": "stream",
     "text": [
      "epoch 340: train0.8648648648648649  val0.7801047120418848\n"
     ]
    },
    {
     "name": "stderr",
     "output_type": "stream",
     "text": [
      "100%|██████████| 5/5 [00:01<00:00,  3.27it/s]\n",
      "100%|██████████| 12/12 [00:02<00:00,  4.12it/s]\n",
      " 86%|████████▌ | 342/400 [20:16<03:58,  4.12s/it]"
     ]
    },
    {
     "name": "stdout",
     "output_type": "stream",
     "text": [
      "epoch 341: train0.8918918918918919  val0.7853403141361257\n"
     ]
    },
    {
     "name": "stderr",
     "output_type": "stream",
     "text": [
      "100%|██████████| 5/5 [00:00<00:00,  6.92it/s]\n",
      "100%|██████████| 12/12 [00:03<00:00,  3.81it/s]\n",
      " 86%|████████▌ | 343/400 [20:19<03:50,  4.05s/it]"
     ]
    },
    {
     "name": "stdout",
     "output_type": "stream",
     "text": [
      "epoch 342: train0.9054054054054054  val0.7853403141361257\n"
     ]
    },
    {
     "name": "stderr",
     "output_type": "stream",
     "text": [
      "100%|██████████| 5/5 [00:01<00:00,  3.58it/s]\n",
      "100%|██████████| 12/12 [00:01<00:00,  6.26it/s]\n",
      " 86%|████████▌ | 344/400 [20:23<03:34,  3.83s/it]"
     ]
    },
    {
     "name": "stdout",
     "output_type": "stream",
     "text": [
      "epoch 343: train0.9121621621621622  val0.7801047120418848\n"
     ]
    },
    {
     "name": "stderr",
     "output_type": "stream",
     "text": [
      "100%|██████████| 5/5 [00:00<00:00,  5.61it/s]\n",
      "100%|██████████| 12/12 [00:02<00:00,  5.81it/s]\n",
      " 86%|████████▋ | 345/400 [20:26<03:16,  3.57s/it]"
     ]
    },
    {
     "name": "stdout",
     "output_type": "stream",
     "text": [
      "epoch 344: train0.9459459459459459  val0.7853403141361257\n"
     ]
    },
    {
     "name": "stderr",
     "output_type": "stream",
     "text": [
      "100%|██████████| 5/5 [00:01<00:00,  4.55it/s]\n",
      "100%|██████████| 12/12 [00:02<00:00,  5.53it/s]\n",
      " 86%|████████▋ | 346/400 [20:29<03:08,  3.48s/it]"
     ]
    },
    {
     "name": "stdout",
     "output_type": "stream",
     "text": [
      "epoch 345: train0.918918918918919  val0.7905759162303665\n"
     ]
    },
    {
     "name": "stderr",
     "output_type": "stream",
     "text": [
      "100%|██████████| 5/5 [00:00<00:00,  7.67it/s]\n",
      "100%|██████████| 12/12 [00:01<00:00,  7.57it/s]\n",
      " 87%|████████▋ | 347/400 [20:31<02:44,  3.11s/it]"
     ]
    },
    {
     "name": "stdout",
     "output_type": "stream",
     "text": [
      "epoch 346: train0.8851351351351351  val0.7931937172774869\n"
     ]
    },
    {
     "name": "stderr",
     "output_type": "stream",
     "text": [
      "100%|██████████| 5/5 [00:00<00:00,  7.71it/s]\n",
      "100%|██████████| 12/12 [00:01<00:00,  6.04it/s]\n",
      " 87%|████████▋ | 348/400 [20:34<02:34,  2.97s/it]"
     ]
    },
    {
     "name": "stdout",
     "output_type": "stream",
     "text": [
      "epoch 347: train0.9121621621621622  val0.7905759162303665\n"
     ]
    },
    {
     "name": "stderr",
     "output_type": "stream",
     "text": [
      "100%|██████████| 5/5 [00:01<00:00,  3.97it/s]\n",
      "100%|██████████| 12/12 [00:01<00:00,  6.70it/s]\n",
      " 87%|████████▋ | 349/400 [20:37<02:32,  3.00s/it]"
     ]
    },
    {
     "name": "stdout",
     "output_type": "stream",
     "text": [
      "epoch 348: train0.9391891891891891  val0.7905759162303665\n"
     ]
    },
    {
     "name": "stderr",
     "output_type": "stream",
     "text": [
      "100%|██████████| 5/5 [00:00<00:00,  6.68it/s]\n",
      "100%|██████████| 12/12 [00:01<00:00,  6.95it/s]\n",
      " 88%|████████▊ | 350/400 [20:39<02:22,  2.85s/it]"
     ]
    },
    {
     "name": "stdout",
     "output_type": "stream",
     "text": [
      "epoch 349: train0.8716216216216216  val0.7696335078534031\n"
     ]
    },
    {
     "name": "stderr",
     "output_type": "stream",
     "text": [
      "100%|██████████| 5/5 [00:00<00:00,  7.67it/s]\n",
      "100%|██████████| 12/12 [00:02<00:00,  4.42it/s]\n",
      " 88%|████████▊ | 351/400 [20:43<02:28,  3.02s/it]"
     ]
    },
    {
     "name": "stdout",
     "output_type": "stream",
     "text": [
      "epoch 350: train0.9527027027027027  val0.7801047120418848\n"
     ]
    },
    {
     "name": "stderr",
     "output_type": "stream",
     "text": [
      "100%|██████████| 5/5 [00:01<00:00,  3.42it/s]\n",
      "100%|██████████| 12/12 [00:01<00:00,  8.34it/s]\n",
      " 88%|████████▊ | 352/400 [20:46<02:23,  2.99s/it]"
     ]
    },
    {
     "name": "stdout",
     "output_type": "stream",
     "text": [
      "epoch 351: train0.9121621621621622  val0.774869109947644\n"
     ]
    },
    {
     "name": "stderr",
     "output_type": "stream",
     "text": [
      "100%|██████████| 5/5 [00:00<00:00,  5.64it/s]\n",
      "100%|██████████| 12/12 [00:01<00:00,  7.56it/s]\n",
      " 88%|████████▊ | 353/400 [20:48<02:13,  2.84s/it]"
     ]
    },
    {
     "name": "stdout",
     "output_type": "stream",
     "text": [
      "epoch 352: train0.9527027027027027  val0.7801047120418848\n"
     ]
    },
    {
     "name": "stderr",
     "output_type": "stream",
     "text": [
      "100%|██████████| 5/5 [00:01<00:00,  4.00it/s]\n",
      "100%|██████████| 12/12 [00:02<00:00,  4.06it/s]\n",
      " 88%|████████▊ | 354/400 [20:53<02:29,  3.25s/it]"
     ]
    },
    {
     "name": "stdout",
     "output_type": "stream",
     "text": [
      "epoch 353: train0.9054054054054054  val0.7774869109947644\n"
     ]
    },
    {
     "name": "stderr",
     "output_type": "stream",
     "text": [
      "100%|██████████| 5/5 [00:00<00:00,  7.30it/s]\n",
      "100%|██████████| 12/12 [00:01<00:00,  6.06it/s]\n",
      " 89%|████████▉ | 355/400 [20:55<02:18,  3.08s/it]"
     ]
    },
    {
     "name": "stdout",
     "output_type": "stream",
     "text": [
      "epoch 354: train0.9054054054054054  val0.7879581151832461\n"
     ]
    },
    {
     "name": "stderr",
     "output_type": "stream",
     "text": [
      "100%|██████████| 5/5 [00:00<00:00,  7.56it/s]\n",
      "100%|██████████| 12/12 [00:02<00:00,  4.65it/s]\n",
      " 89%|████████▉ | 356/400 [20:58<02:17,  3.13s/it]"
     ]
    },
    {
     "name": "stdout",
     "output_type": "stream",
     "text": [
      "epoch 355: train0.918918918918919  val0.7801047120418848\n"
     ]
    },
    {
     "name": "stderr",
     "output_type": "stream",
     "text": [
      "100%|██████████| 5/5 [00:01<00:00,  3.50it/s]\n",
      "100%|██████████| 12/12 [00:01<00:00,  6.37it/s]\n",
      " 89%|████████▉ | 357/400 [21:02<02:17,  3.19s/it]"
     ]
    },
    {
     "name": "stdout",
     "output_type": "stream",
     "text": [
      "epoch 356: train0.9121621621621622  val0.7801047120418848\n"
     ]
    },
    {
     "name": "stderr",
     "output_type": "stream",
     "text": [
      "100%|██████████| 5/5 [00:00<00:00,  5.56it/s]\n",
      "100%|██████████| 12/12 [00:01<00:00,  6.67it/s]\n",
      " 90%|████████▉ | 358/400 [21:04<02:07,  3.04s/it]"
     ]
    },
    {
     "name": "stdout",
     "output_type": "stream",
     "text": [
      "epoch 357: train0.8986486486486487  val0.7801047120418848\n"
     ]
    },
    {
     "name": "stderr",
     "output_type": "stream",
     "text": [
      "100%|██████████| 5/5 [00:01<00:00,  3.94it/s]\n",
      "100%|██████████| 12/12 [00:02<00:00,  4.02it/s]\n",
      " 90%|████████▉ | 359/400 [21:09<02:19,  3.41s/it]"
     ]
    },
    {
     "name": "stdout",
     "output_type": "stream",
     "text": [
      "epoch 358: train0.9121621621621622  val0.7696335078534031\n"
     ]
    },
    {
     "name": "stderr",
     "output_type": "stream",
     "text": [
      "100%|██████████| 5/5 [00:00<00:00,  7.11it/s]\n",
      "100%|██████████| 12/12 [00:02<00:00,  5.77it/s]\n",
      " 90%|█████████ | 360/400 [21:12<02:09,  3.23s/it]"
     ]
    },
    {
     "name": "stdout",
     "output_type": "stream",
     "text": [
      "epoch 359: train0.8918918918918919  val0.7774869109947644\n"
     ]
    },
    {
     "name": "stderr",
     "output_type": "stream",
     "text": [
      "100%|██████████| 5/5 [00:00<00:00,  5.76it/s]\n",
      "100%|██████████| 12/12 [00:03<00:00,  3.30it/s]\n",
      " 90%|█████████ | 361/400 [21:16<02:20,  3.61s/it]"
     ]
    },
    {
     "name": "stdout",
     "output_type": "stream",
     "text": [
      "epoch 360: train0.8716216216216216  val0.774869109947644\n"
     ]
    },
    {
     "name": "stderr",
     "output_type": "stream",
     "text": [
      "100%|██████████| 5/5 [00:01<00:00,  3.64it/s]\n",
      "100%|██████████| 12/12 [00:02<00:00,  4.90it/s]\n",
      " 90%|█████████ | 362/400 [21:20<02:19,  3.68s/it]"
     ]
    },
    {
     "name": "stdout",
     "output_type": "stream",
     "text": [
      "epoch 361: train0.8783783783783784  val0.7774869109947644\n"
     ]
    },
    {
     "name": "stderr",
     "output_type": "stream",
     "text": [
      "100%|██████████| 5/5 [00:01<00:00,  3.70it/s]\n",
      "100%|██████████| 12/12 [00:03<00:00,  3.74it/s]\n",
      " 91%|█████████ | 363/400 [21:24<02:26,  3.95s/it]"
     ]
    },
    {
     "name": "stdout",
     "output_type": "stream",
     "text": [
      "epoch 362: train0.8918918918918919  val0.7827225130890052\n"
     ]
    },
    {
     "name": "stderr",
     "output_type": "stream",
     "text": [
      "100%|██████████| 5/5 [00:01<00:00,  4.17it/s]\n",
      "100%|██████████| 12/12 [00:03<00:00,  3.35it/s]\n",
      " 91%|█████████ | 364/400 [21:29<02:31,  4.20s/it]"
     ]
    },
    {
     "name": "stdout",
     "output_type": "stream",
     "text": [
      "epoch 363: train0.9054054054054054  val0.7853403141361257\n"
     ]
    },
    {
     "name": "stderr",
     "output_type": "stream",
     "text": [
      "100%|██████████| 5/5 [00:01<00:00,  3.41it/s]\n",
      "100%|██████████| 12/12 [00:02<00:00,  5.69it/s]\n",
      " 91%|█████████▏| 365/400 [21:33<02:20,  4.02s/it]"
     ]
    },
    {
     "name": "stdout",
     "output_type": "stream",
     "text": [
      "epoch 364: train0.9391891891891891  val0.7905759162303665\n"
     ]
    },
    {
     "name": "stderr",
     "output_type": "stream",
     "text": [
      "100%|██████████| 5/5 [00:01<00:00,  4.34it/s]\n",
      "100%|██████████| 12/12 [00:03<00:00,  3.65it/s]\n",
      " 92%|█████████▏| 366/400 [21:37<02:20,  4.15s/it]"
     ]
    },
    {
     "name": "stdout",
     "output_type": "stream",
     "text": [
      "epoch 365: train0.8986486486486487  val0.7801047120418848\n"
     ]
    },
    {
     "name": "stderr",
     "output_type": "stream",
     "text": [
      "100%|██████████| 5/5 [00:01<00:00,  3.46it/s]\n",
      "100%|██████████| 12/12 [00:02<00:00,  5.81it/s]\n",
      " 92%|█████████▏| 367/400 [21:41<02:10,  3.96s/it]"
     ]
    },
    {
     "name": "stdout",
     "output_type": "stream",
     "text": [
      "epoch 366: train0.8851351351351351  val0.7774869109947644\n"
     ]
    },
    {
     "name": "stderr",
     "output_type": "stream",
     "text": [
      "100%|██████████| 5/5 [00:01<00:00,  4.42it/s]\n",
      "100%|██████████| 12/12 [00:03<00:00,  3.67it/s]\n",
      " 92%|█████████▏| 368/400 [21:45<02:11,  4.09s/it]"
     ]
    },
    {
     "name": "stdout",
     "output_type": "stream",
     "text": [
      "epoch 367: train0.918918918918919  val0.7774869109947644\n"
     ]
    },
    {
     "name": "stderr",
     "output_type": "stream",
     "text": [
      "100%|██████████| 5/5 [00:01<00:00,  3.51it/s]\n",
      "100%|██████████| 12/12 [00:02<00:00,  5.80it/s]\n",
      " 92%|█████████▏| 369/400 [21:49<02:01,  3.92s/it]"
     ]
    },
    {
     "name": "stdout",
     "output_type": "stream",
     "text": [
      "epoch 368: train0.918918918918919  val0.7801047120418848\n"
     ]
    },
    {
     "name": "stderr",
     "output_type": "stream",
     "text": [
      "100%|██████████| 5/5 [00:01<00:00,  4.33it/s]\n",
      "100%|██████████| 12/12 [00:03<00:00,  3.85it/s]\n",
      " 92%|█████████▎| 370/400 [21:53<02:00,  4.03s/it]"
     ]
    },
    {
     "name": "stdout",
     "output_type": "stream",
     "text": [
      "epoch 369: train0.8986486486486487  val0.7801047120418848\n"
     ]
    },
    {
     "name": "stderr",
     "output_type": "stream",
     "text": [
      "100%|██████████| 5/5 [00:01<00:00,  3.53it/s]\n",
      "100%|██████████| 12/12 [00:01<00:00,  6.11it/s]\n",
      " 93%|█████████▎| 371/400 [21:56<01:51,  3.84s/it]"
     ]
    },
    {
     "name": "stdout",
     "output_type": "stream",
     "text": [
      "epoch 370: train0.9391891891891891  val0.7853403141361257\n"
     ]
    },
    {
     "name": "stderr",
     "output_type": "stream",
     "text": [
      "100%|██████████| 5/5 [00:01<00:00,  3.80it/s]\n",
      "100%|██████████| 12/12 [00:03<00:00,  3.95it/s]\n",
      " 93%|█████████▎| 372/400 [22:01<01:51,  4.00s/it]"
     ]
    },
    {
     "name": "stdout",
     "output_type": "stream",
     "text": [
      "epoch 371: train0.8513513513513513  val0.7801047120418848\n"
     ]
    },
    {
     "name": "stderr",
     "output_type": "stream",
     "text": [
      "100%|██████████| 5/5 [00:01<00:00,  3.46it/s]\n",
      "100%|██████████| 12/12 [00:01<00:00,  6.01it/s]\n",
      " 93%|█████████▎| 373/400 [22:04<01:43,  3.83s/it]"
     ]
    },
    {
     "name": "stdout",
     "output_type": "stream",
     "text": [
      "epoch 372: train0.8986486486486487  val0.7801047120418848\n"
     ]
    },
    {
     "name": "stderr",
     "output_type": "stream",
     "text": [
      "100%|██████████| 5/5 [00:01<00:00,  3.57it/s]\n",
      "100%|██████████| 12/12 [00:03<00:00,  4.00it/s]\n",
      " 94%|█████████▎| 374/400 [22:09<01:44,  4.01s/it]"
     ]
    },
    {
     "name": "stdout",
     "output_type": "stream",
     "text": [
      "epoch 373: train0.9256756756756757  val0.7827225130890052\n"
     ]
    },
    {
     "name": "stderr",
     "output_type": "stream",
     "text": [
      "100%|██████████| 5/5 [00:01<00:00,  3.46it/s]\n",
      "100%|██████████| 12/12 [00:02<00:00,  5.69it/s]\n",
      " 94%|█████████▍| 375/400 [22:12<01:36,  3.87s/it]"
     ]
    },
    {
     "name": "stdout",
     "output_type": "stream",
     "text": [
      "epoch 374: train0.8986486486486487  val0.7801047120418848\n"
     ]
    },
    {
     "name": "stderr",
     "output_type": "stream",
     "text": [
      "100%|██████████| 5/5 [00:01<00:00,  3.58it/s]\n",
      "100%|██████████| 12/12 [00:03<00:00,  3.72it/s]\n",
      " 94%|█████████▍| 376/400 [22:17<01:38,  4.10s/it]"
     ]
    },
    {
     "name": "stdout",
     "output_type": "stream",
     "text": [
      "epoch 375: train0.8986486486486487  val0.7827225130890052\n"
     ]
    },
    {
     "name": "stderr",
     "output_type": "stream",
     "text": [
      "100%|██████████| 5/5 [00:00<00:00,  7.12it/s]\n",
      "100%|██████████| 12/12 [00:02<00:00,  5.57it/s]\n",
      " 94%|█████████▍| 377/400 [22:20<01:25,  3.73s/it]"
     ]
    },
    {
     "name": "stdout",
     "output_type": "stream",
     "text": [
      "epoch 376: train0.918918918918919  val0.7905759162303665\n"
     ]
    },
    {
     "name": "stderr",
     "output_type": "stream",
     "text": [
      "100%|██████████| 5/5 [00:00<00:00,  6.32it/s]\n",
      "100%|██████████| 12/12 [00:03<00:00,  3.35it/s]\n",
      " 94%|█████████▍| 378/400 [22:24<01:26,  3.93s/it]"
     ]
    },
    {
     "name": "stdout",
     "output_type": "stream",
     "text": [
      "epoch 377: train0.9256756756756757  val0.7879581151832461\n"
     ]
    },
    {
     "name": "stderr",
     "output_type": "stream",
     "text": [
      "100%|██████████| 5/5 [00:01<00:00,  3.72it/s]\n",
      "100%|██████████| 12/12 [00:02<00:00,  4.98it/s]\n",
      " 95%|█████████▍| 379/400 [22:28<01:21,  3.88s/it]"
     ]
    },
    {
     "name": "stdout",
     "output_type": "stream",
     "text": [
      "epoch 378: train0.9256756756756757  val0.7879581151832461\n"
     ]
    },
    {
     "name": "stderr",
     "output_type": "stream",
     "text": [
      "100%|██████████| 5/5 [00:01<00:00,  4.45it/s]\n",
      "100%|██████████| 12/12 [00:03<00:00,  3.28it/s]\n",
      " 95%|█████████▌| 380/400 [22:33<01:23,  4.15s/it]"
     ]
    },
    {
     "name": "stdout",
     "output_type": "stream",
     "text": [
      "epoch 379: train0.9324324324324325  val0.7827225130890052\n"
     ]
    },
    {
     "name": "stderr",
     "output_type": "stream",
     "text": [
      "100%|██████████| 5/5 [00:01<00:00,  4.89it/s]\n",
      "100%|██████████| 12/12 [00:02<00:00,  4.67it/s]\n",
      " 95%|█████████▌| 381/400 [22:36<01:15,  3.99s/it]"
     ]
    },
    {
     "name": "stdout",
     "output_type": "stream",
     "text": [
      "epoch 380: train0.8986486486486487  val0.7905759162303665\n"
     ]
    },
    {
     "name": "stderr",
     "output_type": "stream",
     "text": [
      "100%|██████████| 5/5 [00:01<00:00,  3.43it/s]\n",
      "100%|██████████| 12/12 [00:03<00:00,  3.34it/s]\n",
      " 96%|█████████▌| 382/400 [22:41<01:17,  4.31s/it]"
     ]
    },
    {
     "name": "stdout",
     "output_type": "stream",
     "text": [
      "epoch 381: train0.9324324324324325  val0.7801047120418848\n"
     ]
    },
    {
     "name": "stderr",
     "output_type": "stream",
     "text": [
      "100%|██████████| 5/5 [00:00<00:00,  7.11it/s]\n",
      "100%|██████████| 12/12 [00:03<00:00,  3.88it/s]\n",
      " 96%|█████████▌| 383/400 [22:45<01:10,  4.16s/it]"
     ]
    },
    {
     "name": "stdout",
     "output_type": "stream",
     "text": [
      "epoch 382: train0.8986486486486487  val0.7774869109947644\n"
     ]
    },
    {
     "name": "stderr",
     "output_type": "stream",
     "text": [
      "100%|██████████| 5/5 [00:01<00:00,  3.19it/s]\n",
      "100%|██████████| 12/12 [00:02<00:00,  4.04it/s]\n",
      " 96%|█████████▌| 384/400 [22:50<01:08,  4.28s/it]"
     ]
    },
    {
     "name": "stdout",
     "output_type": "stream",
     "text": [
      "epoch 383: train0.9121621621621622  val0.7853403141361257\n"
     ]
    },
    {
     "name": "stderr",
     "output_type": "stream",
     "text": [
      "100%|██████████| 5/5 [00:00<00:00,  6.48it/s]\n",
      "100%|██████████| 12/12 [00:03<00:00,  3.57it/s]\n",
      " 96%|█████████▋| 385/400 [22:54<01:03,  4.24s/it]"
     ]
    },
    {
     "name": "stdout",
     "output_type": "stream",
     "text": [
      "epoch 384: train0.8918918918918919  val0.7905759162303665\n"
     ]
    },
    {
     "name": "stderr",
     "output_type": "stream",
     "text": [
      "100%|██████████| 5/5 [00:01<00:00,  3.34it/s]\n",
      "100%|██████████| 12/12 [00:02<00:00,  4.43it/s]\n",
      " 96%|█████████▋| 386/400 [22:58<00:59,  4.23s/it]"
     ]
    },
    {
     "name": "stdout",
     "output_type": "stream",
     "text": [
      "epoch 385: train0.9121621621621622  val0.7853403141361257\n"
     ]
    },
    {
     "name": "stderr",
     "output_type": "stream",
     "text": [
      "100%|██████████| 5/5 [00:01<00:00,  4.01it/s]\n",
      "100%|██████████| 12/12 [00:03<00:00,  3.42it/s]\n",
      " 97%|█████████▋| 387/400 [23:03<00:57,  4.39s/it]"
     ]
    },
    {
     "name": "stdout",
     "output_type": "stream",
     "text": [
      "epoch 386: train0.9256756756756757  val0.7801047120418848\n"
     ]
    },
    {
     "name": "stderr",
     "output_type": "stream",
     "text": [
      "100%|██████████| 5/5 [00:01<00:00,  3.83it/s]\n",
      "100%|██████████| 12/12 [00:01<00:00,  6.52it/s]\n",
      " 97%|█████████▋| 388/400 [23:06<00:48,  4.02s/it]"
     ]
    },
    {
     "name": "stdout",
     "output_type": "stream",
     "text": [
      "epoch 387: train0.9391891891891891  val0.774869109947644\n"
     ]
    },
    {
     "name": "stderr",
     "output_type": "stream",
     "text": [
      "100%|██████████| 5/5 [00:01<00:00,  4.26it/s]\n",
      "100%|██████████| 12/12 [00:02<00:00,  4.09it/s]\n",
      " 97%|█████████▋| 389/400 [23:10<00:44,  4.05s/it]"
     ]
    },
    {
     "name": "stdout",
     "output_type": "stream",
     "text": [
      "epoch 388: train0.9324324324324325  val0.7722513089005235\n"
     ]
    },
    {
     "name": "stderr",
     "output_type": "stream",
     "text": [
      "100%|██████████| 5/5 [00:00<00:00,  5.16it/s]\n",
      "100%|██████████| 12/12 [00:01<00:00,  6.55it/s]\n",
      " 98%|█████████▊| 390/400 [23:13<00:36,  3.68s/it]"
     ]
    },
    {
     "name": "stdout",
     "output_type": "stream",
     "text": [
      "epoch 389: train0.9256756756756757  val0.774869109947644\n"
     ]
    },
    {
     "name": "stderr",
     "output_type": "stream",
     "text": [
      "100%|██████████| 5/5 [00:00<00:00,  6.37it/s]\n",
      "100%|██████████| 12/12 [00:02<00:00,  4.84it/s]\n",
      " 98%|█████████▊| 391/400 [23:16<00:32,  3.56s/it]"
     ]
    },
    {
     "name": "stdout",
     "output_type": "stream",
     "text": [
      "epoch 390: train0.8648648648648649  val0.7801047120418848\n"
     ]
    },
    {
     "name": "stderr",
     "output_type": "stream",
     "text": [
      "100%|██████████| 5/5 [00:01<00:00,  3.28it/s]\n",
      "100%|██████████| 12/12 [00:02<00:00,  5.55it/s]\n",
      " 98%|█████████▊| 392/400 [23:20<00:28,  3.60s/it]"
     ]
    },
    {
     "name": "stdout",
     "output_type": "stream",
     "text": [
      "epoch 391: train0.9459459459459459  val0.7722513089005235\n"
     ]
    },
    {
     "name": "stderr",
     "output_type": "stream",
     "text": [
      "100%|██████████| 5/5 [00:00<00:00,  5.01it/s]\n",
      "100%|██████████| 12/12 [00:02<00:00,  5.40it/s]\n",
      " 98%|█████████▊| 393/400 [23:23<00:24,  3.49s/it]"
     ]
    },
    {
     "name": "stdout",
     "output_type": "stream",
     "text": [
      "epoch 392: train0.918918918918919  val0.7801047120418848\n"
     ]
    },
    {
     "name": "stderr",
     "output_type": "stream",
     "text": [
      "100%|██████████| 5/5 [00:01<00:00,  4.11it/s]\n",
      "100%|██████████| 12/12 [00:03<00:00,  3.89it/s]\n",
      " 98%|█████████▊| 394/400 [23:27<00:22,  3.73s/it]"
     ]
    },
    {
     "name": "stdout",
     "output_type": "stream",
     "text": [
      "epoch 393: train0.918918918918919  val0.7853403141361257\n"
     ]
    },
    {
     "name": "stderr",
     "output_type": "stream",
     "text": [
      "100%|██████████| 5/5 [00:00<00:00,  7.48it/s]\n",
      "100%|██████████| 12/12 [00:02<00:00,  4.72it/s]\n",
      " 99%|█████████▉| 395/400 [23:31<00:17,  3.58s/it]"
     ]
    },
    {
     "name": "stdout",
     "output_type": "stream",
     "text": [
      "epoch 394: train0.9121621621621622  val0.7879581151832461\n"
     ]
    },
    {
     "name": "stderr",
     "output_type": "stream",
     "text": [
      "100%|██████████| 5/5 [00:01<00:00,  3.37it/s]\n",
      "100%|██████████| 12/12 [00:03<00:00,  3.62it/s]\n",
      " 99%|█████████▉| 396/400 [23:35<00:15,  3.95s/it]"
     ]
    },
    {
     "name": "stdout",
     "output_type": "stream",
     "text": [
      "epoch 395: train0.918918918918919  val0.7853403141361257\n"
     ]
    },
    {
     "name": "stderr",
     "output_type": "stream",
     "text": [
      "100%|██████████| 5/5 [00:00<00:00,  7.10it/s]\n",
      "100%|██████████| 12/12 [00:03<00:00,  3.61it/s]\n",
      " 99%|█████████▉| 397/400 [23:39<00:11,  3.98s/it]"
     ]
    },
    {
     "name": "stdout",
     "output_type": "stream",
     "text": [
      "epoch 396: train0.9324324324324325  val0.7774869109947644\n"
     ]
    },
    {
     "name": "stderr",
     "output_type": "stream",
     "text": [
      "100%|██████████| 5/5 [00:01<00:00,  3.27it/s]\n",
      "100%|██████████| 12/12 [00:02<00:00,  4.25it/s]\n",
      "100%|█████████▉| 398/400 [23:44<00:08,  4.09s/it]"
     ]
    },
    {
     "name": "stdout",
     "output_type": "stream",
     "text": [
      "epoch 397: train0.918918918918919  val0.7801047120418848\n"
     ]
    },
    {
     "name": "stderr",
     "output_type": "stream",
     "text": [
      "100%|██████████| 5/5 [00:00<00:00,  5.44it/s]\n",
      "100%|██████████| 12/12 [00:03<00:00,  3.56it/s]\n",
      "100%|█████████▉| 399/400 [23:48<00:04,  4.15s/it]"
     ]
    },
    {
     "name": "stdout",
     "output_type": "stream",
     "text": [
      "epoch 398: train0.8851351351351351  val0.774869109947644\n"
     ]
    },
    {
     "name": "stderr",
     "output_type": "stream",
     "text": [
      "100%|██████████| 5/5 [00:01<00:00,  3.47it/s]\n",
      "100%|██████████| 12/12 [00:02<00:00,  4.92it/s]\n",
      "100%|██████████| 400/400 [23:52<00:00,  3.58s/it]"
     ]
    },
    {
     "name": "stdout",
     "output_type": "stream",
     "text": [
      "epoch 399: train0.8986486486486487  val0.7774869109947644\n"
     ]
    },
    {
     "name": "stderr",
     "output_type": "stream",
     "text": [
      "\n"
     ]
    }
   ],
   "source": [
    "from tqdm import tqdm\n",
    "\n",
    "for epoch in tqdm(range(num_epoch)):\n",
    "    model = model.train()\n",
    "    \n",
    "    losses = []\n",
    "    for batch_data, y in tqdm(train_dataloader, total=len(train_dataloader)):\n",
    "        this_batch_size =  len(y)\n",
    "\n",
    "        batch_label = torch.zeros([this_batch_size*1024])\n",
    "        for i in range(this_batch_size):\n",
    "            batch_label[1024 * i : 1024 * (i + 1)] = i\n",
    "\n",
    "        batch_data = batch_data.reshape((1024 * this_batch_size,3)).to(device)\n",
    "        batch_label = batch_label.type(torch.LongTensor).to(device)\n",
    "        pred_y, _, feature_transform = model(batch_data, batch_label)\n",
    "        true_y = y.detach().to(device)\n",
    "\n",
    "        class_loss = criteria(pred_y, true_y)\n",
    "        accuracy = float((pred_y.argmax(dim=1) == true_y).sum()) / float(this_batch_size)\n",
    "\n",
    "        id_matrix = torch.eye(feature_transform.shape[1]).to(feature_transform.device).view(1, 64, 64).repeat(feature_transform.shape[0], 1, 1)\n",
    "        transform_norm = torch.norm(torch.bmm(feature_transform, feature_transform.transpose(1, 2)) - id_matrix, dim=(1, 2))\n",
    "        reg_loss = transform_norm.mean()\n",
    "\n",
    "        loss = class_loss + reg_loss * 0.001\n",
    "        \n",
    "        losses.append({\n",
    "            \"loss\": loss.item(),\n",
    "            \"class_loss\": class_loss.item(),\n",
    "            \"reg_loss\": reg_loss.item(),\n",
    "            \"accuracy\": accuracy,\n",
    "            \"seen\": float(this_batch_size)})\n",
    "        \n",
    "        optimizer.zero_grad()\n",
    "        loss.backward()\n",
    "        optimizer.step()\n",
    "        scheduler.step()\n",
    "        \n",
    "    if (epoch % 50 == 0):\n",
    "        model_path = log_dir + f\"model_{epoch:06}.pth\"\n",
    "        torch.save(model.state_dict(), model_path)\n",
    "    \n",
    "    loss = 0\n",
    "    class_loss = 0\n",
    "    reg_loss = 0\n",
    "    accuracy = 0\n",
    "    seen = 0\n",
    "    for d in losses:\n",
    "        seen = seen + d[\"seen\"]\n",
    "        loss = loss + d[\"loss\"] * d[\"seen\"]\n",
    "        class_loss = class_loss + d[\"class_loss\"] * d[\"seen\"]\n",
    "        reg_loss = reg_loss + d[\"reg_loss\"] * d[\"seen\"]\n",
    "        accuracy = accuracy + d[\"accuracy\"] * d[\"seen\"]\n",
    "    loss = loss / seen\n",
    "    class_loss = class_loss / seen\n",
    "    reg_loss = reg_loss / seen\n",
    "    accuracy = accuracy / seen\n",
    "    taccuracy = accuracy\n",
    "    writer.add_scalar(\"train_epoch/loss\", loss, epoch)\n",
    "    writer.add_scalar(\"train_epoch/class_loss\", class_loss, epoch)\n",
    "    writer.add_scalar(\"train_epoch/reg_loss\", reg_loss, epoch)\n",
    "    writer.add_scalar(\"train_epoch/accuracy\", accuracy, epoch)\n",
    "    with torch.no_grad():\n",
    "        model = model.eval()\n",
    "\n",
    "        losses = []\n",
    "        for batch_data,y in tqdm(test_dataloader, total=len(test_dataloader)):\n",
    "            this_batch_size =  len(y)\n",
    "\n",
    "            batch_label = torch.zeros([this_batch_size*1024])\n",
    "            for i in range(this_batch_size):\n",
    "                batch_label[1024 * i : 1024 * (i + 1)] = i\n",
    "\n",
    "            batch_data = batch_data.reshape((1024 * this_batch_size,3)).to(device)\n",
    "            batch_label = batch_label.type(torch.LongTensor).to(device)\n",
    "\n",
    "\n",
    "            pred_y, _, feature_transform = model(batch_data,batch_label)\n",
    "            true_y = y.detach().to(device)\n",
    "\n",
    "            class_loss = criteria(pred_y, true_y)\n",
    "            accuracy =float((pred_y.argmax(dim=1) == true_y).sum()) / float(this_batch_size)\n",
    "\n",
    "            id_matrix = torch.eye(feature_transform.shape[1]).to(feature_transform.device).view(1, 64, 64).repeat(feature_transform.shape[0], 1, 1)\n",
    "            transform_norm = torch.norm(torch.bmm(feature_transform, feature_transform.transpose(1, 2)) - id_matrix, dim=(1, 2))\n",
    "            reg_loss = transform_norm.mean()\n",
    "\n",
    "            loss = class_loss + reg_loss * 0.001\n",
    "\n",
    "            losses.append({\n",
    "                \"loss\": loss.item(),\n",
    "                \"class_loss\": class_loss.item(),\n",
    "                \"reg_loss\": reg_loss.item(),\n",
    "                \"accuracy\": accuracy,\n",
    "                \"seen\": float(this_batch_size)})\n",
    "            \n",
    "        loss = 0\n",
    "        class_loss = 0\n",
    "        reg_loss = 0\n",
    "        accuracy = 0\n",
    "        seen = 0\n",
    "        for d in losses:\n",
    "            seen = seen + d[\"seen\"]\n",
    "            loss = loss + d[\"loss\"] * d[\"seen\"]\n",
    "            class_loss = class_loss + d[\"class_loss\"] * d[\"seen\"]\n",
    "            reg_loss = reg_loss + d[\"reg_loss\"] * d[\"seen\"]\n",
    "            accuracy = accuracy + d[\"accuracy\"] * d[\"seen\"]\n",
    "        loss = loss / seen\n",
    "        class_loss = class_loss / seen\n",
    "        reg_loss = reg_loss / seen\n",
    "        accuracy = accuracy / seen\n",
    "        writer.add_scalar(\"test_epoch/loss\", loss, epoch)\n",
    "        writer.add_scalar(\"test_epoch/class_loss\", class_loss, epoch)\n",
    "        writer.add_scalar(\"test_epoch/reg_loss\", reg_loss, epoch)\n",
    "        writer.add_scalar(\"test_epoch/accuracy\", accuracy, epoch)\n",
    "\n",
    "        print(\"epoch {}: train{}  val{}\".format(epoch,taccuracy,accuracy))"
   ]
  },
  {
   "cell_type": "markdown",
   "metadata": {},
   "source": []
  },
  {
   "attachments": {},
   "cell_type": "markdown",
   "metadata": {},
   "source": [
    "## TODO"
   ]
  },
  {
   "attachments": {},
   "cell_type": "markdown",
   "metadata": {},
   "source": [
    "- 固定長に変換\n",
    "- モデルを少し変える\n",
    "- 学習"
   ]
  }
 ],
 "metadata": {
  "kernelspec": {
   "display_name": "pytorch1.12",
   "language": "python",
   "name": "python3"
  },
  "language_info": {
   "codemirror_mode": {
    "name": "ipython",
    "version": 3
   },
   "file_extension": ".py",
   "mimetype": "text/x-python",
   "name": "python",
   "nbconvert_exporter": "python",
   "pygments_lexer": "ipython3",
   "version": "3.9.13 (main, Aug 25 2022, 18:24:45) \n[Clang 12.0.0 ]"
  },
  "orig_nbformat": 4,
  "vscode": {
   "interpreter": {
    "hash": "333f58ccc9c55b73347774f900429f7bf8931cea0ba5f13d1781f706049071fe"
   }
  }
 },
 "nbformat": 4,
 "nbformat_minor": 2
}
