{
 "cells": [
  {
   "attachments": {},
   "cell_type": "markdown",
   "metadata": {},
   "source": [
    "## Dataloader"
   ]
  },
  {
   "cell_type": "code",
   "execution_count": 1,
   "metadata": {},
   "outputs": [],
   "source": [
    "import numpy as np\n",
    "from tqdm import tqdm\n",
    "import torch\n",
    "import os"
   ]
  },
  {
   "cell_type": "code",
   "execution_count": 2,
   "metadata": {},
   "outputs": [],
   "source": [
    "import torch.utils.data as data\n",
    "\n",
    "class PointCloudDataset(data.Dataset):\n",
    "\n",
    "    def __init__(self,target_files,phase,transform,label_dict):\n",
    "        self.transform=transform\n",
    "        self.target_files=target_files\n",
    "        self.class_label = label_dict\n",
    "\n",
    "    def __len__(self):\n",
    "        return len(self.target_files)\n",
    "\n",
    "    def __getitem__(self,index):\n",
    "        pcd,one_hot = self.pull_item(index)\n",
    "        return pcd,one_hot\n",
    "\n",
    "    def pull_item(self,index):\n",
    "        self.path=self.target_files[index]\n",
    "\n",
    "        #label\n",
    "        label = int(self.class_label[self.path[1:3]])\n",
    "\n",
    "        #load_pcd\n",
    "        pcd = np.load('DATA/MSRAction_npz_pp/' + self.path,allow_pickle=True)['point_clouds']\n",
    "        pcd = torch.from_numpy(pcd.astype(np.float32)).clone()\n",
    "        pcd = torch.nn.functional.normalize(pcd, p=2.0, dim=0, eps=1e-12)\n",
    "        #pcd=self.transform(pcd)\n",
    "        return pcd, label"
   ]
  },
  {
   "cell_type": "code",
   "execution_count": 3,
   "metadata": {},
   "outputs": [
    {
     "name": "stdout",
     "output_type": "stream",
     "text": [
      "{'17': 0, '14': 1, '16': 2, '12': 3, '13': 4, '03': 5, '05': 6, '10': 7, '19': 8, '06': 9, '01': 10, '08': 11, '18': 12, '02': 13, '09': 14, '20': 15, '04': 16, '07': 17, '11': 18, '15': 19}\n",
      "defaultdict(<class 'int'>, {'17': 30, '14': 30, '16': 30, '12': 30, '13': 30, '03': 27, '05': 26, '10': 30, '19': 30, '06': 26, '01': 27, '08': 30, '18': 30, '02': 27, '09': 30, '20': 30, '04': 26, '07': 28, '11': 30, '15': 20})\n"
     ]
    }
   ],
   "source": [
    "#行動にラベルを付与\n",
    "from collections import defaultdict\n",
    "input_dir = 'DATA/MSRAction_npz_pp'\n",
    "files = os.listdir(input_dir)\n",
    "\n",
    "\n",
    "label_dict = dict()\n",
    "label_num = defaultdict(int)\n",
    "class_set = set()\n",
    "num_class = 0\n",
    "\n",
    "for file in files:\n",
    "    action = file[1:3]\n",
    "    microactivity = action\n",
    "    label_num[microactivity]+=1\n",
    "    if microactivity not in class_set:\n",
    "        label_dict[microactivity] = num_class\n",
    "        num_class+=1\n",
    "        class_set.add(microactivity)\n",
    "print(label_dict)\n",
    "print(label_num)"
   ]
  },
  {
   "cell_type": "code",
   "execution_count": 4,
   "metadata": {},
   "outputs": [],
   "source": [
    "train_files = [a for a in files if a[10] == '3']\n",
    "test_files = [a for a in files if a[10] != '3']"
   ]
  },
  {
   "cell_type": "code",
   "execution_count": 6,
   "metadata": {},
   "outputs": [],
   "source": [
    "n_samples = len(train_files)\n",
    "train_size = int(n_samples * 0.8)\n",
    "val_size = n_samples - train_size\n",
    "\n",
    "trainval_dataset = PointCloudDataset(target_files=train_files,phase='train',transform=None,label_dict=label_dict)\n",
    "train_dataset, val_dataset = torch.utils.data.random_split(trainval_dataset, [train_size,val_size])\n",
    "test_dataset = PointCloudDataset(target_files=test_files,phase='train',transform=None,label_dict=label_dict)"
   ]
  },
  {
   "attachments": {},
   "cell_type": "markdown",
   "metadata": {},
   "source": [
    "## MODEL"
   ]
  },
  {
   "cell_type": "code",
   "execution_count": 7,
   "metadata": {},
   "outputs": [],
   "source": [
    "from torch_geometric.nn import global_max_pool\n",
    "import torch.nn as nn"
   ]
  },
  {
   "cell_type": "code",
   "execution_count": 8,
   "metadata": {},
   "outputs": [],
   "source": [
    "class InputTNet(nn.Module):\n",
    "    def __init__(self):\n",
    "        super(InputTNet, self).__init__()\n",
    "        self.input_mlp = nn.Sequential(\n",
    "            nn.Linear(3, 64), nn.BatchNorm1d(64), nn.ReLU(),\n",
    "            nn.Linear(64, 128), nn.BatchNorm1d(128), nn.ReLU(),\n",
    "            nn.Linear(128, 1024), nn.BatchNorm1d(1024), nn.ReLU(),\n",
    "        )\n",
    "        self.output_mlp = nn.Sequential(\n",
    "            nn.Linear(1024, 512), nn.BatchNorm1d(512), nn.ReLU(),\n",
    "            nn.Linear(512, 256), nn.BatchNorm1d(256), nn.ReLU(),\n",
    "            nn.Linear(256, 9)\n",
    "        )\n",
    "        \n",
    "    def forward(self, x, batch):\n",
    "        x = self.input_mlp(x)\n",
    "        x = global_max_pool(x, batch)\n",
    "        x = self.output_mlp(x)\n",
    "        x = x.view(-1, 3, 3)\n",
    "        id_matrix = torch.eye(3).to(x.device).view(1, 3, 3).repeat(x.shape[0], 1, 1)\n",
    "        x = id_matrix + x\n",
    "        return x"
   ]
  },
  {
   "cell_type": "code",
   "execution_count": 9,
   "metadata": {},
   "outputs": [],
   "source": [
    "class FeatureTNet(nn.Module):\n",
    "    def __init__(self):\n",
    "        super(FeatureTNet, self).__init__()\n",
    "        self.input_mlp = nn.Sequential(\n",
    "            nn.Linear(64, 64), nn.BatchNorm1d(64), nn.ReLU(),\n",
    "            nn.Linear(64, 128), nn.BatchNorm1d(128), nn.ReLU(),\n",
    "            nn.Linear(128, 1024), nn.BatchNorm1d(1024), nn.ReLU(),\n",
    "        )\n",
    "        self.output_mlp = nn.Sequential(\n",
    "            nn.Linear(1024, 512), nn.BatchNorm1d(512), nn.ReLU(),\n",
    "            nn.Linear(512, 256), nn.BatchNorm1d(256), nn.ReLU(),\n",
    "            nn.Linear(256, 64*64)\n",
    "        )\n",
    "        \n",
    "    def forward(self, x, batch):\n",
    "        x = self.input_mlp(x)\n",
    "        x = global_max_pool(x, batch)\n",
    "        x = self.output_mlp(x)\n",
    "        x = x.view(-1, 64, 64)\n",
    "        id_matrix = torch.eye(64).to(x.device).view(1, 64, 64).repeat(x.shape[0], 1, 1)\n",
    "        x = id_matrix + x\n",
    "        return x"
   ]
  },
  {
   "cell_type": "code",
   "execution_count": 10,
   "metadata": {},
   "outputs": [],
   "source": [
    "class PointNetClassification(nn.Module):\n",
    "    def __init__(self):\n",
    "        super(PointNetClassification, self).__init__()\n",
    "        self.input_tnet = InputTNet()\n",
    "        self.mlp1 = nn.Sequential(\n",
    "            nn.Linear(3, 64), nn.BatchNorm1d(64), nn.ReLU(),\n",
    "            nn.Linear(64, 64), nn.BatchNorm1d(64), nn.ReLU(),\n",
    "        )\n",
    "        self.feature_tnet = FeatureTNet()\n",
    "        self.mlp2 = nn.Sequential(\n",
    "            nn.Linear(64, 64), nn.BatchNorm1d(64), nn.ReLU(),\n",
    "            nn.Linear(64, 128), nn.BatchNorm1d(128), nn.ReLU(),\n",
    "            nn.Linear(128, 1024), nn.BatchNorm1d(1024), nn.ReLU(),\n",
    "        )\n",
    "        self.mlp3 = nn.Sequential(\n",
    "            nn.Linear(1024, 512), nn.BatchNorm1d(512), nn.ReLU(), nn.Dropout(p=0.3),\n",
    "            nn.Linear(512, 256), nn.BatchNorm1d(256), nn.ReLU(), nn.Dropout(p=0.3),\n",
    "            nn.Linear(256, 20)\n",
    "        )\n",
    "        \n",
    "    def forward(self, batch_data,batch_label):\n",
    "        x = batch_data\n",
    "        input_transform = self.input_tnet(x, batch_label)\n",
    "        transform = input_transform[batch_label, :, :]\n",
    "        x = torch.bmm(transform, x.view(-1, 3, 1)).view(-1, 3)\n",
    "        \n",
    "        x = self.mlp1(x)\n",
    "        \n",
    "        feature_transform = self.feature_tnet(x, batch_label)\n",
    "        transform = feature_transform[batch_label, :, :]\n",
    "        x = torch.bmm(transform, x.view(-1, 64, 1)).view(-1, 64)\n",
    "\n",
    "        x = self.mlp2(x)        \n",
    "        x = global_max_pool(x,batch_label)\n",
    "        x = self.mlp3(x)\n",
    "        \n",
    "        return x, input_transform, feature_transform"
   ]
  },
  {
   "cell_type": "code",
   "execution_count": 12,
   "metadata": {},
   "outputs": [],
   "source": [
    "import torch\n",
    "from torch.utils.tensorboard import SummaryWriter\n",
    "from torch_geometric.data import DataLoader as DataLoader\n",
    "\n",
    "num_epoch = 150\n",
    "batch_size = 32\n",
    "\n",
    "device = torch.device(\"cuda:0\") if torch.cuda.is_available() else torch.device(\"cpu\")\n",
    "model = PointNetClassification()\n",
    "model = model.to(device)\n",
    "\n",
    "optimizer = torch.optim.Adam(lr=1e-4, params=model.parameters())\n",
    "scheduler = torch.optim.lr_scheduler.StepLR(optimizer, step_size=num_epoch // 4, gamma=0.5)\n",
    "\n",
    "log_dir = \"logs/log_MSR_classification\"\n",
    "#log_dir.mkdir(exist_ok=True)\n",
    "writer = SummaryWriter(log_dir=log_dir)\n",
    "\n",
    "train_dataloader = DataLoader(train_dataset, batch_size=batch_size, shuffle=True)\n",
    "test_dataloader = DataLoader(test_dataset, batch_size=batch_size, shuffle=False)\n",
    "\n",
    "criteria = torch.nn.CrossEntropyLoss()"
   ]
  },
  {
   "cell_type": "code",
   "execution_count": 13,
   "metadata": {},
   "outputs": [
    {
     "name": "stderr",
     "output_type": "stream",
     "text": [
      "100%|██████████| 5/5 [00:04<00:00,  1.11it/s]\n",
      "100%|██████████| 12/12 [00:05<00:00,  2.23it/s]\n",
      "  1%|          | 1/150 [00:09<24:42,  9.95s/it]"
     ]
    },
    {
     "name": "stdout",
     "output_type": "stream",
     "text": [
      "epoch 0: train0.05405405405405406  val0.06282722513089005\n"
     ]
    },
    {
     "name": "stderr",
     "output_type": "stream",
     "text": [
      "100%|██████████| 5/5 [00:01<00:00,  3.55it/s]\n",
      "100%|██████████| 12/12 [00:03<00:00,  3.49it/s]\n",
      "  1%|▏         | 2/150 [00:14<17:09,  6.96s/it]"
     ]
    },
    {
     "name": "stdout",
     "output_type": "stream",
     "text": [
      "epoch 1: train0.060810810810810814  val0.05235602094240838\n"
     ]
    },
    {
     "name": "stderr",
     "output_type": "stream",
     "text": [
      "100%|██████████| 5/5 [00:01<00:00,  3.55it/s]\n",
      "100%|██████████| 12/12 [00:03<00:00,  3.32it/s]\n",
      "  2%|▏         | 3/150 [00:19<14:53,  6.08s/it]"
     ]
    },
    {
     "name": "stdout",
     "output_type": "stream",
     "text": [
      "epoch 2: train0.10135135135135136  val0.05235602094240838\n"
     ]
    },
    {
     "name": "stderr",
     "output_type": "stream",
     "text": [
      "100%|██████████| 5/5 [00:01<00:00,  3.65it/s]\n",
      "100%|██████████| 12/12 [00:03<00:00,  3.57it/s]\n",
      "  3%|▎         | 4/150 [00:24<13:30,  5.55s/it]"
     ]
    },
    {
     "name": "stdout",
     "output_type": "stream",
     "text": [
      "epoch 3: train0.13513513513513514  val0.05235602094240838\n"
     ]
    },
    {
     "name": "stderr",
     "output_type": "stream",
     "text": [
      "100%|██████████| 5/5 [00:01<00:00,  3.59it/s]\n",
      "100%|██████████| 12/12 [00:03<00:00,  3.52it/s]\n",
      "  3%|▎         | 5/150 [00:29<12:46,  5.28s/it]"
     ]
    },
    {
     "name": "stdout",
     "output_type": "stream",
     "text": [
      "epoch 4: train0.14864864864864866  val0.05235602094240838\n"
     ]
    },
    {
     "name": "stderr",
     "output_type": "stream",
     "text": [
      "100%|██████████| 5/5 [00:01<00:00,  3.53it/s]\n",
      "100%|██████████| 12/12 [00:03<00:00,  3.44it/s]\n",
      "  4%|▍         | 6/150 [00:34<12:22,  5.16s/it]"
     ]
    },
    {
     "name": "stdout",
     "output_type": "stream",
     "text": [
      "epoch 5: train0.16216216216216217  val0.04712041884816754\n"
     ]
    },
    {
     "name": "stderr",
     "output_type": "stream",
     "text": [
      "100%|██████████| 5/5 [00:01<00:00,  3.44it/s]\n",
      "100%|██████████| 12/12 [00:03<00:00,  3.55it/s]\n",
      "  5%|▍         | 7/150 [00:39<12:02,  5.06s/it]"
     ]
    },
    {
     "name": "stdout",
     "output_type": "stream",
     "text": [
      "epoch 6: train0.25675675675675674  val0.020942408376963352\n"
     ]
    },
    {
     "name": "stderr",
     "output_type": "stream",
     "text": [
      "100%|██████████| 5/5 [00:01<00:00,  3.62it/s]\n",
      "100%|██████████| 12/12 [00:03<00:00,  3.39it/s]\n",
      "  5%|▌         | 8/150 [00:44<11:52,  5.02s/it]"
     ]
    },
    {
     "name": "stdout",
     "output_type": "stream",
     "text": [
      "epoch 7: train0.28378378378378377  val0.04712041884816754\n"
     ]
    },
    {
     "name": "stderr",
     "output_type": "stream",
     "text": [
      "100%|██████████| 5/5 [00:01<00:00,  3.38it/s]\n",
      "100%|██████████| 12/12 [00:03<00:00,  3.39it/s]\n",
      "  6%|▌         | 9/150 [00:49<11:47,  5.02s/it]"
     ]
    },
    {
     "name": "stdout",
     "output_type": "stream",
     "text": [
      "epoch 8: train0.2972972972972973  val0.05235602094240838\n"
     ]
    },
    {
     "name": "stderr",
     "output_type": "stream",
     "text": [
      "100%|██████████| 5/5 [00:01<00:00,  3.40it/s]\n",
      "100%|██████████| 12/12 [00:03<00:00,  3.37it/s]\n",
      "  7%|▋         | 10/150 [00:54<11:43,  5.03s/it]"
     ]
    },
    {
     "name": "stdout",
     "output_type": "stream",
     "text": [
      "epoch 9: train0.30405405405405406  val0.03926701570680628\n"
     ]
    },
    {
     "name": "stderr",
     "output_type": "stream",
     "text": [
      "100%|██████████| 5/5 [00:01<00:00,  3.39it/s]\n",
      "100%|██████████| 12/12 [00:03<00:00,  3.34it/s]\n",
      "  7%|▋         | 11/150 [00:59<11:40,  5.04s/it]"
     ]
    },
    {
     "name": "stdout",
     "output_type": "stream",
     "text": [
      "epoch 10: train0.31756756756756754  val0.005235602094240838\n"
     ]
    },
    {
     "name": "stderr",
     "output_type": "stream",
     "text": [
      "100%|██████████| 5/5 [00:01<00:00,  3.52it/s]\n",
      "100%|██████████| 12/12 [00:03<00:00,  3.45it/s]\n",
      "  8%|▊         | 12/150 [01:04<11:30,  5.00s/it]"
     ]
    },
    {
     "name": "stdout",
     "output_type": "stream",
     "text": [
      "epoch 11: train0.3310810810810811  val0.04450261780104712\n"
     ]
    },
    {
     "name": "stderr",
     "output_type": "stream",
     "text": [
      "100%|██████████| 5/5 [00:01<00:00,  3.47it/s]\n",
      "100%|██████████| 12/12 [00:03<00:00,  3.42it/s]\n",
      "  9%|▊         | 13/150 [01:09<11:24,  4.99s/it]"
     ]
    },
    {
     "name": "stdout",
     "output_type": "stream",
     "text": [
      "epoch 12: train0.36486486486486486  val0.041884816753926704\n"
     ]
    },
    {
     "name": "stderr",
     "output_type": "stream",
     "text": [
      "100%|██████████| 5/5 [00:01<00:00,  3.43it/s]\n",
      "100%|██████████| 12/12 [00:03<00:00,  3.43it/s]\n",
      "  9%|▉         | 14/150 [01:14<11:18,  4.99s/it]"
     ]
    },
    {
     "name": "stdout",
     "output_type": "stream",
     "text": [
      "epoch 13: train0.3918918918918919  val0.05235602094240838\n"
     ]
    },
    {
     "name": "stderr",
     "output_type": "stream",
     "text": [
      "100%|██████████| 5/5 [00:01<00:00,  3.42it/s]\n",
      "100%|██████████| 12/12 [00:03<00:00,  3.48it/s]\n",
      " 10%|█         | 15/150 [01:19<11:10,  4.97s/it]"
     ]
    },
    {
     "name": "stdout",
     "output_type": "stream",
     "text": [
      "epoch 14: train0.3108108108108108  val0.05235602094240838\n"
     ]
    },
    {
     "name": "stderr",
     "output_type": "stream",
     "text": [
      "100%|██████████| 5/5 [00:01<00:00,  3.42it/s]\n",
      "100%|██████████| 12/12 [00:03<00:00,  3.40it/s]\n",
      " 11%|█         | 16/150 [01:24<11:06,  4.98s/it]"
     ]
    },
    {
     "name": "stdout",
     "output_type": "stream",
     "text": [
      "epoch 15: train0.4189189189189189  val0.06544502617801047\n"
     ]
    },
    {
     "name": "stderr",
     "output_type": "stream",
     "text": [
      "100%|██████████| 5/5 [00:01<00:00,  3.42it/s]\n",
      "100%|██████████| 12/12 [00:03<00:00,  3.41it/s]\n",
      " 11%|█▏        | 17/150 [01:29<11:02,  4.98s/it]"
     ]
    },
    {
     "name": "stdout",
     "output_type": "stream",
     "text": [
      "epoch 16: train0.4594594594594595  val0.1099476439790576\n"
     ]
    },
    {
     "name": "stderr",
     "output_type": "stream",
     "text": [
      "100%|██████████| 5/5 [00:01<00:00,  3.39it/s]\n",
      "100%|██████████| 12/12 [00:03<00:00,  3.35it/s]\n",
      " 12%|█▏        | 18/150 [01:34<11:00,  5.01s/it]"
     ]
    },
    {
     "name": "stdout",
     "output_type": "stream",
     "text": [
      "epoch 17: train0.4594594594594595  val0.14136125654450263\n"
     ]
    },
    {
     "name": "stderr",
     "output_type": "stream",
     "text": [
      "100%|██████████| 5/5 [00:01<00:00,  3.44it/s]\n",
      "100%|██████████| 12/12 [00:03<00:00,  3.38it/s]\n",
      " 13%|█▎        | 19/150 [01:39<10:56,  5.01s/it]"
     ]
    },
    {
     "name": "stdout",
     "output_type": "stream",
     "text": [
      "epoch 18: train0.5  val0.22251308900523561\n"
     ]
    },
    {
     "name": "stderr",
     "output_type": "stream",
     "text": [
      "100%|██████████| 5/5 [00:01<00:00,  3.47it/s]\n",
      "100%|██████████| 12/12 [00:03<00:00,  3.38it/s]\n",
      " 13%|█▎        | 20/150 [01:44<10:50,  5.01s/it]"
     ]
    },
    {
     "name": "stdout",
     "output_type": "stream",
     "text": [
      "epoch 19: train0.4594594594594595  val0.29842931937172773\n"
     ]
    },
    {
     "name": "stderr",
     "output_type": "stream",
     "text": [
      "100%|██████████| 5/5 [00:01<00:00,  3.48it/s]\n",
      "100%|██████████| 12/12 [00:03<00:00,  3.38it/s]\n",
      " 14%|█▍        | 21/150 [01:49<10:45,  5.00s/it]"
     ]
    },
    {
     "name": "stdout",
     "output_type": "stream",
     "text": [
      "epoch 20: train0.5675675675675675  val0.34293193717277487\n"
     ]
    },
    {
     "name": "stderr",
     "output_type": "stream",
     "text": [
      "100%|██████████| 5/5 [00:01<00:00,  3.38it/s]\n",
      "100%|██████████| 12/12 [00:03<00:00,  3.36it/s]\n",
      " 15%|█▍        | 22/150 [01:54<10:42,  5.02s/it]"
     ]
    },
    {
     "name": "stdout",
     "output_type": "stream",
     "text": [
      "epoch 21: train0.527027027027027  val0.3795811518324607\n"
     ]
    },
    {
     "name": "stderr",
     "output_type": "stream",
     "text": [
      "100%|██████████| 5/5 [00:01<00:00,  3.48it/s]\n",
      "100%|██████████| 12/12 [00:03<00:00,  3.36it/s]\n",
      " 15%|█▌        | 23/150 [01:59<10:37,  5.02s/it]"
     ]
    },
    {
     "name": "stdout",
     "output_type": "stream",
     "text": [
      "epoch 22: train0.5202702702702703  val0.41361256544502617\n"
     ]
    },
    {
     "name": "stderr",
     "output_type": "stream",
     "text": [
      "100%|██████████| 5/5 [00:01<00:00,  3.44it/s]\n",
      "100%|██████████| 12/12 [00:03<00:00,  3.35it/s]\n",
      " 16%|█▌        | 24/150 [02:04<10:33,  5.03s/it]"
     ]
    },
    {
     "name": "stdout",
     "output_type": "stream",
     "text": [
      "epoch 23: train0.5  val0.45549738219895286\n"
     ]
    },
    {
     "name": "stderr",
     "output_type": "stream",
     "text": [
      "100%|██████████| 5/5 [00:01<00:00,  3.47it/s]\n",
      "100%|██████████| 12/12 [00:03<00:00,  3.35it/s]\n",
      " 17%|█▋        | 25/150 [02:09<10:28,  5.03s/it]"
     ]
    },
    {
     "name": "stdout",
     "output_type": "stream",
     "text": [
      "epoch 24: train0.4527027027027027  val0.46596858638743455\n"
     ]
    },
    {
     "name": "stderr",
     "output_type": "stream",
     "text": [
      "100%|██████████| 5/5 [00:01<00:00,  3.42it/s]\n",
      "100%|██████████| 12/12 [00:03<00:00,  3.30it/s]\n",
      " 17%|█▋        | 26/150 [02:14<10:26,  5.05s/it]"
     ]
    },
    {
     "name": "stdout",
     "output_type": "stream",
     "text": [
      "epoch 25: train0.5405405405405406  val0.4738219895287958\n"
     ]
    },
    {
     "name": "stderr",
     "output_type": "stream",
     "text": [
      "100%|██████████| 5/5 [00:01<00:00,  3.44it/s]\n",
      "100%|██████████| 12/12 [00:03<00:00,  3.43it/s]\n",
      " 18%|█▊        | 27/150 [02:19<10:17,  5.02s/it]"
     ]
    },
    {
     "name": "stdout",
     "output_type": "stream",
     "text": [
      "epoch 26: train0.49324324324324326  val0.4712041884816754\n"
     ]
    },
    {
     "name": "stderr",
     "output_type": "stream",
     "text": [
      "100%|██████████| 5/5 [00:01<00:00,  3.48it/s]\n",
      "100%|██████████| 12/12 [00:03<00:00,  3.35it/s]\n",
      " 19%|█▊        | 28/150 [02:24<10:12,  5.02s/it]"
     ]
    },
    {
     "name": "stdout",
     "output_type": "stream",
     "text": [
      "epoch 27: train0.5  val0.48429319371727747\n"
     ]
    },
    {
     "name": "stderr",
     "output_type": "stream",
     "text": [
      "100%|██████████| 5/5 [00:01<00:00,  3.47it/s]\n",
      "100%|██████████| 12/12 [00:03<00:00,  3.36it/s]\n",
      " 19%|█▉        | 29/150 [02:29<10:07,  5.02s/it]"
     ]
    },
    {
     "name": "stdout",
     "output_type": "stream",
     "text": [
      "epoch 28: train0.5202702702702703  val0.468586387434555\n"
     ]
    },
    {
     "name": "stderr",
     "output_type": "stream",
     "text": [
      "100%|██████████| 5/5 [00:01<00:00,  3.41it/s]\n",
      "100%|██████████| 12/12 [00:03<00:00,  3.38it/s]\n",
      " 20%|██        | 30/150 [02:34<10:02,  5.02s/it]"
     ]
    },
    {
     "name": "stdout",
     "output_type": "stream",
     "text": [
      "epoch 29: train0.5540540540540541  val0.46335078534031415\n"
     ]
    },
    {
     "name": "stderr",
     "output_type": "stream",
     "text": [
      "100%|██████████| 5/5 [00:01<00:00,  3.48it/s]\n",
      "100%|██████████| 12/12 [00:03<00:00,  3.46it/s]\n",
      " 21%|██        | 31/150 [02:39<09:53,  4.99s/it]"
     ]
    },
    {
     "name": "stdout",
     "output_type": "stream",
     "text": [
      "epoch 30: train0.527027027027027  val0.49476439790575916\n"
     ]
    },
    {
     "name": "stderr",
     "output_type": "stream",
     "text": [
      "100%|██████████| 5/5 [00:01<00:00,  3.52it/s]\n",
      "100%|██████████| 12/12 [00:03<00:00,  3.54it/s]\n",
      " 21%|██▏       | 32/150 [02:44<09:42,  4.94s/it]"
     ]
    },
    {
     "name": "stdout",
     "output_type": "stream",
     "text": [
      "epoch 31: train0.5472972972972973  val0.5026178010471204\n"
     ]
    },
    {
     "name": "stderr",
     "output_type": "stream",
     "text": [
      "100%|██████████| 5/5 [00:01<00:00,  3.62it/s]\n",
      "100%|██████████| 12/12 [00:03<00:00,  3.59it/s]\n",
      " 22%|██▏       | 33/150 [02:48<09:30,  4.88s/it]"
     ]
    },
    {
     "name": "stdout",
     "output_type": "stream",
     "text": [
      "epoch 32: train0.49324324324324326  val0.5052356020942408\n"
     ]
    },
    {
     "name": "stderr",
     "output_type": "stream",
     "text": [
      "100%|██████████| 5/5 [00:01<00:00,  3.42it/s]\n",
      "100%|██████████| 12/12 [00:03<00:00,  3.46it/s]\n",
      " 23%|██▎       | 34/150 [02:53<09:27,  4.89s/it]"
     ]
    },
    {
     "name": "stdout",
     "output_type": "stream",
     "text": [
      "epoch 33: train0.5  val0.5052356020942408\n"
     ]
    },
    {
     "name": "stderr",
     "output_type": "stream",
     "text": [
      "100%|██████████| 5/5 [00:01<00:00,  3.43it/s]\n",
      "100%|██████████| 12/12 [00:03<00:00,  3.44it/s]\n",
      " 23%|██▎       | 35/150 [02:58<09:25,  4.91s/it]"
     ]
    },
    {
     "name": "stdout",
     "output_type": "stream",
     "text": [
      "epoch 34: train0.5675675675675675  val0.5052356020942408\n"
     ]
    },
    {
     "name": "stderr",
     "output_type": "stream",
     "text": [
      "100%|██████████| 5/5 [00:01<00:00,  3.41it/s]\n",
      "100%|██████████| 12/12 [00:03<00:00,  3.39it/s]\n",
      " 24%|██▍       | 36/150 [03:03<09:23,  4.94s/it]"
     ]
    },
    {
     "name": "stdout",
     "output_type": "stream",
     "text": [
      "epoch 35: train0.5405405405405406  val0.5078534031413613\n"
     ]
    },
    {
     "name": "stderr",
     "output_type": "stream",
     "text": [
      "100%|██████████| 5/5 [00:01<00:00,  3.36it/s]\n",
      "100%|██████████| 12/12 [00:03<00:00,  3.45it/s]\n",
      " 25%|██▍       | 37/150 [03:08<09:19,  4.95s/it]"
     ]
    },
    {
     "name": "stdout",
     "output_type": "stream",
     "text": [
      "epoch 36: train0.5337837837837838  val0.5104712041884817\n"
     ]
    },
    {
     "name": "stderr",
     "output_type": "stream",
     "text": [
      "100%|██████████| 5/5 [00:01<00:00,  3.41it/s]\n",
      "100%|██████████| 12/12 [00:03<00:00,  3.52it/s]\n",
      " 25%|██▌       | 38/150 [03:13<09:12,  4.93s/it]"
     ]
    },
    {
     "name": "stdout",
     "output_type": "stream",
     "text": [
      "epoch 37: train0.5743243243243243  val0.5130890052356021\n"
     ]
    },
    {
     "name": "stderr",
     "output_type": "stream",
     "text": [
      "100%|██████████| 5/5 [00:01<00:00,  3.44it/s]\n",
      "100%|██████████| 12/12 [00:03<00:00,  3.56it/s]\n",
      " 26%|██▌       | 39/150 [03:18<09:04,  4.90s/it]"
     ]
    },
    {
     "name": "stdout",
     "output_type": "stream",
     "text": [
      "epoch 38: train0.5878378378378378  val0.5104712041884817\n"
     ]
    },
    {
     "name": "stderr",
     "output_type": "stream",
     "text": [
      "100%|██████████| 5/5 [00:01<00:00,  3.45it/s]\n",
      "100%|██████████| 12/12 [00:03<00:00,  3.25it/s]\n",
      " 27%|██▋       | 40/150 [03:23<09:07,  4.98s/it]"
     ]
    },
    {
     "name": "stdout",
     "output_type": "stream",
     "text": [
      "epoch 39: train0.6081081081081081  val0.518324607329843\n"
     ]
    },
    {
     "name": "stderr",
     "output_type": "stream",
     "text": [
      "100%|██████████| 5/5 [00:01<00:00,  3.30it/s]\n",
      "100%|██████████| 12/12 [00:03<00:00,  3.61it/s]\n",
      " 27%|██▋       | 41/150 [03:28<08:58,  4.94s/it]"
     ]
    },
    {
     "name": "stdout",
     "output_type": "stream",
     "text": [
      "epoch 40: train0.5067567567567568  val0.5104712041884817\n"
     ]
    },
    {
     "name": "stderr",
     "output_type": "stream",
     "text": [
      "100%|██████████| 5/5 [00:01<00:00,  3.55it/s]\n",
      "100%|██████████| 12/12 [00:03<00:00,  3.47it/s]\n",
      " 28%|██▊       | 42/150 [03:33<08:51,  4.92s/it]"
     ]
    },
    {
     "name": "stdout",
     "output_type": "stream",
     "text": [
      "epoch 41: train0.5337837837837838  val0.5261780104712042\n"
     ]
    },
    {
     "name": "stderr",
     "output_type": "stream",
     "text": [
      "100%|██████████| 5/5 [00:01<00:00,  3.45it/s]\n",
      "100%|██████████| 12/12 [00:03<00:00,  3.41it/s]\n",
      " 29%|██▊       | 43/150 [03:38<08:48,  4.94s/it]"
     ]
    },
    {
     "name": "stdout",
     "output_type": "stream",
     "text": [
      "epoch 42: train0.5540540540540541  val0.5209424083769634\n"
     ]
    },
    {
     "name": "stderr",
     "output_type": "stream",
     "text": [
      "100%|██████████| 5/5 [00:01<00:00,  3.36it/s]\n",
      "100%|██████████| 12/12 [00:03<00:00,  3.32it/s]\n",
      " 29%|██▉       | 44/150 [03:43<08:49,  4.99s/it]"
     ]
    },
    {
     "name": "stdout",
     "output_type": "stream",
     "text": [
      "epoch 43: train0.6013513513513513  val0.5130890052356021\n"
     ]
    },
    {
     "name": "stderr",
     "output_type": "stream",
     "text": [
      "100%|██████████| 5/5 [00:01<00:00,  3.33it/s]\n",
      "100%|██████████| 12/12 [00:03<00:00,  3.38it/s]\n",
      " 30%|███       | 45/150 [03:48<08:46,  5.01s/it]"
     ]
    },
    {
     "name": "stdout",
     "output_type": "stream",
     "text": [
      "epoch 44: train0.6148648648648649  val0.5209424083769634\n"
     ]
    },
    {
     "name": "stderr",
     "output_type": "stream",
     "text": [
      "100%|██████████| 5/5 [00:01<00:00,  3.31it/s]\n",
      "100%|██████████| 12/12 [00:03<00:00,  3.46it/s]\n",
      " 31%|███       | 46/150 [03:53<08:40,  5.01s/it]"
     ]
    },
    {
     "name": "stdout",
     "output_type": "stream",
     "text": [
      "epoch 45: train0.5878378378378378  val0.5209424083769634\n"
     ]
    },
    {
     "name": "stderr",
     "output_type": "stream",
     "text": [
      "100%|██████████| 5/5 [00:01<00:00,  3.36it/s]\n",
      "100%|██████████| 12/12 [00:03<00:00,  3.33it/s]\n",
      " 31%|███▏      | 47/150 [03:58<08:38,  5.04s/it]"
     ]
    },
    {
     "name": "stdout",
     "output_type": "stream",
     "text": [
      "epoch 46: train0.5540540540540541  val0.518324607329843\n"
     ]
    },
    {
     "name": "stderr",
     "output_type": "stream",
     "text": [
      "100%|██████████| 5/5 [00:01<00:00,  3.27it/s]\n",
      "100%|██████████| 12/12 [00:03<00:00,  3.30it/s]\n",
      " 32%|███▏      | 48/150 [04:03<08:37,  5.08s/it]"
     ]
    },
    {
     "name": "stdout",
     "output_type": "stream",
     "text": [
      "epoch 47: train0.6756756756756757  val0.5157068062827225\n"
     ]
    },
    {
     "name": "stderr",
     "output_type": "stream",
     "text": [
      "100%|██████████| 5/5 [00:01<00:00,  3.38it/s]\n",
      "100%|██████████| 12/12 [00:03<00:00,  3.39it/s]\n",
      " 33%|███▎      | 49/150 [04:08<08:31,  5.06s/it]"
     ]
    },
    {
     "name": "stdout",
     "output_type": "stream",
     "text": [
      "epoch 48: train0.5743243243243243  val0.5157068062827225\n"
     ]
    },
    {
     "name": "stderr",
     "output_type": "stream",
     "text": [
      "100%|██████████| 5/5 [00:01<00:00,  3.42it/s]\n",
      "100%|██████████| 12/12 [00:03<00:00,  3.31it/s]\n",
      " 33%|███▎      | 50/150 [04:13<08:27,  5.07s/it]"
     ]
    },
    {
     "name": "stdout",
     "output_type": "stream",
     "text": [
      "epoch 49: train0.5675675675675675  val0.5209424083769634\n"
     ]
    },
    {
     "name": "stderr",
     "output_type": "stream",
     "text": [
      "100%|██████████| 5/5 [00:01<00:00,  3.38it/s]\n",
      "100%|██████████| 12/12 [00:03<00:00,  3.34it/s]\n",
      " 34%|███▍      | 51/150 [04:19<08:24,  5.10s/it]"
     ]
    },
    {
     "name": "stdout",
     "output_type": "stream",
     "text": [
      "epoch 50: train0.5540540540540541  val0.518324607329843\n"
     ]
    },
    {
     "name": "stderr",
     "output_type": "stream",
     "text": [
      "100%|██████████| 5/5 [00:01<00:00,  3.41it/s]\n",
      "100%|██████████| 12/12 [00:03<00:00,  3.27it/s]\n",
      " 35%|███▍      | 52/150 [04:24<08:20,  5.11s/it]"
     ]
    },
    {
     "name": "stdout",
     "output_type": "stream",
     "text": [
      "epoch 51: train0.5337837837837838  val0.518324607329843\n"
     ]
    },
    {
     "name": "stderr",
     "output_type": "stream",
     "text": [
      "100%|██████████| 5/5 [00:01<00:00,  3.43it/s]\n",
      "100%|██████████| 12/12 [00:03<00:00,  3.30it/s]\n",
      " 35%|███▌      | 53/150 [04:29<08:15,  5.11s/it]"
     ]
    },
    {
     "name": "stdout",
     "output_type": "stream",
     "text": [
      "epoch 52: train0.5540540540540541  val0.5157068062827225\n"
     ]
    },
    {
     "name": "stderr",
     "output_type": "stream",
     "text": [
      "100%|██████████| 5/5 [00:01<00:00,  3.39it/s]\n",
      "100%|██████████| 12/12 [00:03<00:00,  3.28it/s]\n",
      " 36%|███▌      | 54/150 [04:34<08:11,  5.12s/it]"
     ]
    },
    {
     "name": "stdout",
     "output_type": "stream",
     "text": [
      "epoch 53: train0.5405405405405406  val0.5209424083769634\n"
     ]
    },
    {
     "name": "stderr",
     "output_type": "stream",
     "text": [
      "100%|██████████| 5/5 [00:01<00:00,  3.29it/s]\n",
      "100%|██████████| 12/12 [00:03<00:00,  3.32it/s]\n",
      " 37%|███▋      | 55/150 [04:39<08:07,  5.13s/it]"
     ]
    },
    {
     "name": "stdout",
     "output_type": "stream",
     "text": [
      "epoch 54: train0.5540540540540541  val0.5130890052356021\n"
     ]
    },
    {
     "name": "stderr",
     "output_type": "stream",
     "text": [
      "100%|██████████| 5/5 [00:01<00:00,  3.36it/s]\n",
      "100%|██████████| 12/12 [00:03<00:00,  3.42it/s]\n",
      " 37%|███▋      | 56/150 [04:44<07:58,  5.09s/it]"
     ]
    },
    {
     "name": "stdout",
     "output_type": "stream",
     "text": [
      "epoch 55: train0.6554054054054054  val0.5157068062827225\n"
     ]
    },
    {
     "name": "stderr",
     "output_type": "stream",
     "text": [
      "100%|██████████| 5/5 [00:01<00:00,  3.44it/s]\n",
      "100%|██████████| 12/12 [00:03<00:00,  3.35it/s]\n",
      " 38%|███▊      | 57/150 [04:49<07:52,  5.08s/it]"
     ]
    },
    {
     "name": "stdout",
     "output_type": "stream",
     "text": [
      "epoch 56: train0.5945945945945946  val0.5104712041884817\n"
     ]
    },
    {
     "name": "stderr",
     "output_type": "stream",
     "text": [
      "100%|██████████| 5/5 [00:01<00:00,  3.46it/s]\n",
      "100%|██████████| 12/12 [00:03<00:00,  3.52it/s]\n",
      " 39%|███▊      | 58/150 [04:54<07:41,  5.01s/it]"
     ]
    },
    {
     "name": "stdout",
     "output_type": "stream",
     "text": [
      "epoch 57: train0.5945945945945946  val0.5104712041884817\n"
     ]
    },
    {
     "name": "stderr",
     "output_type": "stream",
     "text": [
      "100%|██████████| 5/5 [00:01<00:00,  3.52it/s]\n",
      "100%|██████████| 12/12 [00:03<00:00,  3.49it/s]\n",
      " 39%|███▉      | 59/150 [04:59<07:32,  4.97s/it]"
     ]
    },
    {
     "name": "stdout",
     "output_type": "stream",
     "text": [
      "epoch 58: train0.6148648648648649  val0.5209424083769634\n"
     ]
    },
    {
     "name": "stderr",
     "output_type": "stream",
     "text": [
      "100%|██████████| 5/5 [00:01<00:00,  3.53it/s]\n",
      "100%|██████████| 12/12 [00:03<00:00,  3.46it/s]\n",
      " 40%|████      | 60/150 [05:04<07:25,  4.95s/it]"
     ]
    },
    {
     "name": "stdout",
     "output_type": "stream",
     "text": [
      "epoch 59: train0.6216216216216216  val0.518324607329843\n"
     ]
    },
    {
     "name": "stderr",
     "output_type": "stream",
     "text": [
      "100%|██████████| 5/5 [00:01<00:00,  3.59it/s]\n",
      "100%|██████████| 12/12 [00:03<00:00,  3.51it/s]\n",
      " 41%|████      | 61/150 [05:09<07:17,  4.91s/it]"
     ]
    },
    {
     "name": "stdout",
     "output_type": "stream",
     "text": [
      "epoch 60: train0.6081081081081081  val0.5261780104712042\n"
     ]
    },
    {
     "name": "stderr",
     "output_type": "stream",
     "text": [
      "100%|██████████| 5/5 [00:01<00:00,  3.40it/s]\n",
      "100%|██████████| 12/12 [00:03<00:00,  3.49it/s]\n",
      " 41%|████▏     | 62/150 [05:13<07:12,  4.91s/it]"
     ]
    },
    {
     "name": "stdout",
     "output_type": "stream",
     "text": [
      "epoch 61: train0.6013513513513513  val0.5157068062827225\n"
     ]
    },
    {
     "name": "stderr",
     "output_type": "stream",
     "text": [
      "100%|██████████| 5/5 [00:01<00:00,  3.51it/s]\n",
      "100%|██████████| 12/12 [00:03<00:00,  3.44it/s]\n",
      " 42%|████▏     | 63/150 [05:18<07:07,  4.92s/it]"
     ]
    },
    {
     "name": "stdout",
     "output_type": "stream",
     "text": [
      "epoch 62: train0.6283783783783784  val0.5209424083769634\n"
     ]
    },
    {
     "name": "stderr",
     "output_type": "stream",
     "text": [
      "100%|██████████| 5/5 [00:01<00:00,  3.40it/s]\n",
      "100%|██████████| 12/12 [00:03<00:00,  3.36it/s]\n",
      " 43%|████▎     | 64/150 [05:23<07:06,  4.96s/it]"
     ]
    },
    {
     "name": "stdout",
     "output_type": "stream",
     "text": [
      "epoch 63: train0.5608108108108109  val0.5235602094240838\n"
     ]
    },
    {
     "name": "stderr",
     "output_type": "stream",
     "text": [
      "100%|██████████| 5/5 [00:01<00:00,  3.36it/s]\n",
      "100%|██████████| 12/12 [00:03<00:00,  3.40it/s]\n",
      " 43%|████▎     | 65/150 [05:28<07:03,  4.98s/it]"
     ]
    },
    {
     "name": "stdout",
     "output_type": "stream",
     "text": [
      "epoch 64: train0.6013513513513513  val0.5209424083769634\n"
     ]
    },
    {
     "name": "stderr",
     "output_type": "stream",
     "text": [
      "100%|██████████| 5/5 [00:01<00:00,  3.36it/s]\n",
      "100%|██████████| 12/12 [00:03<00:00,  3.36it/s]\n",
      " 44%|████▍     | 66/150 [05:34<07:00,  5.00s/it]"
     ]
    },
    {
     "name": "stdout",
     "output_type": "stream",
     "text": [
      "epoch 65: train0.5540540540540541  val0.5209424083769634\n"
     ]
    },
    {
     "name": "stderr",
     "output_type": "stream",
     "text": [
      "100%|██████████| 5/5 [00:01<00:00,  3.51it/s]\n",
      "100%|██████████| 12/12 [00:03<00:00,  3.58it/s]\n",
      " 45%|████▍     | 67/150 [05:38<06:50,  4.94s/it]"
     ]
    },
    {
     "name": "stdout",
     "output_type": "stream",
     "text": [
      "epoch 66: train0.5202702702702703  val0.5209424083769634\n"
     ]
    },
    {
     "name": "stderr",
     "output_type": "stream",
     "text": [
      "100%|██████████| 5/5 [00:01<00:00,  3.44it/s]\n",
      "100%|██████████| 12/12 [00:03<00:00,  3.46it/s]\n",
      " 45%|████▌     | 68/150 [05:43<06:44,  4.94s/it]"
     ]
    },
    {
     "name": "stdout",
     "output_type": "stream",
     "text": [
      "epoch 67: train0.5472972972972973  val0.5078534031413613\n"
     ]
    },
    {
     "name": "stderr",
     "output_type": "stream",
     "text": [
      "100%|██████████| 5/5 [00:01<00:00,  3.53it/s]\n",
      "100%|██████████| 12/12 [00:03<00:00,  3.54it/s]\n",
      " 46%|████▌     | 69/150 [05:48<06:36,  4.90s/it]"
     ]
    },
    {
     "name": "stdout",
     "output_type": "stream",
     "text": [
      "epoch 68: train0.5472972972972973  val0.5209424083769634\n"
     ]
    },
    {
     "name": "stderr",
     "output_type": "stream",
     "text": [
      "100%|██████████| 5/5 [00:01<00:00,  3.50it/s]\n",
      "100%|██████████| 12/12 [00:03<00:00,  3.34it/s]\n",
      " 47%|████▋     | 70/150 [05:53<06:36,  4.95s/it]"
     ]
    },
    {
     "name": "stdout",
     "output_type": "stream",
     "text": [
      "epoch 69: train0.5540540540540541  val0.518324607329843\n"
     ]
    },
    {
     "name": "stderr",
     "output_type": "stream",
     "text": [
      "100%|██████████| 5/5 [00:01<00:00,  3.41it/s]\n",
      "100%|██████████| 12/12 [00:03<00:00,  3.46it/s]\n",
      " 47%|████▋     | 71/150 [05:58<06:31,  4.95s/it]"
     ]
    },
    {
     "name": "stdout",
     "output_type": "stream",
     "text": [
      "epoch 70: train0.5337837837837838  val0.5209424083769634\n"
     ]
    },
    {
     "name": "stderr",
     "output_type": "stream",
     "text": [
      "100%|██████████| 5/5 [00:01<00:00,  3.41it/s]\n",
      "100%|██████████| 12/12 [00:03<00:00,  3.44it/s]\n",
      " 48%|████▊     | 72/150 [06:03<06:26,  4.95s/it]"
     ]
    },
    {
     "name": "stdout",
     "output_type": "stream",
     "text": [
      "epoch 71: train0.5540540540540541  val0.5130890052356021\n"
     ]
    },
    {
     "name": "stderr",
     "output_type": "stream",
     "text": [
      "100%|██████████| 5/5 [00:01<00:00,  3.41it/s]\n",
      "100%|██████████| 12/12 [00:03<00:00,  3.54it/s]\n",
      " 49%|████▊     | 73/150 [06:08<06:19,  4.93s/it]"
     ]
    },
    {
     "name": "stdout",
     "output_type": "stream",
     "text": [
      "epoch 72: train0.5135135135135135  val0.5157068062827225\n"
     ]
    },
    {
     "name": "stderr",
     "output_type": "stream",
     "text": [
      "100%|██████████| 5/5 [00:01<00:00,  3.37it/s]\n",
      "100%|██████████| 12/12 [00:03<00:00,  3.42it/s]\n",
      " 49%|████▉     | 74/150 [06:13<06:16,  4.95s/it]"
     ]
    },
    {
     "name": "stdout",
     "output_type": "stream",
     "text": [
      "epoch 73: train0.5743243243243243  val0.518324607329843\n"
     ]
    },
    {
     "name": "stderr",
     "output_type": "stream",
     "text": [
      "100%|██████████| 5/5 [00:01<00:00,  3.42it/s]\n",
      "100%|██████████| 12/12 [00:03<00:00,  3.48it/s]\n",
      " 50%|█████     | 75/150 [06:18<06:10,  4.94s/it]"
     ]
    },
    {
     "name": "stdout",
     "output_type": "stream",
     "text": [
      "epoch 74: train0.6013513513513513  val0.5157068062827225\n"
     ]
    },
    {
     "name": "stderr",
     "output_type": "stream",
     "text": [
      "100%|██████████| 5/5 [00:01<00:00,  3.48it/s]\n",
      "100%|██████████| 12/12 [00:03<00:00,  3.46it/s]\n",
      " 51%|█████     | 76/150 [06:23<06:04,  4.93s/it]"
     ]
    },
    {
     "name": "stdout",
     "output_type": "stream",
     "text": [
      "epoch 75: train0.5878378378378378  val0.5157068062827225\n"
     ]
    },
    {
     "name": "stderr",
     "output_type": "stream",
     "text": [
      "100%|██████████| 5/5 [00:01<00:00,  3.60it/s]\n",
      "100%|██████████| 12/12 [00:03<00:00,  3.49it/s]\n",
      " 51%|█████▏    | 77/150 [06:28<05:57,  4.90s/it]"
     ]
    },
    {
     "name": "stdout",
     "output_type": "stream",
     "text": [
      "epoch 76: train0.5  val0.5157068062827225\n"
     ]
    },
    {
     "name": "stderr",
     "output_type": "stream",
     "text": [
      "100%|██████████| 5/5 [00:01<00:00,  3.59it/s]\n",
      "100%|██████████| 12/12 [00:03<00:00,  3.34it/s]\n",
      " 52%|█████▏    | 78/150 [06:33<05:54,  4.93s/it]"
     ]
    },
    {
     "name": "stdout",
     "output_type": "stream",
     "text": [
      "epoch 77: train0.5540540540540541  val0.5209424083769634\n"
     ]
    },
    {
     "name": "stderr",
     "output_type": "stream",
     "text": [
      "100%|██████████| 5/5 [00:01<00:00,  3.46it/s]\n",
      "100%|██████████| 12/12 [00:03<00:00,  3.34it/s]\n",
      " 53%|█████▎    | 79/150 [06:38<05:52,  4.97s/it]"
     ]
    },
    {
     "name": "stdout",
     "output_type": "stream",
     "text": [
      "epoch 78: train0.5878378378378378  val0.5157068062827225\n"
     ]
    },
    {
     "name": "stderr",
     "output_type": "stream",
     "text": [
      "100%|██████████| 5/5 [00:01<00:00,  3.48it/s]\n",
      "100%|██████████| 12/12 [00:03<00:00,  3.32it/s]\n",
      " 53%|█████▎    | 80/150 [06:43<05:49,  4.99s/it]"
     ]
    },
    {
     "name": "stdout",
     "output_type": "stream",
     "text": [
      "epoch 79: train0.47297297297297297  val0.5235602094240838\n"
     ]
    },
    {
     "name": "stderr",
     "output_type": "stream",
     "text": [
      "100%|██████████| 5/5 [00:01<00:00,  3.45it/s]\n",
      "100%|██████████| 12/12 [00:03<00:00,  3.40it/s]\n",
      " 54%|█████▍    | 81/150 [06:48<05:44,  4.99s/it]"
     ]
    },
    {
     "name": "stdout",
     "output_type": "stream",
     "text": [
      "epoch 80: train0.527027027027027  val0.5209424083769634\n"
     ]
    },
    {
     "name": "stderr",
     "output_type": "stream",
     "text": [
      "100%|██████████| 5/5 [00:01<00:00,  3.51it/s]\n",
      "100%|██████████| 12/12 [00:03<00:00,  3.35it/s]\n",
      " 55%|█████▍    | 82/150 [06:53<05:39,  5.00s/it]"
     ]
    },
    {
     "name": "stdout",
     "output_type": "stream",
     "text": [
      "epoch 81: train0.5675675675675675  val0.518324607329843\n"
     ]
    },
    {
     "name": "stderr",
     "output_type": "stream",
     "text": [
      "100%|██████████| 5/5 [00:01<00:00,  3.43it/s]\n",
      "100%|██████████| 12/12 [00:03<00:00,  3.33it/s]\n",
      " 55%|█████▌    | 83/150 [06:58<05:36,  5.02s/it]"
     ]
    },
    {
     "name": "stdout",
     "output_type": "stream",
     "text": [
      "epoch 82: train0.6216216216216216  val0.5157068062827225\n"
     ]
    },
    {
     "name": "stderr",
     "output_type": "stream",
     "text": [
      "100%|██████████| 5/5 [00:01<00:00,  3.44it/s]\n",
      "100%|██████████| 12/12 [00:03<00:00,  3.67it/s]\n",
      " 56%|█████▌    | 84/150 [07:03<05:25,  4.93s/it]"
     ]
    },
    {
     "name": "stdout",
     "output_type": "stream",
     "text": [
      "epoch 83: train0.5540540540540541  val0.5104712041884817\n"
     ]
    },
    {
     "name": "stderr",
     "output_type": "stream",
     "text": [
      "100%|██████████| 5/5 [00:01<00:00,  3.74it/s]\n",
      "100%|██████████| 12/12 [00:03<00:00,  3.67it/s]\n",
      " 57%|█████▋    | 85/150 [07:07<05:14,  4.84s/it]"
     ]
    },
    {
     "name": "stdout",
     "output_type": "stream",
     "text": [
      "epoch 84: train0.5337837837837838  val0.518324607329843\n"
     ]
    },
    {
     "name": "stderr",
     "output_type": "stream",
     "text": [
      "100%|██████████| 5/5 [00:01<00:00,  3.51it/s]\n",
      "100%|██████████| 12/12 [00:03<00:00,  3.66it/s]\n",
      " 57%|█████▋    | 86/150 [07:12<05:07,  4.80s/it]"
     ]
    },
    {
     "name": "stdout",
     "output_type": "stream",
     "text": [
      "epoch 85: train0.6351351351351351  val0.5235602094240838\n"
     ]
    },
    {
     "name": "stderr",
     "output_type": "stream",
     "text": [
      "100%|██████████| 5/5 [00:01<00:00,  3.69it/s]\n",
      "100%|██████████| 12/12 [00:03<00:00,  3.58it/s]\n",
      " 58%|█████▊    | 87/150 [07:17<05:00,  4.78s/it]"
     ]
    },
    {
     "name": "stdout",
     "output_type": "stream",
     "text": [
      "epoch 86: train0.527027027027027  val0.5157068062827225\n"
     ]
    },
    {
     "name": "stderr",
     "output_type": "stream",
     "text": [
      "100%|██████████| 5/5 [00:01<00:00,  3.55it/s]\n",
      "100%|██████████| 12/12 [00:03<00:00,  3.62it/s]\n",
      " 59%|█████▊    | 88/150 [07:21<04:55,  4.76s/it]"
     ]
    },
    {
     "name": "stdout",
     "output_type": "stream",
     "text": [
      "epoch 87: train0.6081081081081081  val0.5314136125654451\n"
     ]
    },
    {
     "name": "stderr",
     "output_type": "stream",
     "text": [
      "100%|██████████| 5/5 [00:01<00:00,  3.80it/s]\n",
      "100%|██████████| 12/12 [00:03<00:00,  3.61it/s]\n",
      " 59%|█████▉    | 89/150 [07:26<04:48,  4.73s/it]"
     ]
    },
    {
     "name": "stdout",
     "output_type": "stream",
     "text": [
      "epoch 88: train0.5945945945945946  val0.5366492146596858\n"
     ]
    },
    {
     "name": "stderr",
     "output_type": "stream",
     "text": [
      "100%|██████████| 5/5 [00:01<00:00,  3.70it/s]\n",
      "100%|██████████| 12/12 [00:03<00:00,  3.60it/s]\n",
      " 60%|██████    | 90/150 [07:31<04:42,  4.72s/it]"
     ]
    },
    {
     "name": "stdout",
     "output_type": "stream",
     "text": [
      "epoch 89: train0.5878378378378378  val0.5261780104712042\n"
     ]
    },
    {
     "name": "stderr",
     "output_type": "stream",
     "text": [
      "100%|██████████| 5/5 [00:01<00:00,  3.60it/s]\n",
      "100%|██████████| 12/12 [00:03<00:00,  3.76it/s]\n",
      " 61%|██████    | 91/150 [07:35<04:35,  4.68s/it]"
     ]
    },
    {
     "name": "stdout",
     "output_type": "stream",
     "text": [
      "epoch 90: train0.5675675675675675  val0.5287958115183246\n"
     ]
    },
    {
     "name": "stderr",
     "output_type": "stream",
     "text": [
      "100%|██████████| 5/5 [00:01<00:00,  3.78it/s]\n",
      "100%|██████████| 12/12 [00:03<00:00,  3.50it/s]\n",
      " 61%|██████▏   | 92/150 [07:40<04:32,  4.70s/it]"
     ]
    },
    {
     "name": "stdout",
     "output_type": "stream",
     "text": [
      "epoch 91: train0.5608108108108109  val0.5314136125654451\n"
     ]
    },
    {
     "name": "stderr",
     "output_type": "stream",
     "text": [
      "100%|██████████| 5/5 [00:01<00:00,  3.44it/s]\n",
      "100%|██████████| 12/12 [00:03<00:00,  3.41it/s]\n",
      " 62%|██████▏   | 93/150 [07:45<04:32,  4.79s/it]"
     ]
    },
    {
     "name": "stdout",
     "output_type": "stream",
     "text": [
      "epoch 92: train0.6216216216216216  val0.5314136125654451\n"
     ]
    },
    {
     "name": "stderr",
     "output_type": "stream",
     "text": [
      "100%|██████████| 5/5 [00:01<00:00,  3.41it/s]\n",
      "100%|██████████| 12/12 [00:03<00:00,  3.48it/s]\n",
      " 63%|██████▎   | 94/150 [07:50<04:30,  4.83s/it]"
     ]
    },
    {
     "name": "stdout",
     "output_type": "stream",
     "text": [
      "epoch 93: train0.5878378378378378  val0.5261780104712042\n"
     ]
    },
    {
     "name": "stderr",
     "output_type": "stream",
     "text": [
      "100%|██████████| 5/5 [00:01<00:00,  3.62it/s]\n",
      "100%|██████████| 12/12 [00:03<00:00,  3.50it/s]\n",
      " 63%|██████▎   | 95/150 [07:55<04:25,  4.82s/it]"
     ]
    },
    {
     "name": "stdout",
     "output_type": "stream",
     "text": [
      "epoch 94: train0.5878378378378378  val0.5261780104712042\n"
     ]
    },
    {
     "name": "stderr",
     "output_type": "stream",
     "text": [
      "100%|██████████| 5/5 [00:01<00:00,  3.62it/s]\n",
      "100%|██████████| 12/12 [00:03<00:00,  3.54it/s]\n",
      " 64%|██████▍   | 96/150 [07:59<04:19,  4.81s/it]"
     ]
    },
    {
     "name": "stdout",
     "output_type": "stream",
     "text": [
      "epoch 95: train0.5945945945945946  val0.5157068062827225\n"
     ]
    },
    {
     "name": "stderr",
     "output_type": "stream",
     "text": [
      "100%|██████████| 5/5 [00:01<00:00,  3.51it/s]\n",
      "100%|██████████| 12/12 [00:03<00:00,  3.28it/s]\n",
      " 65%|██████▍   | 97/150 [08:05<04:19,  4.89s/it]"
     ]
    },
    {
     "name": "stdout",
     "output_type": "stream",
     "text": [
      "epoch 96: train0.5405405405405406  val0.518324607329843\n"
     ]
    },
    {
     "name": "stderr",
     "output_type": "stream",
     "text": [
      "100%|██████████| 5/5 [00:01<00:00,  3.70it/s]\n",
      "100%|██████████| 12/12 [00:03<00:00,  3.68it/s]\n",
      " 65%|██████▌   | 98/150 [08:09<04:10,  4.81s/it]"
     ]
    },
    {
     "name": "stdout",
     "output_type": "stream",
     "text": [
      "epoch 97: train0.5743243243243243  val0.5340314136125655\n"
     ]
    },
    {
     "name": "stderr",
     "output_type": "stream",
     "text": [
      "100%|██████████| 5/5 [00:01<00:00,  3.62it/s]\n",
      "100%|██████████| 12/12 [00:03<00:00,  3.37it/s]\n",
      " 66%|██████▌   | 99/150 [08:14<04:07,  4.85s/it]"
     ]
    },
    {
     "name": "stdout",
     "output_type": "stream",
     "text": [
      "epoch 98: train0.581081081081081  val0.5314136125654451\n"
     ]
    },
    {
     "name": "stderr",
     "output_type": "stream",
     "text": [
      "100%|██████████| 5/5 [00:01<00:00,  3.36it/s]\n",
      "100%|██████████| 12/12 [00:03<00:00,  3.56it/s]\n",
      " 67%|██████▋   | 100/150 [08:19<04:02,  4.86s/it]"
     ]
    },
    {
     "name": "stdout",
     "output_type": "stream",
     "text": [
      "epoch 99: train0.6013513513513513  val0.518324607329843\n"
     ]
    },
    {
     "name": "stderr",
     "output_type": "stream",
     "text": [
      "100%|██████████| 5/5 [00:01<00:00,  3.47it/s]\n",
      "100%|██████████| 12/12 [00:03<00:00,  3.47it/s]\n",
      " 67%|██████▋   | 101/150 [08:24<03:59,  4.89s/it]"
     ]
    },
    {
     "name": "stdout",
     "output_type": "stream",
     "text": [
      "epoch 100: train0.6148648648648649  val0.5235602094240838\n"
     ]
    },
    {
     "name": "stderr",
     "output_type": "stream",
     "text": [
      "100%|██████████| 5/5 [00:01<00:00,  3.49it/s]\n",
      "100%|██████████| 12/12 [00:03<00:00,  3.42it/s]\n",
      " 68%|██████▊   | 102/150 [08:29<03:55,  4.91s/it]"
     ]
    },
    {
     "name": "stdout",
     "output_type": "stream",
     "text": [
      "epoch 101: train0.6216216216216216  val0.5209424083769634\n"
     ]
    },
    {
     "name": "stderr",
     "output_type": "stream",
     "text": [
      "100%|██████████| 5/5 [00:01<00:00,  3.41it/s]\n",
      "100%|██████████| 12/12 [00:04<00:00,  3.00it/s]\n",
      " 69%|██████▊   | 103/150 [08:34<03:58,  5.08s/it]"
     ]
    },
    {
     "name": "stdout",
     "output_type": "stream",
     "text": [
      "epoch 102: train0.6081081081081081  val0.5287958115183246\n"
     ]
    },
    {
     "name": "stderr",
     "output_type": "stream",
     "text": [
      "100%|██████████| 5/5 [00:01<00:00,  3.09it/s]\n",
      "100%|██████████| 12/12 [00:03<00:00,  3.62it/s]\n",
      " 69%|██████▉   | 104/150 [08:39<03:51,  5.04s/it]"
     ]
    },
    {
     "name": "stdout",
     "output_type": "stream",
     "text": [
      "epoch 103: train0.6216216216216216  val0.5287958115183246\n"
     ]
    },
    {
     "name": "stderr",
     "output_type": "stream",
     "text": [
      "100%|██████████| 5/5 [00:01<00:00,  3.59it/s]\n",
      "100%|██████████| 12/12 [00:03<00:00,  3.49it/s]\n",
      " 70%|███████   | 105/150 [08:44<03:44,  4.98s/it]"
     ]
    },
    {
     "name": "stdout",
     "output_type": "stream",
     "text": [
      "epoch 104: train0.5540540540540541  val0.5287958115183246\n"
     ]
    },
    {
     "name": "stderr",
     "output_type": "stream",
     "text": [
      "100%|██████████| 5/5 [00:01<00:00,  3.47it/s]\n",
      "100%|██████████| 12/12 [00:03<00:00,  3.48it/s]\n",
      " 71%|███████   | 106/150 [08:49<03:37,  4.95s/it]"
     ]
    },
    {
     "name": "stdout",
     "output_type": "stream",
     "text": [
      "epoch 105: train0.581081081081081  val0.518324607329843\n"
     ]
    },
    {
     "name": "stderr",
     "output_type": "stream",
     "text": [
      "100%|██████████| 5/5 [00:01<00:00,  3.44it/s]\n",
      "100%|██████████| 12/12 [00:03<00:00,  3.48it/s]\n",
      " 71%|███████▏  | 107/150 [08:54<03:32,  4.94s/it]"
     ]
    },
    {
     "name": "stdout",
     "output_type": "stream",
     "text": [
      "epoch 106: train0.6418918918918919  val0.518324607329843\n"
     ]
    },
    {
     "name": "stderr",
     "output_type": "stream",
     "text": [
      "100%|██████████| 5/5 [00:01<00:00,  3.43it/s]\n",
      "100%|██████████| 12/12 [00:03<00:00,  3.52it/s]\n",
      " 72%|███████▏  | 108/150 [08:59<03:26,  4.92s/it]"
     ]
    },
    {
     "name": "stdout",
     "output_type": "stream",
     "text": [
      "epoch 107: train0.5878378378378378  val0.518324607329843\n"
     ]
    },
    {
     "name": "stderr",
     "output_type": "stream",
     "text": [
      "100%|██████████| 5/5 [00:01<00:00,  3.47it/s]\n",
      "100%|██████████| 12/12 [00:03<00:00,  3.42it/s]\n",
      " 73%|███████▎  | 109/150 [09:04<03:22,  4.93s/it]"
     ]
    },
    {
     "name": "stdout",
     "output_type": "stream",
     "text": [
      "epoch 108: train0.5472972972972973  val0.5314136125654451\n"
     ]
    },
    {
     "name": "stderr",
     "output_type": "stream",
     "text": [
      "100%|██████████| 5/5 [00:01<00:00,  3.57it/s]\n",
      "100%|██████████| 12/12 [00:03<00:00,  3.49it/s]\n",
      " 73%|███████▎  | 110/150 [09:09<03:16,  4.91s/it]"
     ]
    },
    {
     "name": "stdout",
     "output_type": "stream",
     "text": [
      "epoch 109: train0.6081081081081081  val0.5287958115183246\n"
     ]
    },
    {
     "name": "stderr",
     "output_type": "stream",
     "text": [
      "100%|██████████| 5/5 [00:01<00:00,  3.46it/s]\n",
      "100%|██████████| 12/12 [00:03<00:00,  3.64it/s]\n",
      " 74%|███████▍  | 111/150 [09:13<03:09,  4.86s/it]"
     ]
    },
    {
     "name": "stdout",
     "output_type": "stream",
     "text": [
      "epoch 110: train0.6216216216216216  val0.5314136125654451\n"
     ]
    },
    {
     "name": "stderr",
     "output_type": "stream",
     "text": [
      "100%|██████████| 5/5 [00:01<00:00,  3.74it/s]\n",
      "100%|██████████| 12/12 [00:03<00:00,  3.66it/s]\n",
      " 75%|███████▍  | 112/150 [09:18<03:01,  4.79s/it]"
     ]
    },
    {
     "name": "stdout",
     "output_type": "stream",
     "text": [
      "epoch 111: train0.5608108108108109  val0.5209424083769634\n"
     ]
    },
    {
     "name": "stderr",
     "output_type": "stream",
     "text": [
      "100%|██████████| 5/5 [00:01<00:00,  3.62it/s]\n",
      "100%|██████████| 12/12 [00:03<00:00,  3.62it/s]\n",
      " 75%|███████▌  | 113/150 [09:23<02:56,  4.76s/it]"
     ]
    },
    {
     "name": "stdout",
     "output_type": "stream",
     "text": [
      "epoch 112: train0.5878378378378378  val0.518324607329843\n"
     ]
    },
    {
     "name": "stderr",
     "output_type": "stream",
     "text": [
      "100%|██████████| 5/5 [00:01<00:00,  3.63it/s]\n",
      "100%|██████████| 12/12 [00:03<00:00,  3.51it/s]\n",
      " 76%|███████▌  | 114/150 [09:28<02:51,  4.78s/it]"
     ]
    },
    {
     "name": "stdout",
     "output_type": "stream",
     "text": [
      "epoch 113: train0.6216216216216216  val0.5157068062827225\n"
     ]
    },
    {
     "name": "stderr",
     "output_type": "stream",
     "text": [
      "100%|██████████| 5/5 [00:01<00:00,  3.61it/s]\n",
      "100%|██████████| 12/12 [00:03<00:00,  3.41it/s]\n",
      " 77%|███████▋  | 115/150 [09:32<02:48,  4.82s/it]"
     ]
    },
    {
     "name": "stdout",
     "output_type": "stream",
     "text": [
      "epoch 114: train0.5540540540540541  val0.5104712041884817\n"
     ]
    },
    {
     "name": "stderr",
     "output_type": "stream",
     "text": [
      "100%|██████████| 5/5 [00:01<00:00,  3.35it/s]\n",
      "100%|██████████| 12/12 [00:03<00:00,  3.41it/s]\n",
      " 77%|███████▋  | 116/150 [09:37<02:45,  4.88s/it]"
     ]
    },
    {
     "name": "stdout",
     "output_type": "stream",
     "text": [
      "epoch 115: train0.581081081081081  val0.518324607329843\n"
     ]
    },
    {
     "name": "stderr",
     "output_type": "stream",
     "text": [
      "100%|██████████| 5/5 [00:01<00:00,  3.53it/s]\n",
      "100%|██████████| 12/12 [00:03<00:00,  3.45it/s]\n",
      " 78%|███████▊  | 117/150 [09:42<02:41,  4.89s/it]"
     ]
    },
    {
     "name": "stdout",
     "output_type": "stream",
     "text": [
      "epoch 116: train0.5945945945945946  val0.5157068062827225\n"
     ]
    },
    {
     "name": "stderr",
     "output_type": "stream",
     "text": [
      "100%|██████████| 5/5 [00:01<00:00,  3.55it/s]\n",
      "100%|██████████| 12/12 [00:03<00:00,  3.40it/s]\n",
      " 79%|███████▊  | 118/150 [09:47<02:36,  4.90s/it]"
     ]
    },
    {
     "name": "stdout",
     "output_type": "stream",
     "text": [
      "epoch 117: train0.5135135135135135  val0.5235602094240838\n"
     ]
    },
    {
     "name": "stderr",
     "output_type": "stream",
     "text": [
      "100%|██████████| 5/5 [00:01<00:00,  3.39it/s]\n",
      "100%|██████████| 12/12 [00:03<00:00,  3.46it/s]\n",
      " 79%|███████▉  | 119/150 [09:52<02:32,  4.92s/it]"
     ]
    },
    {
     "name": "stdout",
     "output_type": "stream",
     "text": [
      "epoch 118: train0.6013513513513513  val0.5157068062827225\n"
     ]
    },
    {
     "name": "stderr",
     "output_type": "stream",
     "text": [
      "100%|██████████| 5/5 [00:01<00:00,  3.49it/s]\n",
      "100%|██████████| 12/12 [00:03<00:00,  3.52it/s]\n",
      " 80%|████████  | 120/150 [09:57<02:26,  4.90s/it]"
     ]
    },
    {
     "name": "stdout",
     "output_type": "stream",
     "text": [
      "epoch 119: train0.5675675675675675  val0.5314136125654451\n"
     ]
    },
    {
     "name": "stderr",
     "output_type": "stream",
     "text": [
      "100%|██████████| 5/5 [00:01<00:00,  3.45it/s]\n",
      "100%|██████████| 12/12 [00:03<00:00,  3.46it/s]\n",
      " 81%|████████  | 121/150 [10:02<02:22,  4.91s/it]"
     ]
    },
    {
     "name": "stdout",
     "output_type": "stream",
     "text": [
      "epoch 120: train0.5337837837837838  val0.518324607329843\n"
     ]
    },
    {
     "name": "stderr",
     "output_type": "stream",
     "text": [
      "100%|██████████| 5/5 [00:01<00:00,  3.44it/s]\n",
      "100%|██████████| 12/12 [00:03<00:00,  3.39it/s]\n",
      " 81%|████████▏ | 122/150 [10:07<02:18,  4.93s/it]"
     ]
    },
    {
     "name": "stdout",
     "output_type": "stream",
     "text": [
      "epoch 121: train0.581081081081081  val0.5261780104712042\n"
     ]
    },
    {
     "name": "stderr",
     "output_type": "stream",
     "text": [
      "100%|██████████| 5/5 [00:01<00:00,  3.38it/s]\n",
      "100%|██████████| 12/12 [00:03<00:00,  3.42it/s]\n",
      " 82%|████████▏ | 123/150 [10:12<02:13,  4.95s/it]"
     ]
    },
    {
     "name": "stdout",
     "output_type": "stream",
     "text": [
      "epoch 122: train0.5337837837837838  val0.5287958115183246\n"
     ]
    },
    {
     "name": "stderr",
     "output_type": "stream",
     "text": [
      "100%|██████████| 5/5 [00:01<00:00,  3.43it/s]\n",
      "100%|██████████| 12/12 [00:03<00:00,  3.48it/s]\n",
      " 83%|████████▎ | 124/150 [10:17<02:08,  4.94s/it]"
     ]
    },
    {
     "name": "stdout",
     "output_type": "stream",
     "text": [
      "epoch 123: train0.6148648648648649  val0.5157068062827225\n"
     ]
    },
    {
     "name": "stderr",
     "output_type": "stream",
     "text": [
      "100%|██████████| 5/5 [00:01<00:00,  3.38it/s]\n",
      "100%|██████████| 12/12 [00:03<00:00,  3.49it/s]\n",
      " 83%|████████▎ | 125/150 [10:22<02:03,  4.94s/it]"
     ]
    },
    {
     "name": "stdout",
     "output_type": "stream",
     "text": [
      "epoch 124: train0.6081081081081081  val0.5209424083769634\n"
     ]
    },
    {
     "name": "stderr",
     "output_type": "stream",
     "text": [
      "100%|██████████| 5/5 [00:01<00:00,  3.42it/s]\n",
      "100%|██████████| 12/12 [00:03<00:00,  3.45it/s]\n",
      " 84%|████████▍ | 126/150 [10:27<01:58,  4.94s/it]"
     ]
    },
    {
     "name": "stdout",
     "output_type": "stream",
     "text": [
      "epoch 125: train0.5743243243243243  val0.5130890052356021\n"
     ]
    },
    {
     "name": "stderr",
     "output_type": "stream",
     "text": [
      "100%|██████████| 5/5 [00:01<00:00,  3.49it/s]\n",
      "100%|██████████| 12/12 [00:03<00:00,  3.38it/s]\n",
      " 85%|████████▍ | 127/150 [10:32<01:54,  4.96s/it]"
     ]
    },
    {
     "name": "stdout",
     "output_type": "stream",
     "text": [
      "epoch 126: train0.6081081081081081  val0.518324607329843\n"
     ]
    },
    {
     "name": "stderr",
     "output_type": "stream",
     "text": [
      "100%|██████████| 5/5 [00:01<00:00,  3.44it/s]\n",
      "100%|██████████| 12/12 [00:03<00:00,  3.45it/s]\n",
      " 85%|████████▌ | 128/150 [10:37<01:48,  4.95s/it]"
     ]
    },
    {
     "name": "stdout",
     "output_type": "stream",
     "text": [
      "epoch 127: train0.5945945945945946  val0.518324607329843\n"
     ]
    },
    {
     "name": "stderr",
     "output_type": "stream",
     "text": [
      "100%|██████████| 5/5 [00:01<00:00,  3.49it/s]\n",
      "100%|██████████| 12/12 [00:03<00:00,  3.39it/s]\n",
      " 86%|████████▌ | 129/150 [10:42<01:44,  4.96s/it]"
     ]
    },
    {
     "name": "stdout",
     "output_type": "stream",
     "text": [
      "epoch 128: train0.5945945945945946  val0.5157068062827225\n"
     ]
    },
    {
     "name": "stderr",
     "output_type": "stream",
     "text": [
      "100%|██████████| 5/5 [00:01<00:00,  3.55it/s]\n",
      "100%|██████████| 12/12 [00:03<00:00,  3.44it/s]\n",
      " 87%|████████▋ | 130/150 [10:47<01:38,  4.95s/it]"
     ]
    },
    {
     "name": "stdout",
     "output_type": "stream",
     "text": [
      "epoch 129: train0.5675675675675675  val0.5209424083769634\n"
     ]
    },
    {
     "name": "stderr",
     "output_type": "stream",
     "text": [
      "100%|██████████| 5/5 [00:01<00:00,  3.38it/s]\n",
      "100%|██████████| 12/12 [00:03<00:00,  3.46it/s]\n",
      " 87%|████████▋ | 131/150 [10:52<01:34,  4.95s/it]"
     ]
    },
    {
     "name": "stdout",
     "output_type": "stream",
     "text": [
      "epoch 130: train0.6148648648648649  val0.5157068062827225\n"
     ]
    },
    {
     "name": "stderr",
     "output_type": "stream",
     "text": [
      "100%|██████████| 5/5 [00:01<00:00,  3.54it/s]\n",
      "100%|██████████| 12/12 [00:03<00:00,  3.44it/s]\n",
      " 88%|████████▊ | 132/150 [10:57<01:28,  4.94s/it]"
     ]
    },
    {
     "name": "stdout",
     "output_type": "stream",
     "text": [
      "epoch 131: train0.5945945945945946  val0.5157068062827225\n"
     ]
    },
    {
     "name": "stderr",
     "output_type": "stream",
     "text": [
      "100%|██████████| 5/5 [00:01<00:00,  3.41it/s]\n",
      "100%|██████████| 12/12 [00:03<00:00,  3.46it/s]\n",
      " 89%|████████▊ | 133/150 [11:01<01:23,  4.94s/it]"
     ]
    },
    {
     "name": "stdout",
     "output_type": "stream",
     "text": [
      "epoch 132: train0.5945945945945946  val0.5104712041884817\n"
     ]
    },
    {
     "name": "stderr",
     "output_type": "stream",
     "text": [
      "100%|██████████| 5/5 [00:01<00:00,  3.45it/s]\n",
      "100%|██████████| 12/12 [00:03<00:00,  3.39it/s]\n",
      " 89%|████████▉ | 134/150 [11:06<01:19,  4.95s/it]"
     ]
    },
    {
     "name": "stdout",
     "output_type": "stream",
     "text": [
      "epoch 133: train0.6148648648648649  val0.5157068062827225\n"
     ]
    },
    {
     "name": "stderr",
     "output_type": "stream",
     "text": [
      "100%|██████████| 5/5 [00:01<00:00,  3.45it/s]\n",
      "100%|██████████| 12/12 [00:03<00:00,  3.42it/s]\n",
      " 90%|█████████ | 135/150 [11:11<01:14,  4.96s/it]"
     ]
    },
    {
     "name": "stdout",
     "output_type": "stream",
     "text": [
      "epoch 134: train0.5540540540540541  val0.5209424083769634\n"
     ]
    },
    {
     "name": "stderr",
     "output_type": "stream",
     "text": [
      "100%|██████████| 5/5 [00:01<00:00,  3.43it/s]\n",
      "100%|██████████| 12/12 [00:03<00:00,  3.48it/s]\n",
      " 91%|█████████ | 136/150 [11:16<01:09,  4.95s/it]"
     ]
    },
    {
     "name": "stdout",
     "output_type": "stream",
     "text": [
      "epoch 135: train0.5675675675675675  val0.5261780104712042\n"
     ]
    },
    {
     "name": "stderr",
     "output_type": "stream",
     "text": [
      "100%|██████████| 5/5 [00:01<00:00,  3.46it/s]\n",
      "100%|██████████| 12/12 [00:03<00:00,  3.50it/s]\n",
      " 91%|█████████▏| 137/150 [11:21<01:04,  4.93s/it]"
     ]
    },
    {
     "name": "stdout",
     "output_type": "stream",
     "text": [
      "epoch 136: train0.5  val0.518324607329843\n"
     ]
    },
    {
     "name": "stderr",
     "output_type": "stream",
     "text": [
      "100%|██████████| 5/5 [00:01<00:00,  3.56it/s]\n",
      "100%|██████████| 12/12 [00:03<00:00,  3.66it/s]\n",
      " 92%|█████████▏| 138/150 [11:26<00:58,  4.86s/it]"
     ]
    },
    {
     "name": "stdout",
     "output_type": "stream",
     "text": [
      "epoch 137: train0.5878378378378378  val0.5235602094240838\n"
     ]
    },
    {
     "name": "stderr",
     "output_type": "stream",
     "text": [
      "100%|██████████| 5/5 [00:01<00:00,  3.62it/s]\n",
      "100%|██████████| 12/12 [00:03<00:00,  3.74it/s]\n",
      " 93%|█████████▎| 139/150 [11:31<00:52,  4.78s/it]"
     ]
    },
    {
     "name": "stdout",
     "output_type": "stream",
     "text": [
      "epoch 138: train0.581081081081081  val0.5287958115183246\n"
     ]
    },
    {
     "name": "stderr",
     "output_type": "stream",
     "text": [
      "100%|██████████| 5/5 [00:01<00:00,  3.61it/s]\n",
      "100%|██████████| 12/12 [00:03<00:00,  3.54it/s]\n",
      " 93%|█████████▎| 140/150 [11:35<00:47,  4.78s/it]"
     ]
    },
    {
     "name": "stdout",
     "output_type": "stream",
     "text": [
      "epoch 139: train0.5540540540540541  val0.5235602094240838\n"
     ]
    },
    {
     "name": "stderr",
     "output_type": "stream",
     "text": [
      "100%|██████████| 5/5 [00:01<00:00,  3.57it/s]\n",
      "100%|██████████| 12/12 [00:03<00:00,  3.56it/s]\n",
      " 94%|█████████▍| 141/150 [11:40<00:43,  4.78s/it]"
     ]
    },
    {
     "name": "stdout",
     "output_type": "stream",
     "text": [
      "epoch 140: train0.5945945945945946  val0.5261780104712042\n"
     ]
    },
    {
     "name": "stderr",
     "output_type": "stream",
     "text": [
      "100%|██████████| 5/5 [00:01<00:00,  3.63it/s]\n",
      "100%|██████████| 12/12 [00:03<00:00,  3.60it/s]\n",
      " 95%|█████████▍| 142/150 [11:45<00:38,  4.76s/it]"
     ]
    },
    {
     "name": "stdout",
     "output_type": "stream",
     "text": [
      "epoch 141: train0.5743243243243243  val0.5209424083769634\n"
     ]
    },
    {
     "name": "stderr",
     "output_type": "stream",
     "text": [
      "100%|██████████| 5/5 [00:01<00:00,  3.64it/s]\n",
      "100%|██████████| 12/12 [00:03<00:00,  3.58it/s]\n",
      " 95%|█████████▌| 143/150 [11:50<00:33,  4.75s/it]"
     ]
    },
    {
     "name": "stdout",
     "output_type": "stream",
     "text": [
      "epoch 142: train0.6283783783783784  val0.518324607329843\n"
     ]
    },
    {
     "name": "stderr",
     "output_type": "stream",
     "text": [
      "100%|██████████| 5/5 [00:01<00:00,  3.57it/s]\n",
      "100%|██████████| 12/12 [00:03<00:00,  3.47it/s]\n",
      " 96%|█████████▌| 144/150 [11:54<00:28,  4.79s/it]"
     ]
    },
    {
     "name": "stdout",
     "output_type": "stream",
     "text": [
      "epoch 143: train0.5540540540540541  val0.518324607329843\n"
     ]
    },
    {
     "name": "stderr",
     "output_type": "stream",
     "text": [
      "100%|██████████| 5/5 [00:01<00:00,  3.53it/s]\n",
      "100%|██████████| 12/12 [00:03<00:00,  3.42it/s]\n",
      " 97%|█████████▋| 145/150 [11:59<00:24,  4.83s/it]"
     ]
    },
    {
     "name": "stdout",
     "output_type": "stream",
     "text": [
      "epoch 144: train0.5540540540540541  val0.5287958115183246\n"
     ]
    },
    {
     "name": "stderr",
     "output_type": "stream",
     "text": [
      "100%|██████████| 5/5 [00:01<00:00,  3.43it/s]\n",
      "100%|██████████| 12/12 [00:03<00:00,  3.50it/s]\n",
      " 97%|█████████▋| 146/150 [12:04<00:19,  4.85s/it]"
     ]
    },
    {
     "name": "stdout",
     "output_type": "stream",
     "text": [
      "epoch 145: train0.6216216216216216  val0.5287958115183246\n"
     ]
    },
    {
     "name": "stderr",
     "output_type": "stream",
     "text": [
      "100%|██████████| 5/5 [00:01<00:00,  3.42it/s]\n",
      "100%|██████████| 12/12 [00:03<00:00,  3.44it/s]\n",
      " 98%|█████████▊| 147/150 [12:09<00:14,  4.88s/it]"
     ]
    },
    {
     "name": "stdout",
     "output_type": "stream",
     "text": [
      "epoch 146: train0.5675675675675675  val0.5261780104712042\n"
     ]
    },
    {
     "name": "stderr",
     "output_type": "stream",
     "text": [
      "100%|██████████| 5/5 [00:01<00:00,  3.51it/s]\n",
      "100%|██████████| 12/12 [00:03<00:00,  3.50it/s]\n",
      " 99%|█████████▊| 148/150 [12:14<00:09,  4.87s/it]"
     ]
    },
    {
     "name": "stdout",
     "output_type": "stream",
     "text": [
      "epoch 147: train0.5945945945945946  val0.5314136125654451\n"
     ]
    },
    {
     "name": "stderr",
     "output_type": "stream",
     "text": [
      "100%|██████████| 5/5 [00:01<00:00,  3.37it/s]\n",
      "100%|██████████| 12/12 [00:03<00:00,  3.53it/s]\n",
      " 99%|█████████▉| 149/150 [12:19<00:04,  4.88s/it]"
     ]
    },
    {
     "name": "stdout",
     "output_type": "stream",
     "text": [
      "epoch 148: train0.527027027027027  val0.5235602094240838\n"
     ]
    },
    {
     "name": "stderr",
     "output_type": "stream",
     "text": [
      "100%|██████████| 5/5 [00:01<00:00,  3.50it/s]\n",
      "100%|██████████| 12/12 [00:03<00:00,  3.53it/s]\n",
      "100%|██████████| 150/150 [12:24<00:00,  4.96s/it]"
     ]
    },
    {
     "name": "stdout",
     "output_type": "stream",
     "text": [
      "epoch 149: train0.5675675675675675  val0.5261780104712042\n"
     ]
    },
    {
     "name": "stderr",
     "output_type": "stream",
     "text": [
      "\n"
     ]
    }
   ],
   "source": [
    "from tqdm import tqdm\n",
    "\n",
    "for epoch in tqdm(range(num_epoch)):\n",
    "    model = model.train()\n",
    "    \n",
    "    losses = []\n",
    "    for batch_data, y in tqdm(train_dataloader, total=len(train_dataloader)):\n",
    "        this_batch_size =  len(y)\n",
    "\n",
    "        batch_label = torch.zeros([this_batch_size*1024])\n",
    "        for i in range(this_batch_size):\n",
    "            batch_label[1024 * i : 1024 * (i + 1)] = i\n",
    "\n",
    "        batch_data = batch_data.reshape((1024 * this_batch_size,3)).to(device)\n",
    "        batch_label = batch_label.type(torch.LongTensor).to(device)\n",
    "        pred_y, _, feature_transform = model(batch_data, batch_label)\n",
    "        true_y = y.detach().to(device)\n",
    "\n",
    "        class_loss = criteria(pred_y, true_y)\n",
    "        accuracy = float((pred_y.argmax(dim=1) == true_y).sum()) / float(this_batch_size)\n",
    "\n",
    "        id_matrix = torch.eye(feature_transform.shape[1]).to(feature_transform.device).view(1, 64, 64).repeat(feature_transform.shape[0], 1, 1)\n",
    "        transform_norm = torch.norm(torch.bmm(feature_transform, feature_transform.transpose(1, 2)) - id_matrix, dim=(1, 2))\n",
    "        reg_loss = transform_norm.mean()\n",
    "\n",
    "        loss = class_loss + reg_loss * 0.001\n",
    "        \n",
    "        losses.append({\n",
    "            \"loss\": loss.item(),\n",
    "            \"class_loss\": class_loss.item(),\n",
    "            \"reg_loss\": reg_loss.item(),\n",
    "            \"accuracy\": accuracy,\n",
    "            \"seen\": float(this_batch_size)})\n",
    "        \n",
    "        optimizer.zero_grad()\n",
    "        loss.backward()\n",
    "        optimizer.step()\n",
    "        scheduler.step()\n",
    "        \n",
    "    if (epoch % 50 == 0):\n",
    "        model_path = log_dir + f\"model_{epoch:06}.pth\"\n",
    "        torch.save(model.state_dict(), model_path)\n",
    "    \n",
    "    loss = 0\n",
    "    class_loss = 0\n",
    "    reg_loss = 0\n",
    "    accuracy = 0\n",
    "    seen = 0\n",
    "    for d in losses:\n",
    "        seen = seen + d[\"seen\"]\n",
    "        loss = loss + d[\"loss\"] * d[\"seen\"]\n",
    "        class_loss = class_loss + d[\"class_loss\"] * d[\"seen\"]\n",
    "        reg_loss = reg_loss + d[\"reg_loss\"] * d[\"seen\"]\n",
    "        accuracy = accuracy + d[\"accuracy\"] * d[\"seen\"]\n",
    "    loss = loss / seen\n",
    "    class_loss = class_loss / seen\n",
    "    reg_loss = reg_loss / seen\n",
    "    accuracy = accuracy / seen\n",
    "    taccuracy = accuracy\n",
    "    writer.add_scalar(\"train_epoch/loss\", loss, epoch)\n",
    "    writer.add_scalar(\"train_epoch/class_loss\", class_loss, epoch)\n",
    "    writer.add_scalar(\"train_epoch/reg_loss\", reg_loss, epoch)\n",
    "    writer.add_scalar(\"train_epoch/accuracy\", accuracy, epoch)\n",
    "    with torch.no_grad():\n",
    "        model = model.eval()\n",
    "\n",
    "        losses = []\n",
    "        for batch_data,y in tqdm(test_dataloader, total=len(test_dataloader)):\n",
    "            this_batch_size =  len(y)\n",
    "\n",
    "            batch_label = torch.zeros([this_batch_size*1024])\n",
    "            for i in range(this_batch_size):\n",
    "                batch_label[1024 * i : 1024 * (i + 1)] = i\n",
    "\n",
    "            batch_data = batch_data.reshape((1024 * this_batch_size,3)).to(device)\n",
    "            batch_label = batch_label.type(torch.LongTensor).to(device)\n",
    "\n",
    "\n",
    "            pred_y, _, feature_transform = model(batch_data,batch_label)\n",
    "            true_y = y.detach().to(device)\n",
    "\n",
    "            class_loss = criteria(pred_y, true_y)\n",
    "            accuracy =float((pred_y.argmax(dim=1) == true_y).sum()) / float(this_batch_size)\n",
    "\n",
    "            id_matrix = torch.eye(feature_transform.shape[1]).to(feature_transform.device).view(1, 64, 64).repeat(feature_transform.shape[0], 1, 1)\n",
    "            transform_norm = torch.norm(torch.bmm(feature_transform, feature_transform.transpose(1, 2)) - id_matrix, dim=(1, 2))\n",
    "            reg_loss = transform_norm.mean()\n",
    "\n",
    "            loss = class_loss + reg_loss * 0.001\n",
    "\n",
    "            losses.append({\n",
    "                \"loss\": loss.item(),\n",
    "                \"class_loss\": class_loss.item(),\n",
    "                \"reg_loss\": reg_loss.item(),\n",
    "                \"accuracy\": accuracy,\n",
    "                \"seen\": float(this_batch_size)})\n",
    "            \n",
    "        loss = 0\n",
    "        class_loss = 0\n",
    "        reg_loss = 0\n",
    "        accuracy = 0\n",
    "        seen = 0\n",
    "        for d in losses:\n",
    "            seen = seen + d[\"seen\"]\n",
    "            loss = loss + d[\"loss\"] * d[\"seen\"]\n",
    "            class_loss = class_loss + d[\"class_loss\"] * d[\"seen\"]\n",
    "            reg_loss = reg_loss + d[\"reg_loss\"] * d[\"seen\"]\n",
    "            accuracy = accuracy + d[\"accuracy\"] * d[\"seen\"]\n",
    "        loss = loss / seen\n",
    "        class_loss = class_loss / seen\n",
    "        reg_loss = reg_loss / seen\n",
    "        accuracy = accuracy / seen\n",
    "        writer.add_scalar(\"test_epoch/loss\", loss, epoch)\n",
    "        writer.add_scalar(\"test_epoch/class_loss\", class_loss, epoch)\n",
    "        writer.add_scalar(\"test_epoch/reg_loss\", reg_loss, epoch)\n",
    "        writer.add_scalar(\"test_epoch/accuracy\", accuracy, epoch)\n",
    "\n",
    "        print(\"epoch {}: train{}  val{}\".format(epoch,taccuracy,accuracy))"
   ]
  },
  {
   "cell_type": "code",
   "execution_count": 14,
   "metadata": {},
   "outputs": [],
   "source": [
    "from sklearn.metrics import classification_report\n",
    "PY = []\n",
    "Y = []\n",
    "with torch.no_grad():\n",
    "    model = model.eval()\n",
    "\n",
    "    for batch_data,y in test_dataloader:\n",
    "        this_batch_size =  len(y)\n",
    "        batch_label = torch.zeros([this_batch_size*1024])\n",
    "        for i in range(this_batch_size):\n",
    "            batch_label[1024 * i : 1024 * (i + 1)] = i\n",
    "\n",
    "        batch_data = batch_data.reshape((1024 * this_batch_size,3)).to(device)\n",
    "        batch_label = batch_label.type(torch.LongTensor).to(device)\n",
    "\n",
    "        pred_y, _, feature_transform = model(batch_data,batch_label)\n",
    "        true_y = y.detach().to(device)\n",
    "\n",
    "        accuracy =float((pred_y.argmax(dim=1) == true_y).sum()) / float(this_batch_size)\n",
    "        PY.extend(pred_y.argmax(dim=1).to('cpu').detach().numpy().copy())\n",
    "        Y.extend(true_y.to('cpu').detach().numpy().copy())"
   ]
  },
  {
   "cell_type": "code",
   "execution_count": 15,
   "metadata": {},
   "outputs": [
    {
     "name": "stdout",
     "output_type": "stream",
     "text": [
      "              precision    recall  f1-score   support\n",
      "\n",
      "           0       0.00      0.00      0.00        20\n",
      "           1       1.00      1.00      1.00        20\n",
      "           2       0.47      0.90      0.62        20\n",
      "           3       0.83      1.00      0.91        20\n",
      "           4       0.32      0.50      0.39        20\n",
      "           5       0.50      0.06      0.10        18\n",
      "           6       0.29      0.61      0.39        18\n",
      "           7       0.47      0.80      0.59        20\n",
      "           8       0.57      0.20      0.30        20\n",
      "           9       0.29      0.78      0.42        18\n",
      "          10       1.00      0.17      0.29        18\n",
      "          11       0.67      0.50      0.57        20\n",
      "          12       0.38      0.25      0.30        20\n",
      "          13       0.78      0.78      0.78        18\n",
      "          14       0.33      0.60      0.43        20\n",
      "          15       0.50      0.15      0.23        20\n",
      "          16       0.75      0.33      0.46        18\n",
      "          17       0.44      0.20      0.28        20\n",
      "          18       1.00      0.90      0.95        20\n",
      "          19       0.92      0.86      0.89        14\n",
      "\n",
      "    accuracy                           0.53       382\n",
      "   macro avg       0.58      0.53      0.49       382\n",
      "weighted avg       0.57      0.53      0.49       382\n",
      "\n"
     ]
    }
   ],
   "source": [
    "from sklearn.metrics import classification_report\n",
    "\n",
    "print(classification_report(Y, PY))"
   ]
  },
  {
   "cell_type": "code",
   "execution_count": 16,
   "metadata": {},
   "outputs": [
    {
     "data": {
      "text/plain": [
       "19"
      ]
     },
     "execution_count": 16,
     "metadata": {},
     "output_type": "execute_result"
    }
   ],
   "source": [
    "max(Y)"
   ]
  },
  {
   "cell_type": "code",
   "execution_count": 17,
   "metadata": {},
   "outputs": [
    {
     "data": {
      "text/plain": [
       "<AxesSubplot: >"
      ]
     },
     "execution_count": 17,
     "metadata": {},
     "output_type": "execute_result"
    },
    {
     "data": {
      "image/png": "[encoded data removed]",
      "text/plain": [
       "<Figure size 1560x1200 with 2 Axes>"
      ]
     },
     "metadata": {},
     "output_type": "display_data"
    }
   ],
   "source": [
    "from sklearn.metrics import confusion_matrix\n",
    "import seaborn as sns\n",
    "import matplotlib.pyplot as plt\n",
    "\n",
    "cm = confusion_matrix(Y,PY)\n",
    "fig = plt.figure(figsize=(13, 10), dpi=120)\n",
    "sns.heatmap(cm,annot=True, cmap='Blues')"
   ]
  },
  {
   "attachments": {},
   "cell_type": "markdown",
   "metadata": {},
   "source": [
    "## TODO"
   ]
  },
  {
   "attachments": {},
   "cell_type": "markdown",
   "metadata": {},
   "source": [
    "- 固定長に変換\n",
    "- モデルを少し変える\n",
    "- 学習"
   ]
  }
 ],
 "metadata": {
  "kernelspec": {
   "display_name": "pytorch1.12",
   "language": "python",
   "name": "python3"
  },
  "language_info": {
   "codemirror_mode": {
    "name": "ipython",
    "version": 3
   },
   "file_extension": ".py",
   "mimetype": "text/x-python",
   "name": "python",
   "nbconvert_exporter": "python",
   "pygments_lexer": "ipython3",
   "version": "3.8.13"
  },
  "orig_nbformat": 4,
  "vscode": {
   "interpreter": {
    "hash": "8b1e03098cd11ada630e6c4a8e24a92c7d455a6424403563c9091df57e4a236a"
   }
  }
 },
 "nbformat": 4,
 "nbformat_minor": 2
}
