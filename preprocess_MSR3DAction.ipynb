{
 "cells": [
  {
   "cell_type": "code",
   "execution_count": 1,
   "metadata": {},
   "outputs": [],
   "source": [
    "import numpy as np\n",
    "import os\n",
    "import open3d as o3d"
   ]
  },
  {
   "cell_type": "code",
   "execution_count": 2,
   "metadata": {},
   "outputs": [],
   "source": [
    "def read_bin(path):\n",
    "    #READING FROM FILE  \n",
    "    dim=[0,0]\n",
    "    fileData= []\n",
    "    with open(path, 'rb') as f:\n",
    "        frame = int.from_bytes(f.read(4),byteorder = 'little')\n",
    "        dim[0] = int.from_bytes(f.read(4),byteorder = 'little')\n",
    "        dim[1] = int.from_bytes(f.read(4),byteorder = 'little')\n",
    "        byteData = f.read(4)\n",
    "        while byteData:  # データがあるだけ以下を繰り返す\n",
    "            n = int.from_bytes(byteData, byteorder='little')  # 読み込んだデータを整数に変換\n",
    "            fileData.append(n)  # リストに追加\n",
    "            byteData = f.read(4)\n",
    "\n",
    "    #CONVERTING TO DEPTH MAP FORMAT \n",
    "    depth = list(map(float,fileData))\n",
    "    depthCountPerMap = dim[0] * dim[1]\n",
    "    depthMap = np.zeros((frame,dim[1],dim[0]),dtype=float)\n",
    "    for i in range(frame):\n",
    "        startIndex = i * depthCountPerMap\n",
    "        endIndex = (i+1) * depthCountPerMap\n",
    "        currentDepthData = np.array(depth[startIndex:endIndex])\n",
    "        depthMap[i,:,:] = currentDepthData.reshape(dim[1],dim[0])\n",
    "    return depthMap"
   ]
  },
  {
   "cell_type": "code",
   "execution_count": 3,
   "metadata": {},
   "outputs": [],
   "source": [
    "def furtest_point_sampling(points, n_samples):\n",
    "    \"\"\"\n",
    "    points: [N, 3] array containing the whole point cloud\n",
    "    n_samples: samples you want in the sampled point cloud typically << N \n",
    "    \"\"\"\n",
    "    #initialize\n",
    "    points = np.array(points)\n",
    "    points_left = np.arange(len(points))\n",
    "    sample_inds = np.zeros(n_samples, dtype='int')\n",
    "    dists = np.ones_like(points_left) * float('inf')\n",
    "    selected = 0\n",
    "    sample_inds[0] = points_left[selected]\n",
    "    points_left = np.delete(points_left, selected)\n",
    "\n",
    "    for i in range(1, n_samples):\n",
    "        last_added = sample_inds[i-1]    \n",
    "        dist_to_last_added_point = (\n",
    "            (points[last_added] - points[points_left])**2).sum(-1)\n",
    "        dists[points_left] = np.minimum(dist_to_last_added_point, \n",
    "                                        dists[points_left])\n",
    "        selected = np.argmax(dists[points_left])\n",
    "        sample_inds[i] = points_left[selected]\n",
    "        points_left = np.delete(points_left, selected)\n",
    "\n",
    "    return points[sample_inds]"
   ]
  },
  {
   "cell_type": "code",
   "execution_count": 4,
   "metadata": {},
   "outputs": [],
   "source": [
    "def concatenate_seq_pcd(a):\n",
    "    pcd = a[0]\n",
    "    for i in range(1,len(a)):\n",
    "        pcd = np.concatenate([pcd,a[i]])\n",
    "    return pcd"
   ]
  },
  {
   "cell_type": "code",
   "execution_count": 5,
   "metadata": {},
   "outputs": [],
   "source": [
    "def process_one_action(path,ply=False):\n",
    "    depth = read_bin(path)\n",
    "    focal = 280\n",
    "    xx, yy = np.meshgrid(np.arange(depth.shape[2]), np.arange(depth.shape[1]))\n",
    "\n",
    "    point_clouds = []\n",
    "    for d in range(depth.shape[0]):\n",
    "        depth_map = depth[d]\n",
    "\n",
    "        depth_min = depth_map[depth_map > 0].min()\n",
    "        depth_map = depth_map\n",
    "\n",
    "        x = xx[depth_map > 0]\n",
    "        y = yy[depth_map > 0]\n",
    "        z = depth_map[depth_map > 0]\n",
    "        x = (x - depth_map.shape[1] / 2) / focal * z\n",
    "        y = (y - depth_map.shape[0] / 2) / focal * z\n",
    "\n",
    "        points = np.stack([x, y, z], axis=-1)\n",
    "\n",
    "        point_clouds.append(points)\n",
    "\n",
    "    if ply:\n",
    "        pcd = o3d.geometry.PointCloud()\n",
    "        pcd.points = o3d.utility.Vector3dVector(np.array(point_clouds[0]))\n",
    "        o3d.io.write_point_cloud(\"DATA/MSRAction_npz/\" + path.split('/')[2][:-4] + \".ply\", pcd)\n",
    "    else:\n",
    "        pcd = concatenate_seq_pcd(point_clouds)\n",
    "        pcd = furtest_point_sampling(pcd,1024)\n",
    "        np.savez_compressed(\"DATA/MSRAction_npz_pp/\" + path.split('/')[2][:-4] + '.npz', point_clouds=pcd)"
   ]
  },
  {
   "cell_type": "code",
   "execution_count": 6,
   "metadata": {},
   "outputs": [],
   "source": [
    "def show_pointclouds(point_clouds):\n",
    "    pcd = o3d.geometry.PointCloud()\n",
    "    pcd.points = o3d.utility.Vector3dVector(point_clouds)\n",
    "    o3d.visualization.draw_geometries([pcd])"
   ]
  },
  {
   "cell_type": "code",
   "execution_count": null,
   "metadata": {},
   "outputs": [],
   "source": [
    "import multiprocessing\n",
    "from tqdm import tqdm\n",
    "\n",
    "input_dir = 'DATA/MSRAction3D_bin'\n",
    "files = os.listdir(input_dir)\n",
    "pool = multiprocessing.Pool(4)\n",
    "\n",
    "for input_file in files:\n",
    "    process_one_action(input_dir +\"/\"+ input_file)\n",
    "    pool.apply_async(process_one_action,(os.path.join(input_dir, input_file)))\n",
    "\n",
    "pool.close()\n",
    "pool.join()"
   ]
  }
 ],
 "metadata": {
  "kernelspec": {
   "display_name": "pytorch1.12",
   "language": "python",
   "name": "python3"
  },
  "language_info": {
   "codemirror_mode": {
    "name": "ipython",
    "version": 3
   },
   "file_extension": ".py",
   "mimetype": "text/x-python",
   "name": "python",
   "nbconvert_exporter": "python",
   "pygments_lexer": "ipython3",
   "version": "3.9.13 (main, Aug 25 2022, 18:24:45) \n[Clang 12.0.0 ]"
  },
  "orig_nbformat": 4,
  "vscode": {
   "interpreter": {
    "hash": "333f58ccc9c55b73347774f900429f7bf8931cea0ba5f13d1781f706049071fe"
   }
  }
 },
 "nbformat": 4,
 "nbformat_minor": 2
}
